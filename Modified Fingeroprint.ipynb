{
 "cells": [
  {
   "cell_type": "code",
   "execution_count": 12,
   "id": "deeef0c2",
   "metadata": {},
   "outputs": [],
   "source": [
    "from random import shuffle"
   ]
  },
  {
   "cell_type": "code",
   "execution_count": 2,
   "id": "149b4010",
   "metadata": {},
   "outputs": [],
   "source": [
    "doc1 = \"long ago when there was no written history these islands were the home of millions of happy birds the resort of a hundred times more millions of fishes sea lions and other creatures\"\n",
    "doc2 =\"in ages which have no record these islands were the home of millions of happy birds the resort of a hundred times more millions of pisces of sea lions and other animal\""
   ]
  },
  {
   "cell_type": "code",
   "execution_count": 3,
   "id": "f84132ba",
   "metadata": {},
   "outputs": [
    {
     "name": "stdout",
     "output_type": "stream",
     "text": [
      "{'n ', 'ng', 'of', 'me', 'om', 'ri', 'd ', 'go', 'en', 'to', 'li', 'ns', 'or', 'ry', 'ed', ' h', 'on', 're', ' c', 'he', 'rt', 'is', ' s', 'hi', 'ot', 'e ', ' i', ' m', 'hu', 'mi', 'st', 'f ', 'ho', ' t', 'es', 'ea', 'r ', 't ', 'pp', 'lo', 'ap', 'an', 'we', ' a', 'im', 'tt', 'g ', 'ir', 'wr', ' b', 'la', 'at', ' w', 'il', ' f', 'o ', 'fi', 'un', 'sl', 'dr', 'ag', 'll', 'ds', 'io', 'wh', 'as', 'sh', 'bi', ' r', 'so', 'mo', 'cr', 'ha', 'py', 'th', 'it', 'se', ' o', 'wa', 'ur', 'tu', ' l', 'rd', 'er', 's ', 'ti', 'te', 'y ', 'no', 'nd', 'a ', ' n'}\n",
      "{'n ', 'of', 'me', 'om', 'd ', 'li', 'ec', 'ns', 'or', 'ed', ' h', 'on', 're', 'co', 'ic', 'he', 'rt', 'is', ' s', 'hi', 'ot', 'e ', 've', ' i', ' m', 'hu', 'mi', 'f ', 'ge', 'ho', ' t', 'es', 'ea', 'r ', 't ', 'pp', 'ap', 'an', 'we', ' a', 'im', 'sc', 'ir', 'ni', 'ce', ' p', ' b', 'in', 'la', ' w', 'il', 'o ', 'un', 'sl', 'dr', 'al', 'ag', 'll', 'ds', 'io', 'wh', 'bi', ' r', 'so', 'mo', 'av', 'pi', 'ha', 'py', 'h ', 'ma', 'th', 'se', ' o', ' l', 'rd', 'er', 's ', 'ti', 'y ', 'no', 'nd', 'a ', ' n', 'ch'}\n"
     ]
    }
   ],
   "source": [
    "def shingle(text:str,k:int):\n",
    "    shingle_set =[]\n",
    "    for i in range(len(text)-k+1):\n",
    "        shingle_set.append(text[i:i+k])\n",
    "    return set(shingle_set)\n",
    "\n",
    "d1 = shingle(doc1,2)\n",
    "d2 = shingle(doc2,2)\n",
    "print(d1)\n",
    "print(d2)"
   ]
  },
  {
   "cell_type": "code",
   "execution_count": 4,
   "id": "1f92e648",
   "metadata": {},
   "outputs": [
    {
     "data": {
      "text/plain": [
       "['n ',\n",
       " 'ng',\n",
       " 'of',\n",
       " 'me',\n",
       " 'om',\n",
       " 'ri',\n",
       " 'd ',\n",
       " 'go',\n",
       " 'en',\n",
       " 'to',\n",
       " 'li',\n",
       " 'ec',\n",
       " 'ns',\n",
       " 'or',\n",
       " 'ry',\n",
       " 'ed',\n",
       " ' h',\n",
       " 'on',\n",
       " 're',\n",
       " 'co',\n",
       " 'ic',\n",
       " ' c',\n",
       " 'he',\n",
       " 'rt',\n",
       " 'is',\n",
       " ' s',\n",
       " 'hi',\n",
       " 'ot',\n",
       " 'e ',\n",
       " 've',\n",
       " ' i',\n",
       " ' m',\n",
       " 'hu',\n",
       " 'mi',\n",
       " 'st',\n",
       " 'f ',\n",
       " 'ge',\n",
       " 'ho',\n",
       " ' t',\n",
       " 'es',\n",
       " 'ea',\n",
       " 'r ',\n",
       " 't ',\n",
       " 'pp',\n",
       " 'lo',\n",
       " 'ap',\n",
       " 'an',\n",
       " 'we',\n",
       " ' a',\n",
       " 'im',\n",
       " 'tt',\n",
       " 'sc',\n",
       " 'g ',\n",
       " 'ir',\n",
       " 'ni',\n",
       " 'ce',\n",
       " ' p',\n",
       " 'wr',\n",
       " ' b',\n",
       " 'in',\n",
       " 'la',\n",
       " 'at',\n",
       " ' w',\n",
       " 'il',\n",
       " ' f',\n",
       " 'o ',\n",
       " 'fi',\n",
       " 'un',\n",
       " 'sl',\n",
       " 'dr',\n",
       " 'al',\n",
       " 'ag',\n",
       " 'll',\n",
       " 'ds',\n",
       " 'io',\n",
       " 'wh',\n",
       " 'as',\n",
       " 'sh',\n",
       " 'bi',\n",
       " ' r',\n",
       " 'so',\n",
       " 'mo',\n",
       " 'av',\n",
       " 'cr',\n",
       " 'pi',\n",
       " 'ha',\n",
       " 'py',\n",
       " 'h ',\n",
       " 'ma',\n",
       " 'th',\n",
       " 'it',\n",
       " 'se',\n",
       " ' o',\n",
       " 'wa',\n",
       " 'ur',\n",
       " 'tu',\n",
       " ' l',\n",
       " 'rd',\n",
       " 'er',\n",
       " 's ',\n",
       " 'ti',\n",
       " 'te',\n",
       " 'y ',\n",
       " 'no',\n",
       " 'nd',\n",
       " 'a ',\n",
       " ' n',\n",
       " 'ch']"
      ]
     },
     "execution_count": 4,
     "metadata": {},
     "output_type": "execute_result"
    }
   ],
   "source": [
    "vocab = list(d1.union(d2))\n",
    "vocab"
   ]
  },
  {
   "cell_type": "code",
   "execution_count": 7,
   "id": "37e7e9d6",
   "metadata": {},
   "outputs": [
    {
     "data": {
      "text/plain": [
       "[1,\n",
       " 0,\n",
       " 1,\n",
       " 1,\n",
       " 1,\n",
       " 0,\n",
       " 1,\n",
       " 0,\n",
       " 0,\n",
       " 0,\n",
       " 1,\n",
       " 1,\n",
       " 1,\n",
       " 1,\n",
       " 0,\n",
       " 1,\n",
       " 1,\n",
       " 1,\n",
       " 1,\n",
       " 1,\n",
       " 1,\n",
       " 0,\n",
       " 1,\n",
       " 1,\n",
       " 1,\n",
       " 1,\n",
       " 1,\n",
       " 1,\n",
       " 1,\n",
       " 1,\n",
       " 1,\n",
       " 1,\n",
       " 1,\n",
       " 1,\n",
       " 0,\n",
       " 1,\n",
       " 1,\n",
       " 1,\n",
       " 1,\n",
       " 1,\n",
       " 1,\n",
       " 1,\n",
       " 1,\n",
       " 1,\n",
       " 0,\n",
       " 1,\n",
       " 1,\n",
       " 1,\n",
       " 1,\n",
       " 1,\n",
       " 0,\n",
       " 1,\n",
       " 0,\n",
       " 1,\n",
       " 1,\n",
       " 1,\n",
       " 1,\n",
       " 0,\n",
       " 1,\n",
       " 1,\n",
       " 1,\n",
       " 0,\n",
       " 1,\n",
       " 1,\n",
       " 0,\n",
       " 1,\n",
       " 0,\n",
       " 1,\n",
       " 1,\n",
       " 1,\n",
       " 1,\n",
       " 1,\n",
       " 1,\n",
       " 1,\n",
       " 1,\n",
       " 1,\n",
       " 0,\n",
       " 0,\n",
       " 1,\n",
       " 1,\n",
       " 1,\n",
       " 1,\n",
       " 1,\n",
       " 0,\n",
       " 1,\n",
       " 1,\n",
       " 1,\n",
       " 1,\n",
       " 1,\n",
       " 1,\n",
       " 0,\n",
       " 1,\n",
       " 1,\n",
       " 0,\n",
       " 0,\n",
       " 0,\n",
       " 1,\n",
       " 1,\n",
       " 1,\n",
       " 1,\n",
       " 1,\n",
       " 0,\n",
       " 1,\n",
       " 1,\n",
       " 1,\n",
       " 1,\n",
       " 1,\n",
       " 1]"
      ]
     },
     "execution_count": 7,
     "metadata": {},
     "output_type": "execute_result"
    }
   ],
   "source": [
    "d1_en =[1 if x in d1 else 0 for x in vocab]\n",
    "d2_en =[1 if x in d2 else 0 for x in vocab]\n",
    "\n",
    "d1_en\n",
    "d2_en"
   ]
  },
  {
   "cell_type": "code",
   "execution_count": 27,
   "id": "67d17cc0",
   "metadata": {
    "scrolled": false
   },
   "outputs": [],
   "source": [
    "def create_hash(size:int):\n",
    "    hash_ex = list(range(1,len(vocab)+1))\n",
    "    shuffle(hash_ex)\n",
    "    return hash_ex\n",
    "\n",
    "def build_minhash_func(vocab_size:int,nbits:int):\n",
    "    hashes=[]\n",
    "    for _ in range(nbits):\n",
    "        hashes.append(create_hash(vocab_size))\n",
    "    return hashes\n",
    "#creates a array of 64bit hash\n",
    "minhash_func =build_minhash_func(len(vocab),64)"
   ]
  },
  {
   "cell_type": "code",
   "execution_count": 28,
   "id": "f89a6bc2",
   "metadata": {},
   "outputs": [
    {
     "name": "stdout",
     "output_type": "stream",
     "text": [
      "[102, 46, 32, 105, 45, 81, 2, 63, 30, 99, 6, 94, 49, 32, 105, 26, 86, 22, 30, 48, 12, 8, 6, 39, 61, 74, 46, 103, 58, 62, 41, 101, 26, 97, 39, 74, 41, 105, 62, 95, 28, 44, 85, 100, 23, 37, 66, 67, 86, 31, 76, 86, 90, 18, 63, 64, 12, 46, 63, 66, 64, 30, 45, 9]\n",
      "[20, 46, 82, 105, 45, 81, 2, 56, 82, 99, 6, 43, 49, 32, 11, 29, 86, 22, 30, 48, 56, 19, 6, 39, 12, 74, 46, 103, 58, 62, 41, 0, 26, 97, 39, 74, 41, 105, 62, 36, 28, 30, 85, 100, 23, 37, 24, 67, 86, 31, 63, 86, 71, 18, 63, 85, 12, 46, 63, 11, 59, 30, 36, 13]\n"
     ]
    }
   ],
   "source": [
    "def create_hash(vector: list):\n",
    "    # use this function for creating our signatures (eg the matching)\n",
    "    signature = []\n",
    "    for func in minhash_func:\n",
    "        for i in range(1, len(vocab)+1):\n",
    "            idx = func.index(i)\n",
    "            signature_val = vector[idx]\n",
    "            if signature_val == 1:\n",
    "                signature.append(idx)\n",
    "                break\n",
    "    return signature\n",
    "\n",
    "a_sig = create_hash(d1_en)\n",
    "b_sig = create_hash(d2_en)\n",
    "\n",
    "\n",
    "print(a_sig)\n",
    "print(b_sig)"
   ]
  },
  {
   "cell_type": "code",
   "execution_count": 32,
   "id": "c87a6c73",
   "metadata": {},
   "outputs": [],
   "source": [
    "def jaccard(x,y):\n",
    "    return len(x.intersection(y))/len(x.union(y))"
   ]
  },
  {
   "cell_type": "code",
   "execution_count": 33,
   "id": "f15ed626",
   "metadata": {},
   "outputs": [
    {
     "data": {
      "text/plain": [
       "0.5535714285714286"
      ]
     },
     "execution_count": 33,
     "metadata": {},
     "output_type": "execute_result"
    }
   ],
   "source": [
    "jaccard(set(a_sig),set(b_sig))"
   ]
  },
  {
   "cell_type": "code",
   "execution_count": null,
   "id": "f6a6fde1",
   "metadata": {},
   "outputs": [],
   "source": []
  },
  {
   "cell_type": "code",
   "execution_count": null,
   "id": "38c04e22",
   "metadata": {},
   "outputs": [],
   "source": []
  },
  {
   "cell_type": "code",
   "execution_count": null,
   "id": "77e64a8c",
   "metadata": {},
   "outputs": [],
   "source": []
  },
  {
   "cell_type": "code",
   "execution_count": null,
   "id": "decc6a1e",
   "metadata": {},
   "outputs": [],
   "source": []
  },
  {
   "cell_type": "code",
   "execution_count": null,
   "id": "f595f5f6",
   "metadata": {},
   "outputs": [],
   "source": []
  },
  {
   "cell_type": "code",
   "execution_count": null,
   "id": "6aa90804",
   "metadata": {},
   "outputs": [],
   "source": []
  },
  {
   "cell_type": "code",
   "execution_count": null,
   "id": "5310372b",
   "metadata": {},
   "outputs": [],
   "source": []
  },
  {
   "cell_type": "code",
   "execution_count": null,
   "id": "a405091f",
   "metadata": {},
   "outputs": [],
   "source": []
  },
  {
   "cell_type": "code",
   "execution_count": null,
   "id": "cbe6ea3f",
   "metadata": {},
   "outputs": [],
   "source": []
  },
  {
   "cell_type": "code",
   "execution_count": null,
   "id": "f89732a4",
   "metadata": {},
   "outputs": [],
   "source": []
  }
 ],
 "metadata": {
  "kernelspec": {
   "display_name": "Python 3 (ipykernel)",
   "language": "python",
   "name": "python3"
  },
  "language_info": {
   "codemirror_mode": {
    "name": "ipython",
    "version": 3
   },
   "file_extension": ".py",
   "mimetype": "text/x-python",
   "name": "python",
   "nbconvert_exporter": "python",
   "pygments_lexer": "ipython3",
   "version": "3.10.9"
  }
 },
 "nbformat": 4,
 "nbformat_minor": 5
}
