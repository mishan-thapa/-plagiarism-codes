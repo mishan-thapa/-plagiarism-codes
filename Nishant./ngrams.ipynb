{
 "cells": [
  {
   "cell_type": "code",
   "execution_count": 2,
   "id": "c5e91de5",
   "metadata": {},
   "outputs": [],
   "source": [
    "import pandas as pd\n",
    "import csv\n",
    "import nltk\n",
    "import numpy as np"
   ]
  },
  {
   "cell_type": "code",
   "execution_count": 3,
   "id": "18cae129",
   "metadata": {},
   "outputs": [],
   "source": [
    "import matplotlib.pyplot as plt"
   ]
  },
  {
   "cell_type": "code",
   "execution_count": 4,
   "id": "7fbdd59f",
   "metadata": {},
   "outputs": [],
   "source": [
    "from nltk.tokenize import word_tokenize\n",
    "from nltk.corpus import stopwords\n",
    "from nltk.stem import WordNetLemmatizer\n",
    "from nltk import ngrams\n",
    "from sklearn.feature_extraction.text import TfidfVectorizer\n",
    "from sklearn.metrics.pairwise import cosine_similarity\n",
    "from sklearn.metrics import jaccard_score\n",
    "from scipy.spatial import distance"
   ]
  },
  {
   "cell_type": "code",
   "execution_count": 5,
   "id": "4d422d18",
   "metadata": {},
   "outputs": [],
   "source": [
    "text=\"Hello there, General Kenobi\"\n",
    "tokens = word_tokenize(text)"
   ]
  },
  {
   "cell_type": "code",
   "execution_count": 6,
   "id": "b517946e",
   "metadata": {},
   "outputs": [
    {
     "name": "stdout",
     "output_type": "stream",
     "text": [
      "[('Hello', 'there'), ('there', ','), (',', 'General'), ('General', 'Kenobi')]\n"
     ]
    }
   ],
   "source": [
    "bigrams_list = [grams for grams in ngrams(tokens, 2)]\n",
    "print(bigrams_list)"
   ]
  },
  {
   "cell_type": "code",
   "execution_count": 7,
   "id": "9b8066a7",
   "metadata": {},
   "outputs": [],
   "source": [
    "tfidf_vectorizer = TfidfVectorizer(ngram_range=(2, 2))\n",
    "bigrams_list = [\" \".join(bigram) for bigram in bigrams_list]\n",
    "tfidf_matrix = tfidf_vectorizer.fit_transform(bigrams_list)"
   ]
  },
  {
   "cell_type": "code",
   "execution_count": 8,
   "id": "ef013b08",
   "metadata": {},
   "outputs": [],
   "source": [
    "# compute the TF-IDF vectors\n",
    "tfidf_vectors = tfidf_vectorizer.fit_transform(bigrams_list)\n",
    "# calculate the cosine similarity between the vectors\n",
    "similarity_matrix = cosine_similarity(tfidf_vectors)"
   ]
  },
  {
   "cell_type": "code",
   "execution_count": 9,
   "id": "d2d62acd",
   "metadata": {},
   "outputs": [
    {
     "name": "stdout",
     "output_type": "stream",
     "text": [
      "Average similarity score: 0.125\n"
     ]
    }
   ],
   "source": [
    "# calculate the average similarity score\n",
    "average_similarity = np.mean(similarity_matrix)\n",
    "\n",
    "# print the average similarity score\n",
    "print(\"Average similarity score:\", average_similarity)"
   ]
  },
  {
   "cell_type": "code",
   "execution_count": 10,
   "id": "a3c8b61b",
   "metadata": {},
   "outputs": [],
   "source": [
    "text1=\"object-oriented programming inheritance way form new class instance called object using class already defined inheritance concept invented 1967 simula new class known derived class take inherit attribute behavior pre-existing class referred base class ancestor class intended help reuse existing code little modification inheritance provides support representation categorization computer language categorization powerful mechanism number information processing crucial human learning mean generalization known specific entity applied wider group given belongs relation established cognitive economy le information need stored specific entity particularity inheritance also sometimes called generalization is-a relationship represent hierarchy class object instance `` fruit '' generalization `` apple '' `` orange '' `` mango '' many others one consider fruit abstraction apple orange etc conversely since apple fruit i.e. apple is-a fruit apple may naturally inherit property common fruit fleshy container seed plant advantage inheritance module sufficiently similar interface share lot code reducing complexity program inheritance therefore another view dual called polymorphism describes many piece code controlled shared control code inheritance typically accomplished either overriding replacing one method exposed ancestor adding new method exposed ancestor complex inheritance inheritance used within design sufficiently mature may lead yo-yo problem \"\n",
    "text2=\"inheritance ability subclass inherit default protected public attribute method superclass object except java.lang.object cast object one superclass however object cast class relative example inheritance class living thing attribute like weight age class animal plant virus fungi subclass class living thing animal unique attribute organ hair etc method walking mating etc. also inherit attribute method superclass animal treated cast living thing however animal treated fungi object oriented programming inheritance also dependant access level modifier example private attribute method inherited virtual attribute method shadowed/overridden java attribute method implicitly virtual object variable store reference class subclass i.e specialised version however object variable store reference superclass i.e le specialised version original class \""
   ]
  },
  {
   "cell_type": "code",
   "execution_count": 74,
   "id": "fd928dd6",
   "metadata": {},
   "outputs": [],
   "source": [
    "text1 = \"Original texts are rarely found but their copies are readily available on the internet\"\n",
    "text2 = \"Additional texts are rarely seen but some can be available on the internet\""
   ]
  },
  {
   "cell_type": "code",
   "execution_count": 75,
   "id": "765e031d",
   "metadata": {},
   "outputs": [],
   "source": [
    "def tokenization(text1,text2,n):\n",
    "    tokens1 = word_tokenize(text1)\n",
    "    tokens2 = word_tokenize(text2)\n",
    "    ngrams_list1 = [grams for grams in ngrams(tokens1, n)]\n",
    "    ngrams_list2 = [grams for grams in ngrams(tokens2, n)]\n",
    "    ngrams_list1 = [\" \".join(ngram) for ngram in ngrams_list1]\n",
    "    ngrams_list2 = [\" \".join(ngram) for ngram in ngrams_list2]\n",
    "    return ngrams_list1,ngrams_list2"
   ]
  },
  {
   "cell_type": "code",
   "execution_count": 76,
   "id": "58eb266d",
   "metadata": {},
   "outputs": [],
   "source": [
    "def calculate_similarity(text1,text2,n):\n",
    "    # initialize the TfidfVectorizer\n",
    "    tfidf_vectorizer = TfidfVectorizer()\n",
    "    #tokenize lists first\n",
    "    ngrams_list1,ngrams_list2=tokenization(text1,text2,n)\n",
    "    #print(ngrams_list1)\n",
    "    #print(\"-----\")\n",
    "    #print(ngrams_list2)\n",
    "    # compute the TF-IDF vectors\n",
    "    tfidf_vectors1 = tfidf_vectorizer.fit_transform(ngrams_list1)\n",
    "    tfidf_vectors2 = tfidf_vectorizer.transform(ngrams_list2)\n",
    "    # calculate the cosine similarity between the vectors\n",
    "    similarity_score = cosine_similarity(tfidf_vectors1, tfidf_vectors2)[0][0]\n",
    "    return similarity_score"
   ]
  },
  {
   "cell_type": "code",
   "execution_count": 77,
   "id": "7018cf54",
   "metadata": {},
   "outputs": [
    {
     "name": "stdout",
     "output_type": "stream",
     "text": [
      "0.7165721057262565\n"
     ]
    }
   ],
   "source": [
    "similarity_score=calculate_similarity(text1,text2,3)\n",
    "print(similarity_score)"
   ]
  },
  {
   "cell_type": "code",
   "execution_count": 14,
   "id": "626e8399",
   "metadata": {},
   "outputs": [],
   "source": [
    "df=pd.read_csv(\"combined_data.csv\")\n",
    "df[\"bigram_similarity\"] = None"
   ]
  },
  {
   "cell_type": "code",
   "execution_count": 15,
   "id": "2e18c4d7",
   "metadata": {},
   "outputs": [],
   "source": [
    "# Iterate through the first 10 rows of the dataframe\n",
    "for index, row in df.iterrows():\n",
    "        #text1=\"person horse jump broken airplane .\"\n",
    "        #text2=\"person .\"\n",
    "        text1 = row[\"Original\"]\n",
    "        text2 = row[\"Additional\"]\n",
    "        #print(text1)\n",
    "        #print(text2)\n",
    "        similarity = calculate_similarity(text1, text2,2)\n",
    "        df.at[index, \"bigram_similarity\"] = similarity\n",
    "# save the dataframe to a new csv file\n",
    "df.to_csv(\"added.csv\", index=False)\n",
    "            "
   ]
  },
  {
   "cell_type": "code",
   "execution_count": 16,
   "id": "898da5f8",
   "metadata": {},
   "outputs": [],
   "source": [
    "df=pd.read_csv(\"added2.csv\")\n",
    "df[\"bigram_similarity\"] = None"
   ]
  },
  {
   "cell_type": "code",
   "execution_count": 17,
   "id": "f4add4de",
   "metadata": {},
   "outputs": [],
   "source": [
    "# Iterate through the first 10 rows of the dataframe\n",
    "for index, row in df.iterrows():\n",
    "        #text1=\"person horse jump broken airplane .\"\n",
    "        #text2=\"person .\"\n",
    "        text1 = row[\"Original\"]\n",
    "        text2 = row[\"Additional\"]\n",
    "        #print(text1)\n",
    "        #print(text2)\n",
    "        similarity = calculate_similarity(text1, text2,2)\n",
    "        df.at[index, \"biigram_similarity\"] = similarity\n",
    "# save the dataframe to a new csv file\n",
    "df.to_csv(\"added3.csv\", index=False)\n",
    "            "
   ]
  },
  {
   "cell_type": "code",
   "execution_count": 18,
   "id": "4697f82c",
   "metadata": {},
   "outputs": [
    {
     "data": {
      "text/html": [
       "<div>\n",
       "<style scoped>\n",
       "    .dataframe tbody tr th:only-of-type {\n",
       "        vertical-align: middle;\n",
       "    }\n",
       "\n",
       "    .dataframe tbody tr th {\n",
       "        vertical-align: top;\n",
       "    }\n",
       "\n",
       "    .dataframe thead th {\n",
       "        text-align: right;\n",
       "    }\n",
       "</style>\n",
       "<table border=\"1\" class=\"dataframe\">\n",
       "  <thead>\n",
       "    <tr style=\"text-align: right;\">\n",
       "      <th></th>\n",
       "      <th>Original</th>\n",
       "      <th>Additional</th>\n",
       "      <th>label</th>\n",
       "      <th>bigram_similarity</th>\n",
       "      <th>trigram_similarity</th>\n",
       "      <th>biigram_similarity</th>\n",
       "    </tr>\n",
       "  </thead>\n",
       "  <tbody>\n",
       "    <tr>\n",
       "      <th>0</th>\n",
       "      <td>object-oriented programming inheritance way fo...</td>\n",
       "      <td>inheritance basic concept object-oriented prog...</td>\n",
       "      <td>0</td>\n",
       "      <td>None</td>\n",
       "      <td>0.170391</td>\n",
       "      <td>0.000000</td>\n",
       "    </tr>\n",
       "    <tr>\n",
       "      <th>1</th>\n",
       "      <td>object-oriented programming inheritance way fo...</td>\n",
       "      <td>inheritance basic concept object oriented prog...</td>\n",
       "      <td>0</td>\n",
       "      <td>None</td>\n",
       "      <td>0.170391</td>\n",
       "      <td>0.000000</td>\n",
       "    </tr>\n",
       "    <tr>\n",
       "      <th>2</th>\n",
       "      <td>object-oriented programming inheritance way fo...</td>\n",
       "      <td>inheritance object oriented programming new cl...</td>\n",
       "      <td>1</td>\n",
       "      <td>None</td>\n",
       "      <td>0.826369</td>\n",
       "      <td>0.404976</td>\n",
       "    </tr>\n",
       "    <tr>\n",
       "      <th>3</th>\n",
       "      <td>object-oriented programming inheritance way fo...</td>\n",
       "      <td>inheritance object oriented programming way fo...</td>\n",
       "      <td>1</td>\n",
       "      <td>None</td>\n",
       "      <td>0.826369</td>\n",
       "      <td>0.404976</td>\n",
       "    </tr>\n",
       "    <tr>\n",
       "      <th>4</th>\n",
       "      <td>object-oriented programming inheritance way fo...</td>\n",
       "      <td>object-oriented programming inheritance way fo...</td>\n",
       "      <td>1</td>\n",
       "      <td>None</td>\n",
       "      <td>1.000000</td>\n",
       "      <td>1.000000</td>\n",
       "    </tr>\n",
       "  </tbody>\n",
       "</table>\n",
       "</div>"
      ],
      "text/plain": [
       "                                            Original  \\\n",
       "0  object-oriented programming inheritance way fo...   \n",
       "1  object-oriented programming inheritance way fo...   \n",
       "2  object-oriented programming inheritance way fo...   \n",
       "3  object-oriented programming inheritance way fo...   \n",
       "4  object-oriented programming inheritance way fo...   \n",
       "\n",
       "                                          Additional  label bigram_similarity  \\\n",
       "0  inheritance basic concept object-oriented prog...      0              None   \n",
       "1  inheritance basic concept object oriented prog...      0              None   \n",
       "2  inheritance object oriented programming new cl...      1              None   \n",
       "3  inheritance object oriented programming way fo...      1              None   \n",
       "4  object-oriented programming inheritance way fo...      1              None   \n",
       "\n",
       "   trigram_similarity  biigram_similarity  \n",
       "0            0.170391            0.000000  \n",
       "1            0.170391            0.000000  \n",
       "2            0.826369            0.404976  \n",
       "3            0.826369            0.404976  \n",
       "4            1.000000            1.000000  "
      ]
     },
     "execution_count": 18,
     "metadata": {},
     "output_type": "execute_result"
    }
   ],
   "source": [
    "df.head()"
   ]
  },
  {
   "cell_type": "code",
   "execution_count": 19,
   "id": "b7497de7",
   "metadata": {},
   "outputs": [
    {
     "data": {
      "text/html": [
       "<div>\n",
       "<style scoped>\n",
       "    .dataframe tbody tr th:only-of-type {\n",
       "        vertical-align: middle;\n",
       "    }\n",
       "\n",
       "    .dataframe tbody tr th {\n",
       "        vertical-align: top;\n",
       "    }\n",
       "\n",
       "    .dataframe thead th {\n",
       "        text-align: right;\n",
       "    }\n",
       "</style>\n",
       "<table border=\"1\" class=\"dataframe\">\n",
       "  <thead>\n",
       "    <tr style=\"text-align: right;\">\n",
       "      <th></th>\n",
       "      <th>Original</th>\n",
       "      <th>Additional</th>\n",
       "      <th>label</th>\n",
       "      <th>bigram_similarity</th>\n",
       "      <th>trigram_similarity</th>\n",
       "      <th>biigram_similarity</th>\n",
       "    </tr>\n",
       "  </thead>\n",
       "  <tbody>\n",
       "    <tr>\n",
       "      <th>90</th>\n",
       "      <td>mathematics computer science dynamic programmi...</td>\n",
       "      <td>computer science mathematics dynamic programmi...</td>\n",
       "      <td>1</td>\n",
       "      <td>None</td>\n",
       "      <td>1.0</td>\n",
       "      <td>0.434788</td>\n",
       "    </tr>\n",
       "    <tr>\n",
       "      <th>91</th>\n",
       "      <td>mathematics computer science dynamic programmi...</td>\n",
       "      <td>mathematics computer science dynamic programmi...</td>\n",
       "      <td>1</td>\n",
       "      <td>None</td>\n",
       "      <td>1.0</td>\n",
       "      <td>1.000000</td>\n",
       "    </tr>\n",
       "    <tr>\n",
       "      <th>92</th>\n",
       "      <td>mathematics computer science dynamic programmi...</td>\n",
       "      <td>mathematics computer science dynamic programmi...</td>\n",
       "      <td>1</td>\n",
       "      <td>None</td>\n",
       "      <td>1.0</td>\n",
       "      <td>1.000000</td>\n",
       "    </tr>\n",
       "    <tr>\n",
       "      <th>93</th>\n",
       "      <td>mathematics computer science dynamic programmi...</td>\n",
       "      <td>dynamic programming method providing solution ...</td>\n",
       "      <td>1</td>\n",
       "      <td>None</td>\n",
       "      <td>0.0</td>\n",
       "      <td>0.000000</td>\n",
       "    </tr>\n",
       "    <tr>\n",
       "      <th>94</th>\n",
       "      <td>mathematics computer science dynamic programmi...</td>\n",
       "      <td>dynamic programming method efficiently solving...</td>\n",
       "      <td>0</td>\n",
       "      <td>None</td>\n",
       "      <td>0.0</td>\n",
       "      <td>0.000000</td>\n",
       "    </tr>\n",
       "  </tbody>\n",
       "</table>\n",
       "</div>"
      ],
      "text/plain": [
       "                                             Original  \\\n",
       "90  mathematics computer science dynamic programmi...   \n",
       "91  mathematics computer science dynamic programmi...   \n",
       "92  mathematics computer science dynamic programmi...   \n",
       "93  mathematics computer science dynamic programmi...   \n",
       "94  mathematics computer science dynamic programmi...   \n",
       "\n",
       "                                           Additional  label  \\\n",
       "90  computer science mathematics dynamic programmi...      1   \n",
       "91  mathematics computer science dynamic programmi...      1   \n",
       "92  mathematics computer science dynamic programmi...      1   \n",
       "93  dynamic programming method providing solution ...      1   \n",
       "94  dynamic programming method efficiently solving...      0   \n",
       "\n",
       "   bigram_similarity  trigram_similarity  biigram_similarity  \n",
       "90              None                 1.0            0.434788  \n",
       "91              None                 1.0            1.000000  \n",
       "92              None                 1.0            1.000000  \n",
       "93              None                 0.0            0.000000  \n",
       "94              None                 0.0            0.000000  "
      ]
     },
     "execution_count": 19,
     "metadata": {},
     "output_type": "execute_result"
    }
   ],
   "source": [
    "df.tail()"
   ]
  },
  {
   "cell_type": "code",
   "execution_count": 37,
   "id": "d0b1500a",
   "metadata": {},
   "outputs": [],
   "source": [
    "df=pd.read_csv(\"final.csv\")"
   ]
  },
  {
   "cell_type": "code",
   "execution_count": 38,
   "id": "719f41f0",
   "metadata": {},
   "outputs": [
    {
     "data": {
      "text/html": [
       "<div>\n",
       "<style scoped>\n",
       "    .dataframe tbody tr th:only-of-type {\n",
       "        vertical-align: middle;\n",
       "    }\n",
       "\n",
       "    .dataframe tbody tr th {\n",
       "        vertical-align: top;\n",
       "    }\n",
       "\n",
       "    .dataframe thead th {\n",
       "        text-align: right;\n",
       "    }\n",
       "</style>\n",
       "<table border=\"1\" class=\"dataframe\">\n",
       "  <thead>\n",
       "    <tr style=\"text-align: right;\">\n",
       "      <th></th>\n",
       "      <th>Original</th>\n",
       "      <th>Additional</th>\n",
       "      <th>label</th>\n",
       "      <th>trigram_similarity</th>\n",
       "      <th>bigram_similarity</th>\n",
       "    </tr>\n",
       "  </thead>\n",
       "  <tbody>\n",
       "    <tr>\n",
       "      <th>0</th>\n",
       "      <td>object-oriented programming inheritance way fo...</td>\n",
       "      <td>inheritance basic concept object-oriented prog...</td>\n",
       "      <td>0</td>\n",
       "      <td>0.170391</td>\n",
       "      <td>0.000000</td>\n",
       "    </tr>\n",
       "    <tr>\n",
       "      <th>1</th>\n",
       "      <td>object-oriented programming inheritance way fo...</td>\n",
       "      <td>inheritance basic concept object oriented prog...</td>\n",
       "      <td>0</td>\n",
       "      <td>0.170391</td>\n",
       "      <td>0.000000</td>\n",
       "    </tr>\n",
       "    <tr>\n",
       "      <th>2</th>\n",
       "      <td>object-oriented programming inheritance way fo...</td>\n",
       "      <td>inheritance object oriented programming new cl...</td>\n",
       "      <td>1</td>\n",
       "      <td>0.826369</td>\n",
       "      <td>0.404976</td>\n",
       "    </tr>\n",
       "    <tr>\n",
       "      <th>3</th>\n",
       "      <td>object-oriented programming inheritance way fo...</td>\n",
       "      <td>inheritance object oriented programming way fo...</td>\n",
       "      <td>1</td>\n",
       "      <td>0.826369</td>\n",
       "      <td>0.404976</td>\n",
       "    </tr>\n",
       "    <tr>\n",
       "      <th>4</th>\n",
       "      <td>object-oriented programming inheritance way fo...</td>\n",
       "      <td>object-oriented programming inheritance way fo...</td>\n",
       "      <td>1</td>\n",
       "      <td>1.000000</td>\n",
       "      <td>1.000000</td>\n",
       "    </tr>\n",
       "  </tbody>\n",
       "</table>\n",
       "</div>"
      ],
      "text/plain": [
       "                                            Original  \\\n",
       "0  object-oriented programming inheritance way fo...   \n",
       "1  object-oriented programming inheritance way fo...   \n",
       "2  object-oriented programming inheritance way fo...   \n",
       "3  object-oriented programming inheritance way fo...   \n",
       "4  object-oriented programming inheritance way fo...   \n",
       "\n",
       "                                          Additional  label  \\\n",
       "0  inheritance basic concept object-oriented prog...      0   \n",
       "1  inheritance basic concept object oriented prog...      0   \n",
       "2  inheritance object oriented programming new cl...      1   \n",
       "3  inheritance object oriented programming way fo...      1   \n",
       "4  object-oriented programming inheritance way fo...      1   \n",
       "\n",
       "   trigram_similarity  bigram_similarity  \n",
       "0            0.170391           0.000000  \n",
       "1            0.170391           0.000000  \n",
       "2            0.826369           0.404976  \n",
       "3            0.826369           0.404976  \n",
       "4            1.000000           1.000000  "
      ]
     },
     "execution_count": 38,
     "metadata": {},
     "output_type": "execute_result"
    }
   ],
   "source": [
    "df.head()"
   ]
  },
  {
   "cell_type": "code",
   "execution_count": 34,
   "id": "f531b0f1",
   "metadata": {},
   "outputs": [
    {
     "name": "stdout",
     "output_type": "stream",
     "text": [
      "Jaccard similarity: 0.416988416988417\n"
     ]
    }
   ],
   "source": [
    "from collections import Counter\n",
    "\n",
    "#text1 = \"The quick brown fox jumps over the lazy dog.\"\n",
    "#text2 = \"A quick brown fox was spotted playing with the lazy dog.\"\n",
    "\n",
    "\n",
    "# Tokenize the text into bigrams\n",
    "bigrams1 = [\" \".join(bigram) for bigram in ngrams(word_tokenize(text1), 2)]\n",
    "bigrams2 = [\" \".join(bigram) for bigram in ngrams(word_tokenize(text2), 2)]\n",
    "\n",
    "# Convert the bigrams lists to sets\n",
    "set1 = set(bigrams1)\n",
    "set2 = set(bigrams2)\n",
    "\n",
    "# Calculate the Jaccard similarity\n",
    "jaccard_similarity = len(set1.intersection(set2)) / len(set1.union(set2))\n",
    "\n",
    "print(\"Jaccard similarity:\", jaccard_similarity)\n"
   ]
  },
  {
   "cell_type": "code",
   "execution_count": 43,
   "id": "9f9ff529",
   "metadata": {},
   "outputs": [],
   "source": [
    "from collections import Counter"
   ]
  },
  {
   "cell_type": "code",
   "execution_count": 63,
   "id": "28ea0acf",
   "metadata": {},
   "outputs": [],
   "source": [
    "df=pd.read_csv(\"final.csv\")\n",
    "df[\"bigram_jaccard_similarity\"] = None"
   ]
  },
  {
   "cell_type": "code",
   "execution_count": 64,
   "id": "aa16e269",
   "metadata": {},
   "outputs": [],
   "source": [
    "def tokenization(text1,text2,n):\n",
    "    tokens1 = word_tokenize(text1)\n",
    "    tokens2 = word_tokenize(text2)\n",
    "    ngrams_list1 = [grams for grams in ngrams(tokens1, n)]\n",
    "    ngrams_list2 = [grams for grams in ngrams(tokens2, n)]\n",
    "    ngrams_list1 = [\" \".join(ngram) for ngram in ngrams_list1]\n",
    "    ngrams_list2 = [\" \".join(ngram) for ngram in ngrams_list2]\n",
    "    return ngrams_list1,ngrams_list2"
   ]
  },
  {
   "cell_type": "code",
   "execution_count": 80,
   "id": "ae20aef8",
   "metadata": {},
   "outputs": [],
   "source": [
    "def calculate_similarity(text1,text2,n):\n",
    "    # Convert the bigrams lists to sets\n",
    "    set1 = set(bigrams1)\n",
    "    set2 = set(bigrams2)\n",
    "\n",
    "    # Calculate the Jaccard similarity\n",
    "    jaccard_similarity = len(set1.intersection(set2)) / len(set1.union(set2))\n",
    "    return jaccard_similarity"
   ]
  },
  {
   "cell_type": "code",
   "execution_count": 66,
   "id": "d85563be",
   "metadata": {},
   "outputs": [],
   "source": [
    "# Iterate through the first 10 rows of the dataframe\n",
    "for index, row in df.iterrows():\n",
    "        text1 = row[\"Original\"]\n",
    "        text2 = row[\"Additional\"]\n",
    "        similarity = calculate_similarity(text1, text2,2)[0][0]\n",
    "        df.at[index, \"bigram_jaccard_similarity\"] = similarity\n",
    "# save the dataframe to a new csv file\n",
    "df.to_csv(\"final2.csv\", index=False)"
   ]
  },
  {
   "cell_type": "code",
   "execution_count": 82,
   "id": "f8a1f251",
   "metadata": {},
   "outputs": [],
   "source": [
    "df=pd.read_csv(\"final2.csv\")\n",
    "df[\"trigram_jaccard_similarity\"] = None\n",
    "# Iterate through the first 10 rows of the dataframe\n",
    "for index, row in df.iterrows():\n",
    "        text1 = row[\"Original\"]\n",
    "        text2 = row[\"Additional\"]\n",
    "        bigrams1 = [\" \".join(bigram) for bigram in ngrams(word_tokenize(text1), 3)]\n",
    "        bigrams2 = [\" \".join(bigram) for bigram in ngrams(word_tokenize(text2), 3)]\n",
    "        similarity = calculate_similarity(bigrams1, bigrams2,3)\n",
    "        df.at[index, \"trigram_jaccard_similarity\"] = similarity\n",
    "# save the dataframe to a new csv file\n",
    "df.to_csv(\"final2.csv\", index=False)"
   ]
  },
  {
   "cell_type": "code",
   "execution_count": 73,
   "id": "c1ca5d51",
   "metadata": {},
   "outputs": [
    {
     "name": "stdout",
     "output_type": "stream",
     "text": [
      "0.25\n"
     ]
    }
   ],
   "source": [
    "text1 = \"Original texts are rarely found but their copies are readily available on the internet\"\n",
    "text2 = \"Additional texts are rarely seen but some can be available on the internet\"\n",
    "bigrams1 = [\" \".join(bigram) for bigram in ngrams(word_tokenize(text1), 2)]\n",
    "bigrams2 = [\" \".join(bigram) for bigram in ngrams(word_tokenize(text2), 2)]\n",
    "similarity = calculate_similarity(bigrams1, bigrams2,2)\n",
    "print(similarity);"
   ]
  },
  {
   "cell_type": "code",
   "execution_count": null,
   "id": "5b53b80e",
   "metadata": {},
   "outputs": [],
   "source": []
  }
 ],
 "metadata": {
  "kernelspec": {
   "display_name": "Python 3 (ipykernel)",
   "language": "python",
   "name": "python3"
  },
  "language_info": {
   "codemirror_mode": {
    "name": "ipython",
    "version": 3
   },
   "file_extension": ".py",
   "mimetype": "text/x-python",
   "name": "python",
   "nbconvert_exporter": "python",
   "pygments_lexer": "ipython3",
   "version": "3.9.13"
  }
 },
 "nbformat": 4,
 "nbformat_minor": 5
}
