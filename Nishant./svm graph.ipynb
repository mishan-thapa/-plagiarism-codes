{
 "cells": [
  {
   "cell_type": "code",
   "execution_count": 1,
   "id": "6a3d836e",
   "metadata": {},
   "outputs": [],
   "source": [
    "# Support Vector Machine\n",
    "# Importing the libraries\n",
    "\n",
    "import numpy as np\n",
    "import matplotlib.pyplot as plt\n",
    "import pandas as pd"
   ]
  },
  {
   "cell_type": "code",
   "execution_count": 21,
   "id": "73c2f114",
   "metadata": {},
   "outputs": [],
   "source": [
    "import numpy as np\n",
    "import matplotlib.pyplot as plt\n",
    "from sklearn import svm\n",
    "from sklearn.model_selection import train_test_split\n",
    "from sklearn.metrics import accuracy_score\n",
    "from sklearn.metrics import f1_score\n",
    "from sklearn import metrics\n",
    "from sklearn.preprocessing import StandardScaler"
   ]
  },
  {
   "cell_type": "code",
   "execution_count": 4,
   "id": "86c38062",
   "metadata": {},
   "outputs": [],
   "source": [
    "df = pd.read_csv('final.csv')"
   ]
  },
  {
   "cell_type": "code",
   "execution_count": 6,
   "id": "4f16c3e7",
   "metadata": {},
   "outputs": [
    {
     "data": {
      "text/html": [
       "<div>\n",
       "<style scoped>\n",
       "    .dataframe tbody tr th:only-of-type {\n",
       "        vertical-align: middle;\n",
       "    }\n",
       "\n",
       "    .dataframe tbody tr th {\n",
       "        vertical-align: top;\n",
       "    }\n",
       "\n",
       "    .dataframe thead th {\n",
       "        text-align: right;\n",
       "    }\n",
       "</style>\n",
       "<table border=\"1\" class=\"dataframe\">\n",
       "  <thead>\n",
       "    <tr style=\"text-align: right;\">\n",
       "      <th></th>\n",
       "      <th>Original</th>\n",
       "      <th>Additional</th>\n",
       "      <th>label</th>\n",
       "      <th>fingerprint_similarity</th>\n",
       "      <th>simword_similarity</th>\n",
       "      <th>lsa_sim</th>\n",
       "      <th>bigram_similarity</th>\n",
       "      <th>trigram_similarity</th>\n",
       "    </tr>\n",
       "  </thead>\n",
       "  <tbody>\n",
       "    <tr>\n",
       "      <th>0</th>\n",
       "      <td>object-oriented programming inheritance way fo...</td>\n",
       "      <td>inheritance basic concept object-oriented prog...</td>\n",
       "      <td>0</td>\n",
       "      <td>0.455696</td>\n",
       "      <td>0.118644</td>\n",
       "      <td>0.235</td>\n",
       "      <td>0.849462</td>\n",
       "      <td>0.545220</td>\n",
       "    </tr>\n",
       "    <tr>\n",
       "      <th>1</th>\n",
       "      <td>object-oriented programming inheritance way fo...</td>\n",
       "      <td>inheritance basic concept object oriented prog...</td>\n",
       "      <td>0</td>\n",
       "      <td>0.375000</td>\n",
       "      <td>0.148352</td>\n",
       "      <td>0.216</td>\n",
       "      <td>0.843137</td>\n",
       "      <td>0.562212</td>\n",
       "    </tr>\n",
       "    <tr>\n",
       "      <th>2</th>\n",
       "      <td>object-oriented programming inheritance way fo...</td>\n",
       "      <td>inheritance object oriented programming new cl...</td>\n",
       "      <td>1</td>\n",
       "      <td>0.575758</td>\n",
       "      <td>0.230303</td>\n",
       "      <td>0.481</td>\n",
       "      <td>0.953125</td>\n",
       "      <td>0.767943</td>\n",
       "    </tr>\n",
       "    <tr>\n",
       "      <th>3</th>\n",
       "      <td>object-oriented programming inheritance way fo...</td>\n",
       "      <td>inheritance object oriented programming way fo...</td>\n",
       "      <td>1</td>\n",
       "      <td>0.577465</td>\n",
       "      <td>0.492647</td>\n",
       "      <td>0.778</td>\n",
       "      <td>0.971154</td>\n",
       "      <td>0.955157</td>\n",
       "    </tr>\n",
       "    <tr>\n",
       "      <th>4</th>\n",
       "      <td>object-oriented programming inheritance way fo...</td>\n",
       "      <td>object-oriented programming inheritance way fo...</td>\n",
       "      <td>1</td>\n",
       "      <td>1.000000</td>\n",
       "      <td>0.837037</td>\n",
       "      <td>0.963</td>\n",
       "      <td>1.000000</td>\n",
       "      <td>0.995392</td>\n",
       "    </tr>\n",
       "  </tbody>\n",
       "</table>\n",
       "</div>"
      ],
      "text/plain": [
       "                                            Original  \\\n",
       "0  object-oriented programming inheritance way fo...   \n",
       "1  object-oriented programming inheritance way fo...   \n",
       "2  object-oriented programming inheritance way fo...   \n",
       "3  object-oriented programming inheritance way fo...   \n",
       "4  object-oriented programming inheritance way fo...   \n",
       "\n",
       "                                          Additional  label  \\\n",
       "0  inheritance basic concept object-oriented prog...      0   \n",
       "1  inheritance basic concept object oriented prog...      0   \n",
       "2  inheritance object oriented programming new cl...      1   \n",
       "3  inheritance object oriented programming way fo...      1   \n",
       "4  object-oriented programming inheritance way fo...      1   \n",
       "\n",
       "   fingerprint_similarity  simword_similarity  lsa_sim  bigram_similarity  \\\n",
       "0                0.455696            0.118644    0.235           0.849462   \n",
       "1                0.375000            0.148352    0.216           0.843137   \n",
       "2                0.575758            0.230303    0.481           0.953125   \n",
       "3                0.577465            0.492647    0.778           0.971154   \n",
       "4                1.000000            0.837037    0.963           1.000000   \n",
       "\n",
       "   trigram_similarity  \n",
       "0            0.545220  \n",
       "1            0.562212  \n",
       "2            0.767943  \n",
       "3            0.955157  \n",
       "4            0.995392  "
      ]
     },
     "execution_count": 6,
     "metadata": {},
     "output_type": "execute_result"
    }
   ],
   "source": [
    "df.head()"
   ]
  },
  {
   "cell_type": "code",
   "execution_count": 5,
   "id": "0aaae237",
   "metadata": {},
   "outputs": [],
   "source": [
    "feature_df = df[[ 'lsa_sim' , 'fingerprint_similarity','simword_similarity','bigram_similarity']] "
   ]
  },
  {
   "cell_type": "code",
   "execution_count": 7,
   "id": "1527b723",
   "metadata": {},
   "outputs": [
    {
     "data": {
      "text/html": [
       "<div>\n",
       "<style scoped>\n",
       "    .dataframe tbody tr th:only-of-type {\n",
       "        vertical-align: middle;\n",
       "    }\n",
       "\n",
       "    .dataframe tbody tr th {\n",
       "        vertical-align: top;\n",
       "    }\n",
       "\n",
       "    .dataframe thead th {\n",
       "        text-align: right;\n",
       "    }\n",
       "</style>\n",
       "<table border=\"1\" class=\"dataframe\">\n",
       "  <thead>\n",
       "    <tr style=\"text-align: right;\">\n",
       "      <th></th>\n",
       "      <th>lsa_sim</th>\n",
       "      <th>fingerprint_similarity</th>\n",
       "      <th>simword_similarity</th>\n",
       "      <th>bigram_similarity</th>\n",
       "    </tr>\n",
       "  </thead>\n",
       "  <tbody>\n",
       "    <tr>\n",
       "      <th>0</th>\n",
       "      <td>0.235</td>\n",
       "      <td>0.455696</td>\n",
       "      <td>0.118644</td>\n",
       "      <td>0.849462</td>\n",
       "    </tr>\n",
       "    <tr>\n",
       "      <th>1</th>\n",
       "      <td>0.216</td>\n",
       "      <td>0.375000</td>\n",
       "      <td>0.148352</td>\n",
       "      <td>0.843137</td>\n",
       "    </tr>\n",
       "    <tr>\n",
       "      <th>2</th>\n",
       "      <td>0.481</td>\n",
       "      <td>0.575758</td>\n",
       "      <td>0.230303</td>\n",
       "      <td>0.953125</td>\n",
       "    </tr>\n",
       "    <tr>\n",
       "      <th>3</th>\n",
       "      <td>0.778</td>\n",
       "      <td>0.577465</td>\n",
       "      <td>0.492647</td>\n",
       "      <td>0.971154</td>\n",
       "    </tr>\n",
       "    <tr>\n",
       "      <th>4</th>\n",
       "      <td>0.963</td>\n",
       "      <td>1.000000</td>\n",
       "      <td>0.837037</td>\n",
       "      <td>1.000000</td>\n",
       "    </tr>\n",
       "  </tbody>\n",
       "</table>\n",
       "</div>"
      ],
      "text/plain": [
       "   lsa_sim  fingerprint_similarity  simword_similarity  bigram_similarity\n",
       "0    0.235                0.455696            0.118644           0.849462\n",
       "1    0.216                0.375000            0.148352           0.843137\n",
       "2    0.481                0.575758            0.230303           0.953125\n",
       "3    0.778                0.577465            0.492647           0.971154\n",
       "4    0.963                1.000000            0.837037           1.000000"
      ]
     },
     "execution_count": 7,
     "metadata": {},
     "output_type": "execute_result"
    }
   ],
   "source": [
    "feature_df.head()"
   ]
  },
  {
   "cell_type": "code",
   "execution_count": 8,
   "id": "187edc85",
   "metadata": {},
   "outputs": [],
   "source": [
    "#independent variables\n",
    "x= np.asarray(feature_df)\n",
    "\n",
    "#dependent variables \n",
    "y= np.asarray(df['label'])"
   ]
  },
  {
   "cell_type": "code",
   "execution_count": 10,
   "id": "0ec24a47",
   "metadata": {},
   "outputs": [
    {
     "name": "stdout",
     "output_type": "stream",
     "text": [
      "x : \n",
      " [[0.216      0.375      0.14835165 0.84313725]\n",
      " [0.481      0.57575758 0.23030303 0.953125  ]\n",
      " [0.778      0.57746479 0.49264706 0.97115385]\n",
      " [0.963      1.         0.83703704 1.        ]\n",
      " [0.37       0.48       0.13017751 0.86440678]\n",
      " [0.187      0.50649351 0.1        0.85353535]\n",
      " [0.569      0.67164179 0.33333333 0.95305164]\n",
      " [0.213      0.50649351 0.145      0.81415929]\n",
      " [0.215      0.43835616 0.14705882 0.87567568]]\n",
      "y : \n",
      " [0 1 1 1 0 0 1 0 0]\n"
     ]
    }
   ],
   "source": [
    "print(\"x : \\n\",x[1:10])\n",
    "print(\"y : \\n\",y[1:10])"
   ]
  },
  {
   "cell_type": "code",
   "execution_count": 11,
   "id": "ddbb660d",
   "metadata": {},
   "outputs": [],
   "source": [
    "x_train,x_test,y_train,y_test = train_test_split(x,y,test_size=0.9,random_state=4)"
   ]
  },
  {
   "cell_type": "code",
   "execution_count": 12,
   "id": "2a4e35fc",
   "metadata": {},
   "outputs": [],
   "source": [
    "sc_X = StandardScaler()\n",
    "x_train = sc_X.fit_transform(x_train)\n",
    "x_test = sc_X.transform(x_test)"
   ]
  },
  {
   "cell_type": "code",
   "execution_count": 14,
   "id": "8a48fb23",
   "metadata": {},
   "outputs": [],
   "source": [
    "\n",
    "#SVC = support vector classifer\n",
    "model = svm.SVC(kernel='linear', gamma = 'auto', C = 1)"
   ]
  },
  {
   "cell_type": "code",
   "execution_count": 15,
   "id": "618ebf7b",
   "metadata": {},
   "outputs": [
    {
     "data": {
      "text/html": [
       "<style>#sk-container-id-1 {color: black;background-color: white;}#sk-container-id-1 pre{padding: 0;}#sk-container-id-1 div.sk-toggleable {background-color: white;}#sk-container-id-1 label.sk-toggleable__label {cursor: pointer;display: block;width: 100%;margin-bottom: 0;padding: 0.3em;box-sizing: border-box;text-align: center;}#sk-container-id-1 label.sk-toggleable__label-arrow:before {content: \"▸\";float: left;margin-right: 0.25em;color: #696969;}#sk-container-id-1 label.sk-toggleable__label-arrow:hover:before {color: black;}#sk-container-id-1 div.sk-estimator:hover label.sk-toggleable__label-arrow:before {color: black;}#sk-container-id-1 div.sk-toggleable__content {max-height: 0;max-width: 0;overflow: hidden;text-align: left;background-color: #f0f8ff;}#sk-container-id-1 div.sk-toggleable__content pre {margin: 0.2em;color: black;border-radius: 0.25em;background-color: #f0f8ff;}#sk-container-id-1 input.sk-toggleable__control:checked~div.sk-toggleable__content {max-height: 200px;max-width: 100%;overflow: auto;}#sk-container-id-1 input.sk-toggleable__control:checked~label.sk-toggleable__label-arrow:before {content: \"▾\";}#sk-container-id-1 div.sk-estimator input.sk-toggleable__control:checked~label.sk-toggleable__label {background-color: #d4ebff;}#sk-container-id-1 div.sk-label input.sk-toggleable__control:checked~label.sk-toggleable__label {background-color: #d4ebff;}#sk-container-id-1 input.sk-hidden--visually {border: 0;clip: rect(1px 1px 1px 1px);clip: rect(1px, 1px, 1px, 1px);height: 1px;margin: -1px;overflow: hidden;padding: 0;position: absolute;width: 1px;}#sk-container-id-1 div.sk-estimator {font-family: monospace;background-color: #f0f8ff;border: 1px dotted black;border-radius: 0.25em;box-sizing: border-box;margin-bottom: 0.5em;}#sk-container-id-1 div.sk-estimator:hover {background-color: #d4ebff;}#sk-container-id-1 div.sk-parallel-item::after {content: \"\";width: 100%;border-bottom: 1px solid gray;flex-grow: 1;}#sk-container-id-1 div.sk-label:hover label.sk-toggleable__label {background-color: #d4ebff;}#sk-container-id-1 div.sk-serial::before {content: \"\";position: absolute;border-left: 1px solid gray;box-sizing: border-box;top: 0;bottom: 0;left: 50%;z-index: 0;}#sk-container-id-1 div.sk-serial {display: flex;flex-direction: column;align-items: center;background-color: white;padding-right: 0.2em;padding-left: 0.2em;position: relative;}#sk-container-id-1 div.sk-item {position: relative;z-index: 1;}#sk-container-id-1 div.sk-parallel {display: flex;align-items: stretch;justify-content: center;background-color: white;position: relative;}#sk-container-id-1 div.sk-item::before, #sk-container-id-1 div.sk-parallel-item::before {content: \"\";position: absolute;border-left: 1px solid gray;box-sizing: border-box;top: 0;bottom: 0;left: 50%;z-index: -1;}#sk-container-id-1 div.sk-parallel-item {display: flex;flex-direction: column;z-index: 1;position: relative;background-color: white;}#sk-container-id-1 div.sk-parallel-item:first-child::after {align-self: flex-end;width: 50%;}#sk-container-id-1 div.sk-parallel-item:last-child::after {align-self: flex-start;width: 50%;}#sk-container-id-1 div.sk-parallel-item:only-child::after {width: 0;}#sk-container-id-1 div.sk-dashed-wrapped {border: 1px dashed gray;margin: 0 0.4em 0.5em 0.4em;box-sizing: border-box;padding-bottom: 0.4em;background-color: white;}#sk-container-id-1 div.sk-label label {font-family: monospace;font-weight: bold;display: inline-block;line-height: 1.2em;}#sk-container-id-1 div.sk-label-container {text-align: center;}#sk-container-id-1 div.sk-container {/* jupyter's `normalize.less` sets `[hidden] { display: none; }` but bootstrap.min.css set `[hidden] { display: none !important; }` so we also need the `!important` here to be able to override the default hidden behavior on the sphinx rendered scikit-learn.org. See: https://github.com/scikit-learn/scikit-learn/issues/21755 */display: inline-block !important;position: relative;}#sk-container-id-1 div.sk-text-repr-fallback {display: none;}</style><div id=\"sk-container-id-1\" class=\"sk-top-container\"><div class=\"sk-text-repr-fallback\"><pre>SVC(C=1, gamma=&#x27;auto&#x27;, kernel=&#x27;linear&#x27;)</pre><b>In a Jupyter environment, please rerun this cell to show the HTML representation or trust the notebook. <br />On GitHub, the HTML representation is unable to render, please try loading this page with nbviewer.org.</b></div><div class=\"sk-container\" hidden><div class=\"sk-item\"><div class=\"sk-estimator sk-toggleable\"><input class=\"sk-toggleable__control sk-hidden--visually\" id=\"sk-estimator-id-1\" type=\"checkbox\" checked><label for=\"sk-estimator-id-1\" class=\"sk-toggleable__label sk-toggleable__label-arrow\">SVC</label><div class=\"sk-toggleable__content\"><pre>SVC(C=1, gamma=&#x27;auto&#x27;, kernel=&#x27;linear&#x27;)</pre></div></div></div></div></div>"
      ],
      "text/plain": [
       "SVC(C=1, gamma='auto', kernel='linear')"
      ]
     },
     "execution_count": 15,
     "metadata": {},
     "output_type": "execute_result"
    }
   ],
   "source": [
    "model.fit(x_train,y_train)"
   ]
  },
  {
   "cell_type": "code",
   "execution_count": 17,
   "id": "13327d51",
   "metadata": {},
   "outputs": [],
   "source": [
    "y_pred = model.predict(x_test)"
   ]
  },
  {
   "cell_type": "code",
   "execution_count": 19,
   "id": "1ae0bf52",
   "metadata": {},
   "outputs": [
    {
     "name": "stdout",
     "output_type": "stream",
     "text": [
      "accuracy score with linear kernel :\n",
      "0.8372093023255814\n"
     ]
    }
   ],
   "source": [
    "print(\"accuracy score with linear kernel :\")\n",
    "print(metrics.accuracy_score(y_test,y_pred))"
   ]
  },
  {
   "cell_type": "code",
   "execution_count": 20,
   "id": "b7584452",
   "metadata": {},
   "outputs": [
    {
     "name": "stdout",
     "output_type": "stream",
     "text": [
      "Accuracies for each feature: [0.5, 1.0, 0.5, 1.0]\n"
     ]
    }
   ],
   "source": [
    "import numpy as np\n",
    "from sklearn import svm\n",
    "from sklearn.metrics import accuracy_score\n",
    "\n",
    "# Generate toy data\n",
    "X = np.array([[0,0,0,0], [1,1,1,1], [0,1,0,1], [1,0,1,0]])\n",
    "y = np.array([0,1,1,0])\n",
    "\n",
    "# Fit SVM to data\n",
    "clf = svm.SVC(kernel='linear', C=1)\n",
    "\n",
    "# Compute accuracy for each feature\n",
    "accuracies = []\n",
    "for i in range(4):\n",
    "    clf.fit(X[:,i].reshape(-1,1), y)\n",
    "    y_pred = clf.predict(X[:,i].reshape(-1,1))\n",
    "    acc = accuracy_score(y, y_pred)\n",
    "    accuracies.append(acc)\n",
    "    \n",
    "print(\"Accuracies for each feature:\", accuracies)\n"
   ]
  },
  {
   "cell_type": "code",
   "execution_count": 47,
   "id": "be3a5fe0",
   "metadata": {},
   "outputs": [],
   "source": [
    "feature_df2 = df[[ 'lsa_sim','fingerprint_similarity','simword_similarity','bigram_similarity']] \n",
    "#feature_df1 = df[ 'fingerprint_similarity']\n",
    "feature_df1 = df[['bigram_similarity','lsa_sim','fingerprint_similarity' ]]\n",
    "feature_df0 = df[['fingerprint_similarity','lsa_sim']] "
   ]
  },
  {
   "cell_type": "code",
   "execution_count": 61,
   "id": "1a179518",
   "metadata": {},
   "outputs": [],
   "source": [
    "accuracy=np.array([])"
   ]
  },
  {
   "cell_type": "code",
   "execution_count": 66,
   "id": "3df805a7",
   "metadata": {},
   "outputs": [
    {
     "name": "stdout",
     "output_type": "stream",
     "text": [
      "0.8372093023255814\n"
     ]
    }
   ],
   "source": [
    "#independent variables\n",
    "x= np.asarray(feature_df2)\n",
    "\n",
    "#dependent variables \n",
    "y= np.asarray(df['label'])\n",
    "x_train,x_test,y_train,y_test = train_test_split(x,y,test_size=0.9,random_state=4)\n",
    "sc_X = StandardScaler()\n",
    "x_train = sc_X.fit_transform(x_train)\n",
    "x_test = sc_X.transform(x_test)\n",
    "model = svm.SVC(kernel='linear', gamma = 'auto', C = 1)\n",
    "model.fit(x_train,y_train)\n",
    "y_pred = model.predict(x_test)\n",
    "a=metrics.accuracy_score(y_test,y_pred)\n",
    "print(metrics.accuracy_score(y_test,y_pred))"
   ]
  },
  {
   "cell_type": "code",
   "execution_count": 67,
   "id": "e935661e",
   "metadata": {},
   "outputs": [
    {
     "name": "stdout",
     "output_type": "stream",
     "text": [
      "[0.77906977 0.79069767 0.8372093 ]\n"
     ]
    }
   ],
   "source": [
    "accuracy=np.append(accuracy,a)\n",
    "print(accuracy)"
   ]
  },
  {
   "cell_type": "code",
   "execution_count": 68,
   "id": "1f3f6690",
   "metadata": {},
   "outputs": [
    {
     "data": {
      "image/png": "[encoded data removed]",
      "text/plain": [
       "<Figure size 640x480 with 1 Axes>"
      ]
     },
     "metadata": {},
     "output_type": "display_data"
    }
   ],
   "source": [
    "import numpy as np\n",
    "import matplotlib.pyplot as plt\n",
    "\n",
    "# Plot the data\n",
    "plt.plot(accuracy)\n",
    "\n",
    "# Add labels and title to the plot\n",
    "plt.xlabel('Features')\n",
    "plt.ylabel('Accuracy')\n",
    "plt.title('Accuracy by Feature')\n",
    "\n",
    "# Show the plot\n",
    "plt.show()\n"
   ]
  },
  {
   "cell_type": "code",
   "execution_count": 76,
   "id": "bde75422",
   "metadata": {},
   "outputs": [
    {
     "data": {
      "image/png": "[encoded data removed]",
      "text/plain": [
       "<Figure size 640x480 with 1 Axes>"
      ]
     },
     "metadata": {},
     "output_type": "display_data"
    }
   ],
   "source": [
    "\n",
    "# Plot the data\n",
    "plt.plot(accuracy)\n",
    "\n",
    "\n",
    "# Add labels and title to the plot\n",
    "plt.xlabel('Features')\n",
    "plt.ylabel('Accuracy')\n",
    "plt.title('Accuracy by Feature')\n",
    "\n",
    "# Add feature names to the x-axis\n",
    "feature_names = ['Lsa and fingerprint only', 'Three features', 'All four features']\n",
    "plt.xticks(range(len(feature_names)), feature_names, rotation=45)\n",
    "\n",
    "# Show the plot\n",
    "plt.show()\n"
   ]
  },
  {
   "cell_type": "code",
   "execution_count": null,
   "id": "17bf26c1",
   "metadata": {},
   "outputs": [],
   "source": []
  }
 ],
 "metadata": {
  "kernelspec": {
   "display_name": "Python 3 (ipykernel)",
   "language": "python",
   "name": "python3"
  },
  "language_info": {
   "codemirror_mode": {
    "name": "ipython",
    "version": 3
   },
   "file_extension": ".py",
   "mimetype": "text/x-python",
   "name": "python",
   "nbconvert_exporter": "python",
   "pygments_lexer": "ipython3",
   "version": "3.9.13"
  }
 },
 "nbformat": 4,
 "nbformat_minor": 5
}
