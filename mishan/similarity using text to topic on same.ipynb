{
 "cells": [
  {
   "cell_type": "code",
   "execution_count": 1,
   "id": "8b768c56",
   "metadata": {},
   "outputs": [],
   "source": [
    "#importing the library for TF-IDF\n",
    "from sklearn.feature_extraction.text import TfidfVectorizer\n",
    "#import the libraries for SVD\n",
    "from sklearn.decomposition import TruncatedSVD\n",
    "import numpy as np\n",
    "#import library for cosine similarity\n",
    "import pandas as pd\n",
    "import numpy as np"
   ]
  },
  {
   "cell_type": "code",
   "execution_count": 80,
   "id": "181e81b4",
   "metadata": {},
   "outputs": [],
   "source": [
    "docs = [\"long ago when there was no written history these islands were the home of millions of happy birds the resort of a hundred times more millions of fishes sea lions and other creatures\"\n",
    "        ,\n",
    "        \"in ages which have no record these islands were the home of millions of happy birds the resort of a hundred times more millions of pisces of sea lions and other animal\"\n",
    "       ]\n",
    "doc1 = \"long ago when there was no written history these islands were the home of millions of happy birds the resort of a hundred times more millions of fishes sea lions and other creatures\"\n",
    "doc2 = \"in ages which have no record these islands were the home of millions of happy birds the resort of a hundred times more millions of pisces of sea lions and other animal\""
   ]
  },
  {
   "cell_type": "code",
   "execution_count": 4,
   "id": "47e22a34",
   "metadata": {},
   "outputs": [
    {
     "name": "stdout",
     "output_type": "stream",
     "text": [
      "['ages', 'ago', 'and', 'animal', 'birds', 'creatures', 'fishes', 'happy', 'have', 'history', 'home', 'hundred', 'in', 'islands', 'lions', 'long', 'millions', 'more', 'no', 'of', 'other', 'pisces', 'record', 'resort', 'sea', 'the', 'there', 'these', 'times', 'was', 'were', 'when', 'which', 'written']\n",
      "[[0.         0.186522   0.13271194 0.         0.13271194 0.186522\n",
      "  0.186522   0.13271194 0.         0.186522   0.13271194 0.13271194\n",
      "  0.         0.13271194 0.13271194 0.186522   0.26542388 0.13271194\n",
      "  0.13271194 0.53084776 0.13271194 0.         0.         0.13271194\n",
      "  0.13271194 0.26542388 0.186522   0.13271194 0.13271194 0.186522\n",
      "  0.13271194 0.186522   0.         0.186522  ]\n",
      " [0.17874333 0.         0.12717735 0.17874333 0.12717735 0.\n",
      "  0.         0.12717735 0.17874333 0.         0.12717735 0.12717735\n",
      "  0.17874333 0.12717735 0.12717735 0.         0.2543547  0.12717735\n",
      "  0.12717735 0.63588675 0.12717735 0.17874333 0.17874333 0.12717735\n",
      "  0.12717735 0.2543547  0.         0.12717735 0.12717735 0.\n",
      "  0.12717735 0.         0.17874333 0.        ]]\n"
     ]
    }
   ],
   "source": [
    "vectorizer = TfidfVectorizer()\n",
    "dictionary = vectorizer.fit_transform(docs)\n",
    "print(vectorizer.get_feature_names())\n",
    "print(dictionary.todense())"
   ]
  },
  {
   "cell_type": "code",
   "execution_count": 5,
   "id": "c36e0598",
   "metadata": {},
   "outputs": [
    {
     "name": "stdout",
     "output_type": "stream",
     "text": [
      "[[0.0, 0.18652199981505496, 0.13271193908621762, 0.0, 0.13271193908621762, 0.18652199981505496, 0.18652199981505496, 0.13271193908621762, 0.0, 0.18652199981505496, 0.13271193908621762, 0.13271193908621762, 0.0, 0.13271193908621762, 0.13271193908621762, 0.18652199981505496, 0.26542387817243523, 0.13271193908621762, 0.13271193908621762, 0.5308477563448705, 0.13271193908621762, 0.0, 0.0, 0.13271193908621762, 0.13271193908621762, 0.26542387817243523, 0.18652199981505496, 0.13271193908621762, 0.13271193908621762, 0.18652199981505496, 0.13271193908621762, 0.18652199981505496, 0.0, 0.18652199981505496], [0.17874332778851904, 0.0, 0.12717734987325133, 0.17874332778851904, 0.12717734987325133, 0.0, 0.0, 0.12717734987325133, 0.17874332778851904, 0.0, 0.12717734987325133, 0.12717734987325133, 0.17874332778851904, 0.12717734987325133, 0.12717734987325133, 0.0, 0.25435469974650265, 0.12717734987325133, 0.12717734987325133, 0.6358867493662567, 0.12717734987325133, 0.17874332778851904, 0.17874332778851904, 0.12717734987325133, 0.12717734987325133, 0.25435469974650265, 0.0, 0.12717734987325133, 0.12717734987325133, 0.0, 0.12717734987325133, 0.0, 0.17874332778851904, 0.0]]\n",
      "<class 'list'>\n"
     ]
    }
   ],
   "source": [
    "inarr = dictionary.todense().tolist()\n",
    "print(inarr)\n",
    "print(type(inarr))"
   ]
  },
  {
   "cell_type": "code",
   "execution_count": 6,
   "id": "f8c152b3",
   "metadata": {},
   "outputs": [
    {
     "data": {
      "text/plain": [
       "TruncatedSVD()"
      ]
     },
     "execution_count": 6,
     "metadata": {},
     "output_type": "execute_result"
    }
   ],
   "source": [
    "# Create a TruncatedSVD object with 2 components\n",
    "svd = TruncatedSVD(n_components=2)\n",
    "\n",
    "# Fit the object to the matrix X\n",
    "svd.fit(inarr)"
   ]
  },
  {
   "cell_type": "code",
   "execution_count": 7,
   "id": "3837a464",
   "metadata": {},
   "outputs": [
    {
     "name": "stdout",
     "output_type": "stream",
     "text": [
      "U: [[ 0.0962112   0.10039819  0.1398892   0.0962112   0.1398892   0.10039819\n",
      "   0.10039819  0.1398892   0.0962112   0.10039819  0.1398892   0.1398892\n",
      "   0.0962112   0.1398892   0.1398892   0.10039819  0.27977841  0.1398892\n",
      "   0.1398892   0.62801188  0.1398892   0.0962112   0.0962112   0.1398892\n",
      "   0.1398892   0.27977841  0.10039819  0.1398892   0.1398892   0.10039819\n",
      "   0.1398892   0.10039819  0.0962112   0.10039819]\n",
      " [-0.24134765  0.25185078  0.00747306 -0.24134765  0.00747306  0.25185078\n",
      "   0.25185078  0.00747306 -0.24134765  0.25185078  0.00747306  0.00747306\n",
      "  -0.24134765  0.00747306  0.00747306  0.25185078  0.01494613  0.00747306\n",
      "   0.00747306 -0.14182859  0.00747306 -0.24134765 -0.24134765  0.00747306\n",
      "   0.00747306  0.01494613  0.25185078  0.00747306  0.00747306  0.25185078\n",
      "   0.00747306  0.25185078 -0.24134765  0.25185078]]\n",
      "UT: [[ 0.0962112  -0.24134765]\n",
      " [ 0.10039819  0.25185078]\n",
      " [ 0.1398892   0.00747306]\n",
      " [ 0.0962112  -0.24134765]\n",
      " [ 0.1398892   0.00747306]\n",
      " [ 0.10039819  0.25185078]\n",
      " [ 0.10039819  0.25185078]\n",
      " [ 0.1398892   0.00747306]\n",
      " [ 0.0962112  -0.24134765]\n",
      " [ 0.10039819  0.25185078]\n",
      " [ 0.1398892   0.00747306]\n",
      " [ 0.1398892   0.00747306]\n",
      " [ 0.0962112  -0.24134765]\n",
      " [ 0.1398892   0.00747306]\n",
      " [ 0.1398892   0.00747306]\n",
      " [ 0.10039819  0.25185078]\n",
      " [ 0.27977841  0.01494613]\n",
      " [ 0.1398892   0.00747306]\n",
      " [ 0.1398892   0.00747306]\n",
      " [ 0.62801188 -0.14182859]\n",
      " [ 0.1398892   0.00747306]\n",
      " [ 0.0962112  -0.24134765]\n",
      " [ 0.0962112  -0.24134765]\n",
      " [ 0.1398892   0.00747306]\n",
      " [ 0.1398892   0.00747306]\n",
      " [ 0.27977841  0.01494613]\n",
      " [ 0.10039819  0.25185078]\n",
      " [ 0.1398892   0.00747306]\n",
      " [ 0.1398892   0.00747306]\n",
      " [ 0.10039819  0.25185078]\n",
      " [ 0.1398892   0.00747306]\n",
      " [ 0.10039819  0.25185078]\n",
      " [ 0.0962112  -0.24134765]\n",
      " [ 0.10039819  0.25185078]]\n",
      "Sigma: [1.31367879 0.52368696]\n",
      "V: [[ 0.92891118  0.3703026 ]\n",
      " [ 0.92891118 -0.3703026 ]]\n",
      "\n",
      "shape of the matrices\n",
      "U: (2, 34)\n",
      "Sigma: (2,)\n",
      "V: (2, 2)\n"
     ]
    }
   ],
   "source": [
    "U = svd.components_\n",
    "print(\"U:\",U)\n",
    "UT = U.T\n",
    "print(\"UT:\",UT)\n",
    "Sigma = svd.singular_values_\n",
    "print(\"Sigma:\",Sigma)\n",
    "V = svd.transform(inarr)\n",
    "print(\"V:\",V)\n",
    "# Print the matrices shape\n",
    "print(\"\")\n",
    "print(\"shape of the matrices\")\n",
    "print(\"U:\",U.shape)\n",
    "print(\"Sigma:\",Sigma.shape)\n",
    "print(\"V:\",V.shape)"
   ]
  },
  {
   "cell_type": "code",
   "execution_count": 11,
   "id": "69f674f2",
   "metadata": {},
   "outputs": [
    {
     "name": "stdout",
     "output_type": "stream",
     "text": [
      "<class 'list'>\n",
      "['ages', 'ago', 'and', 'animal', 'birds', 'creatures', 'fishes', 'happy', 'have', 'history', 'home', 'hundred', 'in', 'islands', 'lions', 'long', 'millions', 'more', 'no', 'of', 'other', 'pisces', 'record', 'resort', 'sea', 'the', 'there', 'these', 'times', 'was', 'were', 'when', 'which', 'written']\n",
      "[[ 0.0962112  -0.24134765]\n",
      " [ 0.10039819  0.25185078]\n",
      " [ 0.1398892   0.00747306]\n",
      " [ 0.0962112  -0.24134765]\n",
      " [ 0.1398892   0.00747306]\n",
      " [ 0.10039819  0.25185078]\n",
      " [ 0.10039819  0.25185078]\n",
      " [ 0.1398892   0.00747306]\n",
      " [ 0.0962112  -0.24134765]\n",
      " [ 0.10039819  0.25185078]\n",
      " [ 0.1398892   0.00747306]\n",
      " [ 0.1398892   0.00747306]\n",
      " [ 0.0962112  -0.24134765]\n",
      " [ 0.1398892   0.00747306]\n",
      " [ 0.1398892   0.00747306]\n",
      " [ 0.10039819  0.25185078]\n",
      " [ 0.27977841  0.01494613]\n",
      " [ 0.1398892   0.00747306]\n",
      " [ 0.1398892   0.00747306]\n",
      " [ 0.62801188 -0.14182859]\n",
      " [ 0.1398892   0.00747306]\n",
      " [ 0.0962112  -0.24134765]\n",
      " [ 0.0962112  -0.24134765]\n",
      " [ 0.1398892   0.00747306]\n",
      " [ 0.1398892   0.00747306]\n",
      " [ 0.27977841  0.01494613]\n",
      " [ 0.10039819  0.25185078]\n",
      " [ 0.1398892   0.00747306]\n",
      " [ 0.1398892   0.00747306]\n",
      " [ 0.10039819  0.25185078]\n",
      " [ 0.1398892   0.00747306]\n",
      " [ 0.10039819  0.25185078]\n",
      " [ 0.0962112  -0.24134765]\n",
      " [ 0.10039819  0.25185078]]\n",
      "<class 'numpy.ndarray'>\n"
     ]
    }
   ],
   "source": [
    "word_list = vectorizer.get_feature_names()\n",
    "print(type(word_list))\n",
    "print(word_list)\n",
    "print(UT)\n",
    "print(type(UT))"
   ]
  },
  {
   "cell_type": "code",
   "execution_count": 65,
   "id": "22285799",
   "metadata": {},
   "outputs": [
    {
     "name": "stdout",
     "output_type": "stream",
     "text": [
      "[[ 0.0962112   0.10039819  0.1398892   0.0962112   0.1398892   0.10039819\n",
      "   0.10039819  0.1398892   0.0962112   0.10039819  0.1398892   0.1398892\n",
      "   0.0962112   0.1398892   0.1398892   0.10039819  0.27977841  0.1398892\n",
      "   0.1398892   0.62801188  0.1398892   0.0962112   0.0962112   0.1398892\n",
      "   0.1398892   0.27977841  0.10039819  0.1398892   0.1398892   0.10039819\n",
      "   0.1398892   0.10039819  0.0962112   0.10039819]\n",
      " [-0.24134765  0.25185078  0.00747306 -0.24134765  0.00747306  0.25185078\n",
      "   0.25185078  0.00747306 -0.24134765  0.25185078  0.00747306  0.00747306\n",
      "  -0.24134765  0.00747306  0.00747306  0.25185078  0.01494613  0.00747306\n",
      "   0.00747306 -0.14182859  0.00747306 -0.24134765 -0.24134765  0.00747306\n",
      "   0.00747306  0.01494613  0.25185078  0.00747306  0.00747306  0.25185078\n",
      "   0.00747306  0.25185078 -0.24134765  0.25185078]]\n",
      "['ages', 'ago', 'and', 'animal', 'birds', 'creatures', 'fishes', 'happy', 'have', 'history', 'home', 'hundred', 'in', 'islands', 'lions', 'long', 'millions', 'more', 'no', 'of', 'other', 'pisces', 'record', 'resort', 'sea', 'the', 'there', 'these', 'times', 'was', 'were', 'when', 'which', 'written']\n"
     ]
    }
   ],
   "source": [
    "print(U)\n",
    "print(word_list)"
   ]
  },
  {
   "cell_type": "code",
   "execution_count": 46,
   "id": "4f016e92",
   "metadata": {},
   "outputs": [
    {
     "name": "stdout",
     "output_type": "stream",
     "text": [
      "        ages       ago       and    animal     birds  creatures    fishes  \\\n",
      "t1  0.096211  0.100398  0.139889  0.096211  0.139889   0.100398  0.100398   \n",
      "t2 -0.241348  0.251851  0.007473 -0.241348  0.007473   0.251851  0.251851   \n",
      "\n",
      "       happy      have   history  ...       sea       the     there     these  \\\n",
      "t1  0.139889  0.096211  0.100398  ...  0.139889  0.279778  0.100398  0.139889   \n",
      "t2  0.007473 -0.241348  0.251851  ...  0.007473  0.014946  0.251851  0.007473   \n",
      "\n",
      "       times       was      were      when     which   written  \n",
      "t1  0.139889  0.100398  0.139889  0.100398  0.096211  0.100398  \n",
      "t2  0.007473  0.251851  0.007473  0.251851 -0.241348  0.251851  \n",
      "\n",
      "[2 rows x 34 columns]\n"
     ]
    }
   ],
   "source": [
    "encoded_matrix1= pd.DataFrame(\n",
    "                U,\n",
    "                columns=word_list,\n",
    "                index = [\"t1\",\"t2\"]\n",
    "                )\n",
    "print(encoded_matrix1)"
   ]
  },
  {
   "cell_type": "code",
   "execution_count": 85,
   "id": "8b677ed6",
   "metadata": {},
   "outputs": [
    {
     "name": "stderr",
     "output_type": "stream",
     "text": [
      "[nltk_data] Downloading package punkt to\n",
      "[nltk_data]     C:\\Users\\dell\\AppData\\Roaming\\nltk_data...\n",
      "[nltk_data]   Unzipping tokenizers\\punkt.zip.\n"
     ]
    },
    {
     "name": "stdout",
     "output_type": "stream",
     "text": [
      "['long', 'ago', 'when', 'there', 'was', 'no', 'written', 'history', 'these', 'islands', 'were', 'the', 'home', 'of', 'millions', 'of', 'happy', 'birds', 'the', 'resort', 'of', 'a', 'hundred', 'times', 'more', 'millions', 'of', 'fishes', 'sea', 'lions', 'and', 'other', 'creatures']\n"
     ]
    }
   ],
   "source": [
    "import nltk\n",
    "nltk.download('punkt')\n",
    "from nltk.tokenize import word_tokenize\n"
   ]
  },
  {
   "cell_type": "code",
   "execution_count": 107,
   "id": "26a613f5",
   "metadata": {},
   "outputs": [
    {
     "name": "stdout",
     "output_type": "stream",
     "text": [
      "{'were', 'lions', 'more', 'and', 'the', 'ago', 'resort', 'history', 'long', 'islands', 'when', 'no', 'creatures', 'millions', 'happy', 'of', 'other', 'there', 'times', 'home', 'was', 'birds', 'fishes', 'these', 'sea', 'hundred', 'a', 'written'}\n",
      "{'were', 'lions', 'ages', 'more', 'animal', 'and', 'the', 'resort', 'pisces', 'record', 'which', 'islands', 'have', 'no', 'millions', 'happy', 'of', 'other', 'home', 'birds', 'these', 'in', 'sea', 'hundred', 'a', 'times'}\n",
      "{'were', 'lions', 'ages', 'more', 'animal', 'and', 'the', 'ago', 'resort', 'pisces', 'history', 'long', 'record', 'which', 'islands', 'have', 'no', 'when', 'millions', 'happy', 'written', 'of', 'other', 'there', 'home', 'was', 'fishes', 'birds', 'these', 'in', 'sea', 'hundred', 'creatures', 'times'}\n",
      "{'were', 'lions', 'more', 'and', 'the', 'ago', 'resort', 'history', 'long', 'islands', 'when', 'no', 'millions', 'happy', 'written', 'of', 'other', 'there', 'home', 'was', 'birds', 'fishes', 'these', 'sea', 'hundred', 'creatures', 'times'}\n",
      "{'were', 'lions', 'ages', 'more', 'animal', 'and', 'the', 'resort', 'pisces', 'record', 'which', 'islands', 'have', 'no', 'millions', 'happy', 'of', 'other', 'home', 'birds', 'these', 'in', 'sea', 'hundred', 'times'}\n"
     ]
    }
   ],
   "source": [
    "sus0 = word_tokenize(docs[0])\n",
    "sus1 = word_tokenize(docs[1])\n",
    "d0=set(sus0)\n",
    "print(d0)\n",
    "d1=set(sus1)\n",
    "print(d1)\n",
    "w= set(word_list)\n",
    "print(w)\n",
    "c0 = d0.intersection(w)\n",
    "print(c0)\n",
    "cc0 = list(c0)\n",
    "c1 = d1.intersection(w)\n",
    "print(c1)\n",
    "cc1= list(c1)\n",
    "\n",
    "c=c0.intersection(c1)\n",
    "cc = list(c)"
   ]
  },
  {
   "cell_type": "code",
   "execution_count": 73,
   "id": "1644ef38",
   "metadata": {},
   "outputs": [
    {
     "name": "stdout",
     "output_type": "stream",
     "text": [
      "                 t1        t2\n",
      "ages       0.096211 -0.241348\n",
      "ago        0.100398  0.251851\n",
      "and        0.139889  0.007473\n",
      "animal     0.096211 -0.241348\n",
      "birds      0.139889  0.007473\n",
      "creatures  0.100398  0.251851\n",
      "fishes     0.100398  0.251851\n",
      "happy      0.139889  0.007473\n",
      "have       0.096211 -0.241348\n",
      "history    0.100398  0.251851\n",
      "home       0.139889  0.007473\n",
      "hundred    0.139889  0.007473\n",
      "in         0.096211 -0.241348\n",
      "islands    0.139889  0.007473\n",
      "lions      0.139889  0.007473\n",
      "long       0.100398  0.251851\n",
      "millions   0.279778  0.014946\n",
      "more       0.139889  0.007473\n",
      "no         0.139889  0.007473\n",
      "of         0.628012 -0.141829\n",
      "other      0.139889  0.007473\n",
      "pisces     0.096211 -0.241348\n",
      "record     0.096211 -0.241348\n",
      "resort     0.139889  0.007473\n",
      "sea        0.139889  0.007473\n",
      "the        0.279778  0.014946\n",
      "there      0.100398  0.251851\n",
      "these      0.139889  0.007473\n",
      "times      0.139889  0.007473\n",
      "was        0.100398  0.251851\n",
      "were       0.139889  0.007473\n",
      "when       0.100398  0.251851\n",
      "which      0.096211 -0.241348\n",
      "written    0.100398  0.251851\n"
     ]
    }
   ],
   "source": [
    "em= pd.DataFrame(\n",
    "                UT,\n",
    "                columns= [\"t1\",\"t2\"],\n",
    "                index =word_list\n",
    "                )\n",
    "print(em)"
   ]
  },
  {
   "cell_type": "code",
   "execution_count": 92,
   "id": "751fb746",
   "metadata": {},
   "outputs": [
    {
     "name": "stdout",
     "output_type": "stream",
     "text": [
      "['were', 'lions', 'more', 'and', 'the', 'ago', 'resort', 'history', 'long', 'islands', 'when', 'no', 'millions', 'happy', 'written', 'of', 'other', 'there', 'home', 'was', 'birds', 'fishes', 'these', 'sea', 'hundred', 'creatures', 'times']\n"
     ]
    }
   ],
   "source": [
    "print(cc0)"
   ]
  },
  {
   "cell_type": "code",
   "execution_count": 108,
   "id": "5432a97b",
   "metadata": {},
   "outputs": [
    {
     "name": "stdout",
     "output_type": "stream",
     "text": [
      "                t1        t2\n",
      "resort    0.139889  0.007473\n",
      "were      0.139889  0.007473\n",
      "lions     0.139889  0.007473\n",
      "of        0.628012 -0.141829\n",
      "more      0.139889  0.007473\n",
      "other     0.139889  0.007473\n",
      "sea       0.139889  0.007473\n",
      "islands   0.139889  0.007473\n",
      "home      0.139889  0.007473\n",
      "millions  0.279778  0.014946\n",
      "and       0.139889  0.007473\n",
      "no        0.139889  0.007473\n",
      "hundred   0.139889  0.007473\n",
      "birds     0.139889  0.007473\n",
      "the       0.279778  0.014946\n",
      "happy     0.139889  0.007473\n",
      "times     0.139889  0.007473\n",
      "these     0.139889  0.007473\n"
     ]
    }
   ],
   "source": [
    "v0 = em.loc[cc]\n",
    "print(v0)"
   ]
  },
  {
   "cell_type": "code",
   "execution_count": 109,
   "id": "695bb5dd",
   "metadata": {},
   "outputs": [
    {
     "name": "stdout",
     "output_type": "stream",
     "text": [
      "                t1        t2\n",
      "resort    0.139889  0.007473\n",
      "were      0.139889  0.007473\n",
      "lions     0.139889  0.007473\n",
      "of        0.628012 -0.141829\n",
      "more      0.139889  0.007473\n",
      "other     0.139889  0.007473\n",
      "sea       0.139889  0.007473\n",
      "islands   0.139889  0.007473\n",
      "home      0.139889  0.007473\n",
      "millions  0.279778  0.014946\n",
      "and       0.139889  0.007473\n",
      "no        0.139889  0.007473\n",
      "hundred   0.139889  0.007473\n",
      "birds     0.139889  0.007473\n",
      "the       0.279778  0.014946\n",
      "happy     0.139889  0.007473\n",
      "times     0.139889  0.007473\n",
      "these     0.139889  0.007473\n"
     ]
    }
   ],
   "source": [
    "v1 = em.loc[cc]\n",
    "print(v1)"
   ]
  },
  {
   "cell_type": "code",
   "execution_count": 110,
   "id": "9cd469dd",
   "metadata": {},
   "outputs": [
    {
     "name": "stdout",
     "output_type": "stream",
     "text": [
      "resort      0.139889\n",
      "were        0.139889\n",
      "lions       0.139889\n",
      "of          0.628012\n",
      "more        0.139889\n",
      "other       0.139889\n",
      "sea         0.139889\n",
      "islands     0.139889\n",
      "home        0.139889\n",
      "millions    0.279778\n",
      "and         0.139889\n",
      "no          0.139889\n",
      "hundred     0.139889\n",
      "birds       0.139889\n",
      "the         0.279778\n",
      "happy       0.139889\n",
      "times       0.139889\n",
      "these       0.139889\n",
      "Name: t1, dtype: float64\n",
      "\n",
      "\n",
      "\n",
      "resort      0.007473\n",
      "were        0.007473\n",
      "lions       0.007473\n",
      "of         -0.141829\n",
      "more        0.007473\n",
      "other       0.007473\n",
      "sea         0.007473\n",
      "islands     0.007473\n",
      "home        0.007473\n",
      "millions    0.014946\n",
      "and         0.007473\n",
      "no          0.007473\n",
      "hundred     0.007473\n",
      "birds       0.007473\n",
      "the         0.014946\n",
      "happy       0.007473\n",
      "times       0.007473\n",
      "these       0.007473\n",
      "Name: t2, dtype: float64\n"
     ]
    },
    {
     "data": {
      "text/plain": [
       "pandas.core.frame.DataFrame"
      ]
     },
     "execution_count": 110,
     "metadata": {},
     "output_type": "execute_result"
    }
   ],
   "source": [
    "array0 = v0['t1'].T\n",
    "print(array0)\n",
    "print(\"\\n\\n\")\n",
    "array1 = v0['t2'].T\n",
    "print(array1)\n",
    "type(v1)"
   ]
  },
  {
   "cell_type": "code",
   "execution_count": 111,
   "id": "a550929e",
   "metadata": {},
   "outputs": [
    {
     "data": {
      "text/plain": [
       "-0.484"
      ]
     },
     "execution_count": 111,
     "metadata": {},
     "output_type": "execute_result"
    }
   ],
   "source": [
    "## calculation for the similarity\n",
    "numerator=np.dot(array0,array1)\n",
    "\n",
    "denom=np.sqrt(sum(np.square(array0)))*np.sqrt(sum(np.square(array1)))\n",
    "\n",
    "# Similarity:\n",
    "round(numerator/denom,3)"
   ]
  },
  {
   "cell_type": "code",
   "execution_count": null,
   "id": "b2f06dbe",
   "metadata": {},
   "outputs": [],
   "source": []
  }
 ],
 "metadata": {
  "kernelspec": {
   "display_name": "Python 3 (ipykernel)",
   "language": "python",
   "name": "python3"
  },
  "language_info": {
   "codemirror_mode": {
    "name": "ipython",
    "version": 3
   },
   "file_extension": ".py",
   "mimetype": "text/x-python",
   "name": "python",
   "nbconvert_exporter": "python",
   "pygments_lexer": "ipython3",
   "version": "3.9.7"
  }
 },
 "nbformat": 4,
 "nbformat_minor": 5
}
