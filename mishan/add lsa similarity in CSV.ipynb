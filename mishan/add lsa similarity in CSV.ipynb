{
 "cells": [
  {
   "cell_type": "markdown",
   "id": "c5c90249",
   "metadata": {},
   "source": [
    "# Creating the CSV dataset with features column"
   ]
  },
  {
   "cell_type": "markdown",
   "id": "e65e8a3f",
   "metadata": {},
   "source": [
    "# First adding the LSA similarity feature column"
   ]
  },
  {
   "cell_type": "code",
   "execution_count": 1,
   "id": "c487c7fc",
   "metadata": {},
   "outputs": [],
   "source": [
    "#importing the library for TF-IDF\n",
    "from sklearn.feature_extraction.text import TfidfVectorizer\n",
    "#import the libraries for SVD\n",
    "from sklearn.decomposition import TruncatedSVD\n",
    "import numpy as np\n",
    "#import library for cosine similarity\n",
    "import pandas as pd\n",
    "import numpy as np"
   ]
  },
  {
   "cell_type": "code",
   "execution_count": 2,
   "id": "79e26faf",
   "metadata": {},
   "outputs": [],
   "source": [
    "df = pd.read_csv('final.csv')"
   ]
  },
  {
   "cell_type": "code",
   "execution_count": 3,
   "id": "006af375",
   "metadata": {},
   "outputs": [
    {
     "name": "stdout",
     "output_type": "stream",
     "text": [
      "<class 'str'>\n",
      "object-oriented programming inheritance way form new class instance called object using class already defined inheritance concept invented 1967 simula new class known derived class take inherit attribute behavior pre-existing class referred base class ancestor class intended help reuse existing code little modification inheritance provides support representation categorization computer language categorization powerful mechanism number information processing crucial human learning mean generalization known specific entity applied wider group given belongs relation established cognitive economy le information need stored specific entity particularity inheritance also sometimes called generalization is-a relationship represent hierarchy class object instance `` fruit '' generalization `` apple '' `` orange '' `` mango '' many others one consider fruit abstraction apple orange etc conversely since apple fruit i.e. apple is-a fruit apple may naturally inherit property common fruit fleshy container seed plant advantage inheritance module sufficiently similar interface share lot code reducing complexity program inheritance therefore another view dual called polymorphism describes many piece code controlled shared control code inheritance typically accomplished either overriding replacing one method exposed ancestor adding new method exposed ancestor complex inheritance inheritance used within design sufficiently mature may lead yo-yo problem \n",
      "inheritance basic concept object-oriented programming basic idea create new class add extra detail existing class done allowing new class reuse method variable existing class new method class added specialise new class inheritance model “ is-kind-of ” relationship entity object example postgraduate undergraduate kind student kind relationship visualised tree structure ‘ student ’ would general root node ‘ postgraduate ’ ‘ undergraduate ’ would specialised extension ‘ student ’ node child node relationship ‘ student ’ would known superclass parent class whereas ‘ postgraduate ’ would known subclass child class ‘ postgraduate ’ class extends ‘ student ’ class inheritance occur several layer visualised would display larger tree structure example could extend ‘ postgraduate ’ node adding two extra extended class called ‘ msc student ’ ‘ phd student ’ type student kind postgraduate student would mean ‘ msc student ’ ‘ phd student ’ class would inherit method variable ‘ postgraduate ’ ‘ student class ’ \n"
     ]
    }
   ],
   "source": [
    "original = df.Original[0]\n",
    "suspicious = df.Additional[0]\n",
    "print(type(suspicious))\n",
    "print(original)\n",
    "print(suspicious)"
   ]
  },
  {
   "cell_type": "code",
   "execution_count": 4,
   "id": "668f73d9",
   "metadata": {},
   "outputs": [
    {
     "name": "stdout",
     "output_type": "stream",
     "text": [
      "<class 'list'>\n",
      "[\"object-oriented programming inheritance way form new class instance called object using class already defined inheritance concept invented 1967 simula new class known derived class take inherit attribute behavior pre-existing class referred base class ancestor class intended help reuse existing code little modification inheritance provides support representation categorization computer language categorization powerful mechanism number information processing crucial human learning mean generalization known specific entity applied wider group given belongs relation established cognitive economy le information need stored specific entity particularity inheritance also sometimes called generalization is-a relationship represent hierarchy class object instance `` fruit '' generalization `` apple '' `` orange '' `` mango '' many others one consider fruit abstraction apple orange etc conversely since apple fruit i.e. apple is-a fruit apple may naturally inherit property common fruit fleshy container seed plant advantage inheritance module sufficiently similar interface share lot code reducing complexity program inheritance therefore another view dual called polymorphism describes many piece code controlled shared control code inheritance typically accomplished either overriding replacing one method exposed ancestor adding new method exposed ancestor complex inheritance inheritance used within design sufficiently mature may lead yo-yo problem \", 'inheritance basic concept object-oriented programming basic idea create new class add extra detail existing class done allowing new class reuse method variable existing class new method class added specialise new class inheritance model “ is-kind-of ” relationship entity object example postgraduate undergraduate kind student kind relationship visualised tree structure ‘ student ’ would general root node ‘ postgraduate ’ ‘ undergraduate ’ would specialised extension ‘ student ’ node child node relationship ‘ student ’ would known superclass parent class whereas ‘ postgraduate ’ would known subclass child class ‘ postgraduate ’ class extends ‘ student ’ class inheritance occur several layer visualised would display larger tree structure example could extend ‘ postgraduate ’ node adding two extra extended class called ‘ msc student ’ ‘ phd student ’ type student kind postgraduate student would mean ‘ msc student ’ ‘ phd student ’ class would inherit method variable ‘ postgraduate ’ ‘ student class ’ ']\n"
     ]
    }
   ],
   "source": [
    "docs = [original,suspicious]\n",
    "\n",
    "print(type(docs))\n",
    "print(docs)"
   ]
  },
  {
   "cell_type": "code",
   "execution_count": 5,
   "id": "b5ceb60f",
   "metadata": {},
   "outputs": [],
   "source": [
    "def calculate_lsasimilarity(original,suspicious):\n",
    "    docs = [original,suspicious]\n",
    "    vectorizer = TfidfVectorizer()\n",
    "    dictionary = vectorizer.fit_transform(docs)\n",
    "\n",
    "    inarr = dictionary.todense().tolist()\n",
    "\n",
    "    # Create a TruncatedSVD object with 2 components\n",
    "    svd = TruncatedSVD(n_components=2)\n",
    "\n",
    "    # Fit the object to the matrix X\n",
    "    svd.fit(inarr)\n",
    "\n",
    "    U = svd.components_\n",
    "    UT = U.T\n",
    "    Sigma = svd.singular_values_\n",
    "    V = svd.transform(inarr)\n",
    "    # Print the matrices shape\n",
    "\n",
    "    array1 = V[0]\n",
    "    array2 = V[1]\n",
    "\n",
    "    ## calculation for the similarity\n",
    "    numerator=np.dot(array1,array2)\n",
    "\n",
    "    denom=np.sqrt(sum(np.square(array1)))*np.sqrt(sum(np.square(array2)))\n",
    "\n",
    "    # Similarity:\n",
    "    similarity = round(numerator/denom,3)\n",
    "    return similarity"
   ]
  },
  {
   "cell_type": "code",
   "execution_count": 6,
   "id": "149e781d",
   "metadata": {},
   "outputs": [
    {
     "name": "stderr",
     "output_type": "stream",
     "text": [
      "C:\\Users\\dell\\anaconda3\\lib\\site-packages\\sklearn\\decomposition\\_truncated_svd.py:205: RuntimeWarning: invalid value encountered in true_divide\n",
      "  self.explained_variance_ratio_ = exp_var / full_var\n"
     ]
    }
   ],
   "source": [
    "lsa_similarity = list()\n",
    "for i in range(0,len(df)):\n",
    "    original = df.Original[i]\n",
    "    suspicious = df.Additional[i]\n",
    "    #function which calculate similarity feature\n",
    "    value = calculate_lsasimilarity(original,suspicious)\n",
    "    lsa_similarity.append(value)\n",
    "df['lsa_similarity'] = lsa_similarity\n",
    "df.to_csv('final.csv',index=False)"
   ]
  },
  {
   "cell_type": "code",
   "execution_count": null,
   "id": "8d9ac592",
   "metadata": {},
   "outputs": [],
   "source": []
  }
 ],
 "metadata": {
  "kernelspec": {
   "display_name": "Python 3 (ipykernel)",
   "language": "python",
   "name": "python3"
  },
  "language_info": {
   "codemirror_mode": {
    "name": "ipython",
    "version": 3
   },
   "file_extension": ".py",
   "mimetype": "text/x-python",
   "name": "python",
   "nbconvert_exporter": "python",
   "pygments_lexer": "ipython3",
   "version": "3.9.7"
  }
 },
 "nbformat": 4,
 "nbformat_minor": 5
}
