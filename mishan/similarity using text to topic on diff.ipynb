{
 "cells": [
  {
   "cell_type": "code",
   "execution_count": 1,
   "id": "72da709e",
   "metadata": {},
   "outputs": [],
   "source": [
    "#importing the library for TF-IDF\n",
    "from sklearn.feature_extraction.text import TfidfVectorizer\n",
    "#import the libraries for SVD\n",
    "from sklearn.decomposition import TruncatedSVD\n",
    "import numpy as np\n",
    "#import library for cosine similarity\n",
    "import pandas as pd\n",
    "import numpy as np"
   ]
  },
  {
   "cell_type": "code",
   "execution_count": 52,
   "id": "84fd5403",
   "metadata": {},
   "outputs": [],
   "source": [
    "body1 = [\"A person on a horse jumps over a broken down airplane.\"]\n",
    "body2 = [\"A person is at a diner, ordering an omelette.\"]"
   ]
  },
  {
   "cell_type": "code",
   "execution_count": 53,
   "id": "abe0e1f0",
   "metadata": {},
   "outputs": [],
   "source": [
    "vectorizer1 = TfidfVectorizer()\n",
    "vectorizer2 = TfidfVectorizer()\n",
    "bag1 = vectorizer1.fit_transform(body1)\n",
    "bag2 = vectorizer2.fit_transform(body2)"
   ]
  },
  {
   "cell_type": "code",
   "execution_count": 54,
   "id": "5ad0dd44",
   "metadata": {},
   "outputs": [
    {
     "name": "stdout",
     "output_type": "stream",
     "text": [
      "    t1\n",
      "0  1.0\n",
      "    t1\n",
      "0  1.0\n"
     ]
    },
    {
     "name": "stderr",
     "output_type": "stream",
     "text": [
      "C:\\Users\\dell\\anaconda3\\lib\\site-packages\\sklearn\\decomposition\\_truncated_svd.py:205: RuntimeWarning: invalid value encountered in true_divide\n",
      "  self.explained_variance_ratio_ = exp_var / full_var\n"
     ]
    }
   ],
   "source": [
    "svd1 = TruncatedSVD(n_components=1)\n",
    "svd2 = TruncatedSVD(n_components=1)\n",
    "lsa1 = svd1.fit_transform(bag1)\n",
    "lsa2 = svd2.fit_transform(bag2)\n",
    "topic_df1 = pd.DataFrame(lsa1,columns = [\"t1\"])\n",
    "print(topic_df1.head())\n",
    "topic_df2 = pd.DataFrame(lsa2,columns = [\"t1\"])\n",
    "print(topic_df2.head())"
   ]
  },
  {
   "cell_type": "code",
   "execution_count": 55,
   "id": "1f33bd2a",
   "metadata": {},
   "outputs": [],
   "source": [
    "dictionary1 =vectorizer1.get_feature_names()\n",
    "dictionary2 =vectorizer2.get_feature_names()"
   ]
  },
  {
   "cell_type": "code",
   "execution_count": 56,
   "id": "80d7f9fe",
   "metadata": {},
   "outputs": [
    {
     "data": {
      "text/html": [
       "<div>\n",
       "<style scoped>\n",
       "    .dataframe tbody tr th:only-of-type {\n",
       "        vertical-align: middle;\n",
       "    }\n",
       "\n",
       "    .dataframe tbody tr th {\n",
       "        vertical-align: top;\n",
       "    }\n",
       "\n",
       "    .dataframe thead th {\n",
       "        text-align: right;\n",
       "    }\n",
       "</style>\n",
       "<table border=\"1\" class=\"dataframe\">\n",
       "  <thead>\n",
       "    <tr style=\"text-align: right;\">\n",
       "      <th></th>\n",
       "      <th>airplane</th>\n",
       "      <th>broken</th>\n",
       "      <th>down</th>\n",
       "      <th>horse</th>\n",
       "      <th>jumps</th>\n",
       "      <th>on</th>\n",
       "      <th>over</th>\n",
       "      <th>person</th>\n",
       "    </tr>\n",
       "  </thead>\n",
       "  <tbody>\n",
       "    <tr>\n",
       "      <th>t1</th>\n",
       "      <td>0.353553</td>\n",
       "      <td>0.353553</td>\n",
       "      <td>0.353553</td>\n",
       "      <td>0.353553</td>\n",
       "      <td>0.353553</td>\n",
       "      <td>0.353553</td>\n",
       "      <td>0.353553</td>\n",
       "      <td>0.353553</td>\n",
       "    </tr>\n",
       "  </tbody>\n",
       "</table>\n",
       "</div>"
      ],
      "text/plain": [
       "    airplane    broken      down     horse     jumps        on      over  \\\n",
       "t1  0.353553  0.353553  0.353553  0.353553  0.353553  0.353553  0.353553   \n",
       "\n",
       "      person  \n",
       "t1  0.353553  "
      ]
     },
     "execution_count": 56,
     "metadata": {},
     "output_type": "execute_result"
    }
   ],
   "source": [
    "encoded_matrix1= pd.DataFrame(\n",
    "                svd1.components_,\n",
    "                columns=dictionary1,\n",
    "                index = [\"t1\"]\n",
    "                )\n",
    "encoded_matrix1"
   ]
  },
  {
   "cell_type": "code",
   "execution_count": 57,
   "id": "f4b01418",
   "metadata": {},
   "outputs": [
    {
     "data": {
      "text/html": [
       "<div>\n",
       "<style scoped>\n",
       "    .dataframe tbody tr th:only-of-type {\n",
       "        vertical-align: middle;\n",
       "    }\n",
       "\n",
       "    .dataframe tbody tr th {\n",
       "        vertical-align: top;\n",
       "    }\n",
       "\n",
       "    .dataframe thead th {\n",
       "        text-align: right;\n",
       "    }\n",
       "</style>\n",
       "<table border=\"1\" class=\"dataframe\">\n",
       "  <thead>\n",
       "    <tr style=\"text-align: right;\">\n",
       "      <th></th>\n",
       "      <th>an</th>\n",
       "      <th>at</th>\n",
       "      <th>diner</th>\n",
       "      <th>is</th>\n",
       "      <th>omelette</th>\n",
       "      <th>ordering</th>\n",
       "      <th>person</th>\n",
       "    </tr>\n",
       "  </thead>\n",
       "  <tbody>\n",
       "    <tr>\n",
       "      <th>t1</th>\n",
       "      <td>0.377964</td>\n",
       "      <td>0.377964</td>\n",
       "      <td>0.377964</td>\n",
       "      <td>0.377964</td>\n",
       "      <td>0.377964</td>\n",
       "      <td>0.377964</td>\n",
       "      <td>0.377964</td>\n",
       "    </tr>\n",
       "  </tbody>\n",
       "</table>\n",
       "</div>"
      ],
      "text/plain": [
       "          an        at     diner        is  omelette  ordering    person\n",
       "t1  0.377964  0.377964  0.377964  0.377964  0.377964  0.377964  0.377964"
      ]
     },
     "execution_count": 57,
     "metadata": {},
     "output_type": "execute_result"
    }
   ],
   "source": [
    "encoded_matrix2= pd.DataFrame(\n",
    "                svd2.components_,\n",
    "                columns=dictionary2,\n",
    "                index = [\"t1\"]\n",
    "                )\n",
    "encoded_matrix2"
   ]
  },
  {
   "cell_type": "code",
   "execution_count": 12,
   "id": "6b5b95f8",
   "metadata": {},
   "outputs": [
    {
     "name": "stderr",
     "output_type": "stream",
     "text": [
      "[nltk_data] Downloading package punkt to\n",
      "[nltk_data]     C:\\Users\\dell\\AppData\\Roaming\\nltk_data...\n",
      "[nltk_data]   Package punkt is already up-to-date!\n"
     ]
    }
   ],
   "source": [
    "import nltk\n",
    "nltk.download('punkt')\n",
    "from nltk.tokenize import word_tokenize"
   ]
  },
  {
   "cell_type": "code",
   "execution_count": 58,
   "id": "06471e2d",
   "metadata": {},
   "outputs": [
    {
     "name": "stdout",
     "output_type": "stream",
     "text": [
      "['airplane', 'broken', 'down', 'horse', 'jumps', 'on', 'over', 'person']\n",
      "['an', 'at', 'diner', 'is', 'omelette', 'ordering', 'person']\n"
     ]
    }
   ],
   "source": [
    "print(vectorizer1.get_feature_names())\n",
    "print(vectorizer2.get_feature_names())"
   ]
  },
  {
   "cell_type": "code",
   "execution_count": 59,
   "id": "fd54a285",
   "metadata": {},
   "outputs": [
    {
     "name": "stdout",
     "output_type": "stream",
     "text": [
      "{'horse', 'on', 'down', 'airplane', 'broken', 'jumps', 'person', 'over'}\n",
      "{'diner', 'an', 'omelette', 'person', 'is', 'ordering', 'at'}\n",
      "['person']\n"
     ]
    }
   ],
   "source": [
    "d1=set(vectorizer1.get_feature_names())\n",
    "print(d1)\n",
    "d2=set(vectorizer2.get_feature_names())\n",
    "print(d2)\n",
    "\n",
    "c=d1.intersection(d2)\n",
    "cc = list(c)\n",
    "print(cc)"
   ]
  },
  {
   "cell_type": "code",
   "execution_count": 60,
   "id": "67a9f05d",
   "metadata": {},
   "outputs": [
    {
     "name": "stdout",
     "output_type": "stream",
     "text": [
      "the     0.288675\n",
      "were    0.144338\n",
      "Name: t1, dtype: float64\n",
      "the     0.609994\n",
      "were    0.152499\n",
      "Name: t1, dtype: float64\n"
     ]
    }
   ],
   "source": [
    "#v1 = em.loc[cc]\n",
    "#print(v1)\n",
    "v1 = encoded_matrix1.T.loc[cc]\n",
    "print(array1)\n",
    "\n",
    "v2 = encoded_matrix2.T.loc[cc]\n",
    "print(array2)"
   ]
  },
  {
   "cell_type": "code",
   "execution_count": 61,
   "id": "4dc97383",
   "metadata": {},
   "outputs": [
    {
     "name": "stdout",
     "output_type": "stream",
     "text": [
      "person    0.353553\n",
      "Name: t1, dtype: float64\n",
      "\n",
      "\n",
      "\n",
      "person    0.377964\n",
      "Name: t1, dtype: float64\n"
     ]
    },
    {
     "data": {
      "text/plain": [
       "pandas.core.frame.DataFrame"
      ]
     },
     "execution_count": 61,
     "metadata": {},
     "output_type": "execute_result"
    }
   ],
   "source": [
    "array1 = v1['t1'].T\n",
    "print(array1)\n",
    "print(\"\\n\\n\")\n",
    "array2 = v2['t1'].T\n",
    "print(array2)\n",
    "type(v1)"
   ]
  },
  {
   "cell_type": "code",
   "execution_count": 62,
   "id": "596f5d55",
   "metadata": {},
   "outputs": [
    {
     "data": {
      "text/plain": [
       "1.0"
      ]
     },
     "execution_count": 62,
     "metadata": {},
     "output_type": "execute_result"
    }
   ],
   "source": [
    "## calculation for the similarity\n",
    "numerator=np.dot(array1,array2)\n",
    "\n",
    "denom=np.sqrt(sum(np.square(array1)))*np.sqrt(sum(np.square(array2)))\n",
    "\n",
    "# Similarity:\n",
    "round(numerator/denom,3)"
   ]
  },
  {
   "cell_type": "code",
   "execution_count": null,
   "id": "7a92b52c",
   "metadata": {},
   "outputs": [],
   "source": []
  }
 ],
 "metadata": {
  "kernelspec": {
   "display_name": "Python 3 (ipykernel)",
   "language": "python",
   "name": "python3"
  },
  "language_info": {
   "codemirror_mode": {
    "name": "ipython",
    "version": 3
   },
   "file_extension": ".py",
   "mimetype": "text/x-python",
   "name": "python",
   "nbconvert_exporter": "python",
   "pygments_lexer": "ipython3",
   "version": "3.9.7"
  }
 },
 "nbformat": 4,
 "nbformat_minor": 5
}
