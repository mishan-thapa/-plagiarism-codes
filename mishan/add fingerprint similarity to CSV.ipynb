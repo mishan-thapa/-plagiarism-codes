{
 "cells": [
  {
   "cell_type": "code",
   "execution_count": 1,
   "id": "07747232",
   "metadata": {},
   "outputs": [],
   "source": [
    "from random import shuffle\n",
    "import pandas as pd"
   ]
  },
  {
   "cell_type": "code",
   "execution_count": 2,
   "id": "3c428d66",
   "metadata": {},
   "outputs": [],
   "source": [
    "df = pd.read_csv('final.csv')"
   ]
  },
  {
   "cell_type": "code",
   "execution_count": 3,
   "id": "df06ccfb",
   "metadata": {},
   "outputs": [],
   "source": [
    "def calculate_fingerprintsimilarity(original,suspicious):\n",
    "    doc1= original\n",
    "    doc2=suspicious\n",
    "    def shingle(text:str,k:int):\n",
    "        shingle_set =[]\n",
    "        for i in range(len(text)-k+1):\n",
    "            shingle_set.append(text[i:i+k])\n",
    "        return set(shingle_set)\n",
    "    d1 = shingle(doc1,2)\n",
    "    d2 = shingle(doc2,2)\n",
    "    vocab = list(d1.union(d2))\n",
    "    d1_en =[1 if x in d1 else 0 for x in vocab]\n",
    "    d2_en =[1 if x in d2 else 0 for x in vocab]\n",
    "    \n",
    "    def create_hash(size:int):\n",
    "        hash_ex = list(range(1,len(vocab)+1))\n",
    "        shuffle(hash_ex)\n",
    "        return hash_ex\n",
    "\n",
    "    def build_minhash_func(vocab_size:int,nbits:int):\n",
    "        hashes=[]\n",
    "        for _ in range(nbits):\n",
    "            hashes.append(create_hash(vocab_size))\n",
    "        return hashes\n",
    "#creates a array of 64bit hash\n",
    "    minhash_func =build_minhash_func(len(vocab),64)\n",
    "    \n",
    "    def create_hash(vector: list):\n",
    "        # use this function for creating our signatures (eg the matching)\n",
    "        signature = []\n",
    "        for func in minhash_func:\n",
    "            for i in range(1, len(vocab)+1):\n",
    "                idx = func.index(i)\n",
    "                signature_val = vector[idx]\n",
    "                if signature_val == 1:\n",
    "                    signature.append(idx)\n",
    "                    break\n",
    "        return signature\n",
    "\n",
    "    a_sig = create_hash(d1_en)\n",
    "    b_sig = create_hash(d2_en)\n",
    "    \n",
    "    def jaccard(x,y):\n",
    "        return len(x.intersection(y))/len(x.union(y))\n",
    "    \n",
    "    similarity = jaccard(set(a_sig),set(b_sig))\n",
    "    return similarity"
   ]
  },
  {
   "cell_type": "code",
   "execution_count": 4,
   "id": "eaa332f7",
   "metadata": {},
   "outputs": [
    {
     "name": "stdout",
     "output_type": "stream",
     "text": [
      "0.3176470588235294\n"
     ]
    }
   ],
   "source": [
    "original = df.Original[0]\n",
    "suspicious = df.Additional[0]\n",
    "    #function which calculate similarity feature\n",
    "value = calculate_fingerprintsimilarity(original,suspicious)\n",
    "print(value)"
   ]
  },
  {
   "cell_type": "code",
   "execution_count": 5,
   "id": "7aec5a6e",
   "metadata": {},
   "outputs": [],
   "source": [
    "fingerprint_similarity = list()\n",
    "for i in range(0,len(df)):\n",
    "    original = df.Original[i]\n",
    "    suspicious = df.Additional[i]\n",
    "    #function which calculate similarity feature\n",
    "    value = calculate_fingerprintsimilarity(original,suspicious)\n",
    "    fingerprint_similarity.append(value)\n",
    "df['fingerprint_similarity'] = fingerprint_similarity\n",
    "df.to_csv('final.csv',index=False)"
   ]
  },
  {
   "cell_type": "code",
   "execution_count": null,
   "id": "f921f81e",
   "metadata": {},
   "outputs": [],
   "source": []
  }
 ],
 "metadata": {
  "kernelspec": {
   "display_name": "Python 3 (ipykernel)",
   "language": "python",
   "name": "python3"
  },
  "language_info": {
   "codemirror_mode": {
    "name": "ipython",
    "version": 3
   },
   "file_extension": ".py",
   "mimetype": "text/x-python",
   "name": "python",
   "nbconvert_exporter": "python",
   "pygments_lexer": "ipython3",
   "version": "3.9.7"
  }
 },
 "nbformat": 4,
 "nbformat_minor": 5
}
