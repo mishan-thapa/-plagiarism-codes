{
 "cells": [
  {
   "cell_type": "code",
   "execution_count": 2,
   "id": "ae64406b",
   "metadata": {},
   "outputs": [],
   "source": [
    "import numpy as np\n",
    "from numpy.linalg import eigh,norm"
   ]
  },
  {
   "cell_type": "markdown",
   "id": "f8ccf5ba",
   "metadata": {},
   "source": [
    "# get the word freuency matrix \n",
    "i have done its coding in separate file"
   ]
  },
  {
   "cell_type": "code",
   "execution_count": 3,
   "id": "3efe82f9",
   "metadata": {},
   "outputs": [
    {
     "name": "stdout",
     "output_type": "stream",
     "text": [
      "['book', 'my', 'pen', 'read', 'spectacles', 'to', 'use', 'write']\n",
      "[[1 2 1 0 0 1 1 1]\n",
      " [1 2 0 1 1 1 1 0]]\n"
     ]
    }
   ],
   "source": [
    "#importing the library\n",
    "from sklearn.feature_extraction.text import CountVectorizer\n",
    "docs = [\"i use my pen to write my book\",\"i use my spectacles to read my book\"]\n",
    "vectorizer = CountVectorizer()\n",
    "dictionary = vectorizer.fit_transform(docs)\n",
    "print(vectorizer.get_feature_names())\n",
    "print(dictionary.todense())"
   ]
  },
  {
   "cell_type": "markdown",
   "id": "150f9a6d",
   "metadata": {},
   "source": [
    "so lets assign that word frequency matrix to a matrix named \"wf\""
   ]
  },
  {
   "cell_type": "code",
   "execution_count": 11,
   "id": "0d897847",
   "metadata": {},
   "outputs": [
    {
     "name": "stdout",
     "output_type": "stream",
     "text": [
      "[[1 2 1 0 0 1 1 1]\n",
      " [1 2 0 1 1 1 1 0]]\n"
     ]
    }
   ],
   "source": [
    "wf = dictionary.todense()\n",
    "print(wf)"
   ]
  },
  {
   "cell_type": "code",
   "execution_count": 12,
   "id": "3e1815d1",
   "metadata": {},
   "outputs": [
    {
     "data": {
      "text/plain": [
       "matrix([[1, 1],\n",
       "        [2, 2],\n",
       "        [1, 0],\n",
       "        [0, 1],\n",
       "        [0, 1],\n",
       "        [1, 1],\n",
       "        [1, 1],\n",
       "        [1, 0]], dtype=int64)"
      ]
     },
     "execution_count": 12,
     "metadata": {},
     "output_type": "execute_result"
    }
   ],
   "source": [
    "wf.T"
   ]
  },
  {
   "cell_type": "markdown",
   "id": "a11dde5d",
   "metadata": {},
   "source": [
    "below code gives two matrices "
   ]
  },
  {
   "cell_type": "code",
   "execution_count": 13,
   "id": "f047f729",
   "metadata": {},
   "outputs": [
    {
     "data": {
      "text/plain": [
       "(array([-1.02482984e-15, -1.36826427e-16, -7.76416999e-17,  2.01329472e-17,\n",
       "         1.36240218e-16,  3.24163299e-15,  2.00000000e+00,  1.60000000e+01]),\n",
       " matrix([[-5.82178716e-01,  1.58194179e-01,  1.47774634e-01,\n",
       "           7.66444875e-02, -5.98967624e-01, -3.52942785e-01,\n",
       "          -9.37802184e-17,  3.53553391e-01],\n",
       "         [ 2.01216233e-01,  3.10806607e-02,  3.74652461e-02,\n",
       "           2.05522770e-02, -1.46820835e-01,  6.59669327e-01,\n",
       "           1.63021835e-16,  7.07106781e-01],\n",
       "         [-3.97423003e-01,  4.72010374e-01, -2.16091758e-01,\n",
       "          -1.40873544e-01,  5.19352653e-01,  4.17490363e-02,\n",
       "          -5.00000000e-01,  1.76776695e-01],\n",
       "         [-2.93745892e-01, -2.02150532e-01, -5.82218274e-01,\n",
       "           4.32182622e-01,  2.56222363e-01, -1.37359587e-02,\n",
       "           5.00000000e-01,  1.76776695e-01],\n",
       "         [-2.69591857e-01, -1.36520243e-01,  4.56311869e-01,\n",
       "          -5.15621954e-01,  3.90877526e-01, -2.36789379e-02,\n",
       "           5.00000000e-01,  1.76776695e-01],\n",
       "         [ 3.66351175e-01,  1.76437238e-01,  3.81743831e-01,\n",
       "           4.91432791e-01,  3.28985543e-01, -4.62807401e-01,\n",
       "          -9.63397412e-17,  3.53553391e-01],\n",
       "         [ 3.76732824e-01, -5.81219621e-02, -4.78542552e-01,\n",
       "          -5.25742500e-01, -8.34761383e-02, -4.66173573e-01,\n",
       "          -1.55242210e-16,  3.53553391e-01],\n",
       "         [-1.65914747e-01, -8.10681149e-01,  9.01853532e-02,\n",
       "           5.74342122e-02,  1.27747235e-01, -7.91639329e-02,\n",
       "          -5.00000000e-01,  1.76776695e-01]]))"
      ]
     },
     "execution_count": 13,
     "metadata": {},
     "output_type": "execute_result"
    }
   ],
   "source": [
    "eigh(wf.T@wf)"
   ]
  },
  {
   "cell_type": "code",
   "execution_count": 15,
   "id": "6fbad213",
   "metadata": {},
   "outputs": [
    {
     "name": "stdout",
     "output_type": "stream",
     "text": [
      "[[-5.82178716e-01  1.58194179e-01  1.47774634e-01  7.66444875e-02\n",
      "  -5.98967624e-01 -3.52942785e-01 -9.37802184e-17  3.53553391e-01]\n",
      " [ 2.01216233e-01  3.10806607e-02  3.74652461e-02  2.05522770e-02\n",
      "  -1.46820835e-01  6.59669327e-01  1.63021835e-16  7.07106781e-01]\n",
      " [-3.97423003e-01  4.72010374e-01 -2.16091758e-01 -1.40873544e-01\n",
      "   5.19352653e-01  4.17490363e-02 -5.00000000e-01  1.76776695e-01]\n",
      " [-2.93745892e-01 -2.02150532e-01 -5.82218274e-01  4.32182622e-01\n",
      "   2.56222363e-01 -1.37359587e-02  5.00000000e-01  1.76776695e-01]\n",
      " [-2.69591857e-01 -1.36520243e-01  4.56311869e-01 -5.15621954e-01\n",
      "   3.90877526e-01 -2.36789379e-02  5.00000000e-01  1.76776695e-01]\n",
      " [ 3.66351175e-01  1.76437238e-01  3.81743831e-01  4.91432791e-01\n",
      "   3.28985543e-01 -4.62807401e-01 -9.63397412e-17  3.53553391e-01]\n",
      " [ 3.76732824e-01 -5.81219621e-02 -4.78542552e-01 -5.25742500e-01\n",
      "  -8.34761383e-02 -4.66173573e-01 -1.55242210e-16  3.53553391e-01]\n",
      " [-1.65914747e-01 -8.10681149e-01  9.01853532e-02  5.74342122e-02\n",
      "   1.27747235e-01 -7.91639329e-02 -5.00000000e-01  1.76776695e-01]]\n"
     ]
    }
   ],
   "source": [
    "ev,v = eigh(wf.T@wf)\n",
    "print(v)"
   ]
  },
  {
   "cell_type": "code",
   "execution_count": 16,
   "id": "7b8adf7c",
   "metadata": {},
   "outputs": [
    {
     "data": {
      "text/plain": [
       "matrix([[-5.82178716e-01,  1.58194179e-01,  1.47774634e-01,\n",
       "          7.66444875e-02, -5.98967624e-01, -3.52942785e-01,\n",
       "         -9.37802184e-17,  3.53553391e-01]])"
      ]
     },
     "execution_count": 16,
     "metadata": {},
     "output_type": "execute_result"
    }
   ],
   "source": [
    "v[0]"
   ]
  },
  {
   "cell_type": "code",
   "execution_count": 17,
   "id": "e7f10d37",
   "metadata": {},
   "outputs": [
    {
     "data": {
      "text/plain": [
       "matrix([[-0.58217872],\n",
       "        [ 0.20121623],\n",
       "        [-0.397423  ],\n",
       "        [-0.29374589],\n",
       "        [-0.26959186],\n",
       "        [ 0.36635118],\n",
       "        [ 0.37673282],\n",
       "        [-0.16591475]])"
      ]
     },
     "execution_count": 17,
     "metadata": {},
     "output_type": "execute_result"
    }
   ],
   "source": [
    "v[:,0]"
   ]
  },
  {
   "cell_type": "code",
   "execution_count": 19,
   "id": "edce318b",
   "metadata": {},
   "outputs": [
    {
     "name": "stdout",
     "output_type": "stream",
     "text": [
      "[[0.7649112 ]\n",
      " [0.64413575]]\n"
     ]
    }
   ],
   "source": [
    "u0 = wf@v[:,0]/norm(wf@v[:,0])\n",
    "print(u0)"
   ]
  },
  {
   "cell_type": "code",
   "execution_count": 20,
   "id": "82e3ad0c",
   "metadata": {},
   "outputs": [
    {
     "name": "stdout",
     "output_type": "stream",
     "text": [
      "[[ 0.70710678]\n",
      " [-0.70710678]]\n"
     ]
    }
   ],
   "source": [
    "u1 = wf@v[:,1]/norm(wf@v[:,1])\n",
    "print(u1)"
   ]
  },
  {
   "cell_type": "code",
   "execution_count": 22,
   "id": "8651d620",
   "metadata": {},
   "outputs": [
    {
     "name": "stdout",
     "output_type": "stream",
     "text": [
      "[[1.]\n",
      " [0.]]\n"
     ]
    }
   ],
   "source": [
    "u2 = wf@v[:,2]/norm(wf@v[:,2])\n",
    "print(u2)"
   ]
  },
  {
   "cell_type": "code",
   "execution_count": null,
   "id": "04a4d0c0",
   "metadata": {},
   "outputs": [],
   "source": []
  }
 ],
 "metadata": {
  "kernelspec": {
   "display_name": "Python 3 (ipykernel)",
   "language": "python",
   "name": "python3"
  },
  "language_info": {
   "codemirror_mode": {
    "name": "ipython",
    "version": 3
   },
   "file_extension": ".py",
   "mimetype": "text/x-python",
   "name": "python",
   "nbconvert_exporter": "python",
   "pygments_lexer": "ipython3",
   "version": "3.9.7"
  }
 },
 "nbformat": 4,
 "nbformat_minor": 5
}
