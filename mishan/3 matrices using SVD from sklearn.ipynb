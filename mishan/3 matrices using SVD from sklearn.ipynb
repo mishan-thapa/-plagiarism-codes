{
 "cells": [
  {
   "cell_type": "markdown",
   "id": "156f6c5b",
   "metadata": {},
   "source": [
    "# Apply SVD using TruncatedSVD from sklearn"
   ]
  },
  {
   "cell_type": "code",
   "execution_count": 30,
   "id": "ca77fe7c",
   "metadata": {},
   "outputs": [],
   "source": [
    "#import the libraries\n",
    "from sklearn.decomposition import TruncatedSVD\n",
    "import numpy as np"
   ]
  },
  {
   "cell_type": "code",
   "execution_count": 31,
   "id": "53f7756c",
   "metadata": {},
   "outputs": [],
   "source": [
    "# Consider a random matrix\n",
    "X = [[1, 2, 1, 0, 0, 1, 1, 1,],\n",
    " [1, 2, 0, 1, 1, 1, 1, 0]]"
   ]
  },
  {
   "cell_type": "code",
   "execution_count": 32,
   "id": "6b758123",
   "metadata": {},
   "outputs": [
    {
     "data": {
      "text/plain": [
       "TruncatedSVD()"
      ]
     },
     "execution_count": 32,
     "metadata": {},
     "output_type": "execute_result"
    }
   ],
   "source": [
    "# Create a TruncatedSVD object with 2 components\n",
    "svd = TruncatedSVD(n_components=2)\n",
    "\n",
    "# Fit the object to the matrix X\n",
    "svd.fit(X)"
   ]
  },
  {
   "cell_type": "markdown",
   "id": "301ba4ee",
   "metadata": {},
   "source": [
    "# Now getting all three matrices "
   ]
  },
  {
   "cell_type": "markdown",
   "id": "95668b92",
   "metadata": {},
   "source": [
    "1st matrix i.e. terms to topic matrix "
   ]
  },
  {
   "cell_type": "markdown",
   "id": "1e14f429",
   "metadata": {},
   "source": [
    "matix row is topics and column is terms i.e topics by terms"
   ]
  },
  {
   "cell_type": "code",
   "execution_count": 33,
   "id": "6ecd1b0e",
   "metadata": {},
   "outputs": [
    {
     "name": "stdout",
     "output_type": "stream",
     "text": [
      "[[ 3.53553391e-01  7.07106781e-01  1.76776695e-01  1.76776695e-01\n",
      "   1.76776695e-01  3.53553391e-01  3.53553391e-01  1.76776695e-01]\n",
      " [ 1.74955714e-16 -1.09106314e-17 -5.00000000e-01  5.00000000e-01\n",
      "   5.00000000e-01 -3.74420326e-17 -3.74420326e-17 -5.00000000e-01]]\n"
     ]
    }
   ],
   "source": [
    "U = svd.components_\n",
    "print(U)"
   ]
  },
  {
   "cell_type": "markdown",
   "id": "3986601f",
   "metadata": {},
   "source": [
    "so we can use its transverse i.e. terms by topics "
   ]
  },
  {
   "cell_type": "code",
   "execution_count": 34,
   "id": "e4af773f",
   "metadata": {},
   "outputs": [
    {
     "name": "stdout",
     "output_type": "stream",
     "text": [
      "[[ 3.53553391e-01  1.74955714e-16]\n",
      " [ 7.07106781e-01 -1.09106314e-17]\n",
      " [ 1.76776695e-01 -5.00000000e-01]\n",
      " [ 1.76776695e-01  5.00000000e-01]\n",
      " [ 1.76776695e-01  5.00000000e-01]\n",
      " [ 3.53553391e-01 -3.74420326e-17]\n",
      " [ 3.53553391e-01 -3.74420326e-17]\n",
      " [ 1.76776695e-01 -5.00000000e-01]]\n"
     ]
    }
   ],
   "source": [
    "UT = U.T\n",
    "print(UT)"
   ]
  },
  {
   "cell_type": "markdown",
   "id": "5436fda2",
   "metadata": {},
   "source": [
    "2nd matrix i.e. the strength of that topic matrix"
   ]
  },
  {
   "cell_type": "code",
   "execution_count": 35,
   "id": "2a5e21a2",
   "metadata": {},
   "outputs": [
    {
     "name": "stdout",
     "output_type": "stream",
     "text": [
      "[4.         1.41421356]\n"
     ]
    }
   ],
   "source": [
    "Sigma = svd.singular_values_\n",
    "print(Sigma)"
   ]
  },
  {
   "cell_type": "markdown",
   "id": "23bdf029",
   "metadata": {},
   "source": [
    "3rd matrix i.e. the docs to topic matrix"
   ]
  },
  {
   "cell_type": "markdown",
   "id": "8dba7613",
   "metadata": {},
   "source": [
    "matix row is docs and column is topics i.e docs by topics"
   ]
  },
  {
   "cell_type": "code",
   "execution_count": 36,
   "id": "66e05a94",
   "metadata": {},
   "outputs": [
    {
     "name": "stdout",
     "output_type": "stream",
     "text": [
      "[[ 2.82842712 -1.        ]\n",
      " [ 2.82842712  1.        ]]\n"
     ]
    }
   ],
   "source": [
    "V = svd.transform(X)\n",
    "print(V)"
   ]
  },
  {
   "cell_type": "markdown",
   "id": "cebfa235",
   "metadata": {},
   "source": [
    "getting the size of the matrices and reconstructing original one"
   ]
  },
  {
   "cell_type": "code",
   "execution_count": 47,
   "id": "371fb28a",
   "metadata": {},
   "outputs": [
    {
     "name": "stdout",
     "output_type": "stream",
     "text": [
      "U: (2, 8)\n",
      "Sigma: (2,)\n",
      "VT: (2, 2)\n"
     ]
    }
   ],
   "source": [
    "# Print the matrices\n",
    "print(\"U:\",U.shape)\n",
    "print(\"Sigma:\",Sigma.shape)\n",
    "print(\"VT:\",V.shape)"
   ]
  },
  {
   "cell_type": "code",
   "execution_count": 44,
   "id": "e7157e86",
   "metadata": {},
   "outputs": [
    {
     "name": "stdout",
     "output_type": "stream",
     "text": [
      "Reconstructed matrix : [[4.         8.         2.70710678 1.29289322 1.29289322 4.\n",
      "  4.         2.70710678]\n",
      " [4.         8.         1.29289322 2.70710678 2.70710678 4.\n",
      "  4.         1.29289322]]\n"
     ]
    }
   ],
   "source": [
    "# Reconstruct the original matrix\n",
    "X_reconstructed = V.dot(np.diag(Sigma)).dot(U)\n",
    "print(\"Reconstructed matrix :\",X_reconstructed)"
   ]
  },
  {
   "cell_type": "markdown",
   "id": "4713e32c",
   "metadata": {},
   "source": [
    "if we look this process and result "
   ]
  },
  {
   "cell_type": "markdown",
   "id": "c8befe1b",
   "metadata": {},
   "source": [
    "1st, 2nd and 3rd matrices are V, S, U not U, S, V"
   ]
  },
  {
   "cell_type": "markdown",
   "id": "bf536109",
   "metadata": {},
   "source": [
    "now i dont have clue about this variance ratio"
   ]
  },
  {
   "cell_type": "code",
   "execution_count": 48,
   "id": "6a06ca08",
   "metadata": {},
   "outputs": [
    {
     "name": "stdout",
     "output_type": "stream",
     "text": [
      "Explained variance ratio:  [0. 1.]\n"
     ]
    }
   ],
   "source": [
    "# Print the variance ratio\n",
    "print(\"Explained variance ratio: \", svd.explained_variance_ratio_)"
   ]
  }
 ],
 "metadata": {
  "kernelspec": {
   "display_name": "Python 3 (ipykernel)",
   "language": "python",
   "name": "python3"
  },
  "language_info": {
   "codemirror_mode": {
    "name": "ipython",
    "version": 3
   },
   "file_extension": ".py",
   "mimetype": "text/x-python",
   "name": "python",
   "nbconvert_exporter": "python",
   "pygments_lexer": "ipython3",
   "version": "3.9.7"
  }
 },
 "nbformat": 4,
 "nbformat_minor": 5
}
