{
 "cells": [
  {
   "cell_type": "markdown",
   "id": "968fc7d4",
   "metadata": {},
   "source": [
    "# tokenization + punctuation and stopwords removal"
   ]
  },
  {
   "cell_type": "code",
   "execution_count": 11,
   "id": "7371504a",
   "metadata": {},
   "outputs": [],
   "source": [
    "text = \"long ago when there was no written history these islands were the home of millions of happy birds the resort of a hundred times more millions of fishes sea lions and other creatures\""
   ]
  },
  {
   "cell_type": "markdown",
   "id": "3b698136",
   "metadata": {},
   "source": [
    "this one's for punctuation and tokenization"
   ]
  },
  {
   "cell_type": "code",
   "execution_count": 12,
   "id": "4ba37456",
   "metadata": {},
   "outputs": [],
   "source": [
    "#nep_punctuations = ['।', ',', ';', '?', '!', '—', '-', '.','’','‘','\"']\n",
    "eng_punctuations = ['!', '\"', '#', '$', '%', '&', \"'\", '(', ')', '*', '+', ',', '-', '.', '/',\n",
    "                    ':', ';', '<', '=', '>', '?', '@', '[', '\\\\', ']', '^', '_', '`', '{', '|', '}', '~']\n",
    "\n",
    "for punctuation in eng_punctuations:\n",
    "    text = text.replace(punctuation, ' ')\n",
    "    \n",
    "    \n",
    "text = text.strip().split()"
   ]
  },
  {
   "cell_type": "code",
   "execution_count": 13,
   "id": "64e6ecb3",
   "metadata": {},
   "outputs": [
    {
     "name": "stdout",
     "output_type": "stream",
     "text": [
      "['long', 'ago', 'when', 'there', 'was', 'no', 'written', 'history', 'these', 'islands', 'were', 'the', 'home', 'of', 'millions', 'of', 'happy', 'birds', 'the', 'resort', 'of', 'a', 'hundred', 'times', 'more', 'millions', 'of', 'fishes', 'sea', 'lions', 'and', 'other', 'creatures']\n"
     ]
    }
   ],
   "source": [
    "print(text)"
   ]
  },
  {
   "cell_type": "code",
   "execution_count": 14,
   "id": "3c9f5e6c",
   "metadata": {},
   "outputs": [],
   "source": [
    "token = text"
   ]
  },
  {
   "cell_type": "markdown",
   "id": "52cb5f0a",
   "metadata": {},
   "source": [
    "now for stopwords removal"
   ]
  },
  {
   "cell_type": "code",
   "execution_count": 15,
   "id": "ad465a18",
   "metadata": {},
   "outputs": [],
   "source": [
    "stopwords_list = ['i', 'me', 'my', 'myself', 'we', 'our', 'ours', 'ourselves', 'you', \"you're\", \"you've\", \"you'll\",\n",
    "             \"you'd\", 'your', 'yours', 'yourself', 'yourselves', 'he', 'him', 'his', 'himself', 'she', \"she's\",\n",
    "             'her', 'hers', 'herself', 'it', \"it's\", 'its', 'itself', 'they', 'them', 'their', 'theirs', \n",
    "             'themselves', 'what', 'which', 'who', 'whom', 'this', 'that', \"that'll\", 'these', 'those', 'am', \n",
    "             'is', 'are', 'was', 'were', 'be', 'been', 'being', 'have', 'has', 'had', 'having', 'do', 'does',\n",
    "             'did', 'doing', 'a', 'an', 'the', 'and', 'but', 'if', 'or', 'because', 'as', 'until', 'while', \n",
    "             'of', 'at', 'by', 'for', 'with', 'about', 'against', 'between', 'into', 'through', 'during', \n",
    "             'before', 'after', 'above', 'below', 'to', 'from', 'up', 'down', 'in', 'out', 'on', 'off',\n",
    "             'over', 'under', 'again', 'further', 'then', 'once', 'here', 'there', 'when', 'where', 'why',\n",
    "             'how', 'all', 'any', 'both', 'each', 'few', 'more', 'most', 'other', 'some', 'such', 'no', 'nor', \n",
    "             'not', 'only', 'own', 'same', 'so', 'than', 'too', 'very', 's', 't', 'can', 'will', 'just', 'don',\n",
    "             \"don't\", 'should', \"should've\", 'now', 'd', 'll', 'm', 'o', 're', 've', 'y', 'ain', 'aren', \"aren't\",\n",
    "             'couldn', \"couldn't\", 'didn', \"didn't\", 'doesn', \"doesn't\", 'hadn', \"hadn't\", 'hasn', \"hasn't\", \n",
    "             'haven', \"haven't\", 'isn', \"isn't\", 'ma', 'mightn', \"mightn't\", 'mustn', \"mustn't\", 'needn',\n",
    "             \"needn't\", 'shan', \"shan't\", 'shouldn', \"shouldn't\", 'wasn', \"wasn't\", 'weren', \"weren't\",\n",
    "             'won', \"won't\", 'wouldn', \"wouldn't\"]"
   ]
  },
  {
   "cell_type": "code",
   "execution_count": 16,
   "id": "58d32322",
   "metadata": {},
   "outputs": [],
   "source": [
    " new_tokens = list() #new_tokens hold the list of words after removing stopwords\n",
    "for token in token:\n",
    "    if token not in stopwords_list:\n",
    "        new_tokens.append(token)"
   ]
  },
  {
   "cell_type": "code",
   "execution_count": 17,
   "id": "e071f81c",
   "metadata": {},
   "outputs": [
    {
     "name": "stdout",
     "output_type": "stream",
     "text": [
      "['long', 'ago', 'written', 'history', 'islands', 'home', 'millions', 'happy', 'birds', 'resort', 'hundred', 'times', 'millions', 'fishes', 'sea', 'lions', 'creatures']\n"
     ]
    }
   ],
   "source": [
    "print(new_tokens)"
   ]
  },
  {
   "cell_type": "code",
   "execution_count": null,
   "id": "dc60300f",
   "metadata": {},
   "outputs": [],
   "source": []
  }
 ],
 "metadata": {
  "kernelspec": {
   "display_name": "Python 3 (ipykernel)",
   "language": "python",
   "name": "python3"
  },
  "language_info": {
   "codemirror_mode": {
    "name": "ipython",
    "version": 3
   },
   "file_extension": ".py",
   "mimetype": "text/x-python",
   "name": "python",
   "nbconvert_exporter": "python",
   "pygments_lexer": "ipython3",
   "version": "3.11.1"
  }
 },
 "nbformat": 4,
 "nbformat_minor": 5
}
