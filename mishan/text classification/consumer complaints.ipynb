{
 "cells": [
  {
   "cell_type": "markdown",
   "id": "1937df5a",
   "metadata": {},
   "source": [
    "# TEXT CLASSIFICATION USING LSTM MODEL"
   ]
  },
  {
   "cell_type": "code",
   "execution_count": 4,
   "id": "a09e3b86",
   "metadata": {},
   "outputs": [],
   "source": [
    "import numpy as np\n",
    "import pandas as pd\n",
    "import matplotlib.pyplot as plt\n",
    "from tensorflow.keras.preprocessing.text import Tokenizer\n",
    "from tensorflow.keras.preprocessing.sequence import pad_sequences\n",
    "from tensorflow.keras.models import Sequential\n",
    "from tensorflow.keras.layers import Dense, Embedding, LSTM, SpatialDropout1D\n",
    "from sklearn.model_selection import train_test_split\n",
    "from tensorflow.keras.callbacks import EarlyStopping\n",
    "from tensorflow.keras.layers import Dropout"
   ]
  },
  {
   "cell_type": "markdown",
   "id": "9db78cfa",
   "metadata": {},
   "source": [
    "# importing the dataset csv file"
   ]
  },
  {
   "cell_type": "code",
   "execution_count": 5,
   "id": "1621823c",
   "metadata": {},
   "outputs": [],
   "source": [
    "df = pd.read_csv('Consumer_Complaints.csv')"
   ]
  },
  {
   "cell_type": "code",
   "execution_count": 6,
   "id": "11514b04",
   "metadata": {},
   "outputs": [
    {
     "data": {
      "text/html": [
       "<div>\n",
       "<style scoped>\n",
       "    .dataframe tbody tr th:only-of-type {\n",
       "        vertical-align: middle;\n",
       "    }\n",
       "\n",
       "    .dataframe tbody tr th {\n",
       "        vertical-align: top;\n",
       "    }\n",
       "\n",
       "    .dataframe thead th {\n",
       "        text-align: right;\n",
       "    }\n",
       "</style>\n",
       "<table border=\"1\" class=\"dataframe\">\n",
       "  <thead>\n",
       "    <tr style=\"text-align: right;\">\n",
       "      <th></th>\n",
       "      <th>Date received</th>\n",
       "      <th>Product</th>\n",
       "      <th>Sub-product</th>\n",
       "      <th>Issue</th>\n",
       "      <th>Sub-issue</th>\n",
       "      <th>Consumer complaint narrative</th>\n",
       "      <th>Company public response</th>\n",
       "      <th>Company</th>\n",
       "      <th>State</th>\n",
       "      <th>ZIP code</th>\n",
       "      <th>Tags</th>\n",
       "      <th>Consumer consent provided?</th>\n",
       "      <th>Submitted via</th>\n",
       "      <th>Date sent to company</th>\n",
       "      <th>Company response to consumer</th>\n",
       "      <th>Timely response?</th>\n",
       "      <th>Consumer disputed?</th>\n",
       "      <th>Complaint ID</th>\n",
       "    </tr>\n",
       "  </thead>\n",
       "  <tbody>\n",
       "    <tr>\n",
       "      <th>0</th>\n",
       "      <td>03/12/2014</td>\n",
       "      <td>Mortgage</td>\n",
       "      <td>Other mortgage</td>\n",
       "      <td>Loan modification,collection,foreclosure</td>\n",
       "      <td>NaN</td>\n",
       "      <td>NaN</td>\n",
       "      <td>NaN</td>\n",
       "      <td>M&amp;T BANK CORPORATION</td>\n",
       "      <td>MI</td>\n",
       "      <td>48382</td>\n",
       "      <td>NaN</td>\n",
       "      <td>NaN</td>\n",
       "      <td>Referral</td>\n",
       "      <td>03/17/2014</td>\n",
       "      <td>Closed with explanation</td>\n",
       "      <td>Yes</td>\n",
       "      <td>No</td>\n",
       "      <td>759217</td>\n",
       "    </tr>\n",
       "    <tr>\n",
       "      <th>1</th>\n",
       "      <td>10/01/2016</td>\n",
       "      <td>Credit reporting</td>\n",
       "      <td>NaN</td>\n",
       "      <td>Incorrect information on credit report</td>\n",
       "      <td>Account status</td>\n",
       "      <td>I have outdated information on my credit repor...</td>\n",
       "      <td>Company has responded to the consumer and the ...</td>\n",
       "      <td>TRANSUNION INTERMEDIATE HOLDINGS, INC.</td>\n",
       "      <td>AL</td>\n",
       "      <td>352XX</td>\n",
       "      <td>NaN</td>\n",
       "      <td>Consent provided</td>\n",
       "      <td>Web</td>\n",
       "      <td>10/05/2016</td>\n",
       "      <td>Closed with explanation</td>\n",
       "      <td>Yes</td>\n",
       "      <td>No</td>\n",
       "      <td>2141773</td>\n",
       "    </tr>\n",
       "    <tr>\n",
       "      <th>2</th>\n",
       "      <td>10/17/2016</td>\n",
       "      <td>Consumer Loan</td>\n",
       "      <td>Vehicle loan</td>\n",
       "      <td>Managing the loan or lease</td>\n",
       "      <td>NaN</td>\n",
       "      <td>I purchased a new car on XXXX XXXX. The car de...</td>\n",
       "      <td>NaN</td>\n",
       "      <td>CITIZENS FINANCIAL GROUP, INC.</td>\n",
       "      <td>PA</td>\n",
       "      <td>177XX</td>\n",
       "      <td>Older American</td>\n",
       "      <td>Consent provided</td>\n",
       "      <td>Web</td>\n",
       "      <td>10/20/2016</td>\n",
       "      <td>Closed with explanation</td>\n",
       "      <td>Yes</td>\n",
       "      <td>No</td>\n",
       "      <td>2163100</td>\n",
       "    </tr>\n",
       "    <tr>\n",
       "      <th>3</th>\n",
       "      <td>06/08/2014</td>\n",
       "      <td>Credit card</td>\n",
       "      <td>NaN</td>\n",
       "      <td>Bankruptcy</td>\n",
       "      <td>NaN</td>\n",
       "      <td>NaN</td>\n",
       "      <td>NaN</td>\n",
       "      <td>AMERICAN EXPRESS COMPANY</td>\n",
       "      <td>ID</td>\n",
       "      <td>83854</td>\n",
       "      <td>Older American</td>\n",
       "      <td>NaN</td>\n",
       "      <td>Web</td>\n",
       "      <td>06/10/2014</td>\n",
       "      <td>Closed with explanation</td>\n",
       "      <td>Yes</td>\n",
       "      <td>Yes</td>\n",
       "      <td>885638</td>\n",
       "    </tr>\n",
       "    <tr>\n",
       "      <th>4</th>\n",
       "      <td>09/13/2014</td>\n",
       "      <td>Debt collection</td>\n",
       "      <td>Credit card</td>\n",
       "      <td>Communication tactics</td>\n",
       "      <td>Frequent or repeated calls</td>\n",
       "      <td>NaN</td>\n",
       "      <td>NaN</td>\n",
       "      <td>CITIBANK, N.A.</td>\n",
       "      <td>VA</td>\n",
       "      <td>23233</td>\n",
       "      <td>NaN</td>\n",
       "      <td>NaN</td>\n",
       "      <td>Web</td>\n",
       "      <td>09/13/2014</td>\n",
       "      <td>Closed with explanation</td>\n",
       "      <td>Yes</td>\n",
       "      <td>Yes</td>\n",
       "      <td>1027760</td>\n",
       "    </tr>\n",
       "  </tbody>\n",
       "</table>\n",
       "</div>"
      ],
      "text/plain": [
       "  Date received           Product     Sub-product  \\\n",
       "0    03/12/2014          Mortgage  Other mortgage   \n",
       "1    10/01/2016  Credit reporting             NaN   \n",
       "2    10/17/2016     Consumer Loan    Vehicle loan   \n",
       "3    06/08/2014       Credit card             NaN   \n",
       "4    09/13/2014   Debt collection     Credit card   \n",
       "\n",
       "                                      Issue                   Sub-issue  \\\n",
       "0  Loan modification,collection,foreclosure                         NaN   \n",
       "1    Incorrect information on credit report              Account status   \n",
       "2                Managing the loan or lease                         NaN   \n",
       "3                                Bankruptcy                         NaN   \n",
       "4                     Communication tactics  Frequent or repeated calls   \n",
       "\n",
       "                        Consumer complaint narrative  \\\n",
       "0                                                NaN   \n",
       "1  I have outdated information on my credit repor...   \n",
       "2  I purchased a new car on XXXX XXXX. The car de...   \n",
       "3                                                NaN   \n",
       "4                                                NaN   \n",
       "\n",
       "                             Company public response  \\\n",
       "0                                                NaN   \n",
       "1  Company has responded to the consumer and the ...   \n",
       "2                                                NaN   \n",
       "3                                                NaN   \n",
       "4                                                NaN   \n",
       "\n",
       "                                  Company State ZIP code            Tags  \\\n",
       "0                    M&T BANK CORPORATION    MI    48382             NaN   \n",
       "1  TRANSUNION INTERMEDIATE HOLDINGS, INC.    AL    352XX             NaN   \n",
       "2          CITIZENS FINANCIAL GROUP, INC.    PA    177XX  Older American   \n",
       "3                AMERICAN EXPRESS COMPANY    ID    83854  Older American   \n",
       "4                          CITIBANK, N.A.    VA    23233             NaN   \n",
       "\n",
       "  Consumer consent provided? Submitted via Date sent to company  \\\n",
       "0                        NaN      Referral           03/17/2014   \n",
       "1           Consent provided           Web           10/05/2016   \n",
       "2           Consent provided           Web           10/20/2016   \n",
       "3                        NaN           Web           06/10/2014   \n",
       "4                        NaN           Web           09/13/2014   \n",
       "\n",
       "  Company response to consumer Timely response? Consumer disputed?  \\\n",
       "0      Closed with explanation              Yes                 No   \n",
       "1      Closed with explanation              Yes                 No   \n",
       "2      Closed with explanation              Yes                 No   \n",
       "3      Closed with explanation              Yes                Yes   \n",
       "4      Closed with explanation              Yes                Yes   \n",
       "\n",
       "   Complaint ID  \n",
       "0        759217  \n",
       "1       2141773  \n",
       "2       2163100  \n",
       "3        885638  \n",
       "4       1027760  "
      ]
     },
     "execution_count": 6,
     "metadata": {},
     "output_type": "execute_result"
    }
   ],
   "source": [
    "df.head()"
   ]
  },
  {
   "cell_type": "code",
   "execution_count": 7,
   "id": "ae18d52d",
   "metadata": {},
   "outputs": [
    {
     "data": {
      "text/plain": [
       "Index(['Date received', 'Product', 'Sub-product', 'Issue', 'Sub-issue',\n",
       "       'Consumer complaint narrative', 'Company public response', 'Company',\n",
       "       'State', 'ZIP code', 'Tags', 'Consumer consent provided?',\n",
       "       'Submitted via', 'Date sent to company', 'Company response to consumer',\n",
       "       'Timely response?', 'Consumer disputed?', 'Complaint ID'],\n",
       "      dtype='object')"
      ]
     },
     "execution_count": 7,
     "metadata": {},
     "output_type": "execute_result"
    }
   ],
   "source": [
    "df.columns"
   ]
  },
  {
   "cell_type": "code",
   "execution_count": 8,
   "id": "bdf64f54",
   "metadata": {},
   "outputs": [],
   "source": [
    "#choosing only two columns\n",
    "data = df[['Consumer complaint narrative', 'Product']]"
   ]
  },
  {
   "cell_type": "code",
   "execution_count": 9,
   "id": "043b2448",
   "metadata": {},
   "outputs": [
    {
     "data": {
      "text/html": [
       "<div>\n",
       "<style scoped>\n",
       "    .dataframe tbody tr th:only-of-type {\n",
       "        vertical-align: middle;\n",
       "    }\n",
       "\n",
       "    .dataframe tbody tr th {\n",
       "        vertical-align: top;\n",
       "    }\n",
       "\n",
       "    .dataframe thead th {\n",
       "        text-align: right;\n",
       "    }\n",
       "</style>\n",
       "<table border=\"1\" class=\"dataframe\">\n",
       "  <thead>\n",
       "    <tr style=\"text-align: right;\">\n",
       "      <th></th>\n",
       "      <th>Consumer complaint narrative</th>\n",
       "      <th>Product</th>\n",
       "    </tr>\n",
       "  </thead>\n",
       "  <tbody>\n",
       "    <tr>\n",
       "      <th>0</th>\n",
       "      <td>NaN</td>\n",
       "      <td>Mortgage</td>\n",
       "    </tr>\n",
       "    <tr>\n",
       "      <th>1</th>\n",
       "      <td>I have outdated information on my credit repor...</td>\n",
       "      <td>Credit reporting</td>\n",
       "    </tr>\n",
       "    <tr>\n",
       "      <th>2</th>\n",
       "      <td>I purchased a new car on XXXX XXXX. The car de...</td>\n",
       "      <td>Consumer Loan</td>\n",
       "    </tr>\n",
       "    <tr>\n",
       "      <th>3</th>\n",
       "      <td>NaN</td>\n",
       "      <td>Credit card</td>\n",
       "    </tr>\n",
       "    <tr>\n",
       "      <th>4</th>\n",
       "      <td>NaN</td>\n",
       "      <td>Debt collection</td>\n",
       "    </tr>\n",
       "  </tbody>\n",
       "</table>\n",
       "</div>"
      ],
      "text/plain": [
       "                        Consumer complaint narrative           Product\n",
       "0                                                NaN          Mortgage\n",
       "1  I have outdated information on my credit repor...  Credit reporting\n",
       "2  I purchased a new car on XXXX XXXX. The car de...     Consumer Loan\n",
       "3                                                NaN       Credit card\n",
       "4                                                NaN   Debt collection"
      ]
     },
     "execution_count": 9,
     "metadata": {},
     "output_type": "execute_result"
    }
   ],
   "source": [
    "data.head()"
   ]
  },
  {
   "cell_type": "code",
   "execution_count": 10,
   "id": "f5c9ee65",
   "metadata": {},
   "outputs": [],
   "source": [
    "#removing the rows having NULL values\n",
    "data_df = data.dropna()"
   ]
  },
  {
   "cell_type": "code",
   "execution_count": 11,
   "id": "a4fd30b8",
   "metadata": {},
   "outputs": [
    {
     "data": {
      "text/html": [
       "<div>\n",
       "<style scoped>\n",
       "    .dataframe tbody tr th:only-of-type {\n",
       "        vertical-align: middle;\n",
       "    }\n",
       "\n",
       "    .dataframe tbody tr th {\n",
       "        vertical-align: top;\n",
       "    }\n",
       "\n",
       "    .dataframe thead th {\n",
       "        text-align: right;\n",
       "    }\n",
       "</style>\n",
       "<table border=\"1\" class=\"dataframe\">\n",
       "  <thead>\n",
       "    <tr style=\"text-align: right;\">\n",
       "      <th></th>\n",
       "      <th>Consumer complaint narrative</th>\n",
       "      <th>Product</th>\n",
       "    </tr>\n",
       "  </thead>\n",
       "  <tbody>\n",
       "    <tr>\n",
       "      <th>1</th>\n",
       "      <td>I have outdated information on my credit repor...</td>\n",
       "      <td>Credit reporting</td>\n",
       "    </tr>\n",
       "    <tr>\n",
       "      <th>2</th>\n",
       "      <td>I purchased a new car on XXXX XXXX. The car de...</td>\n",
       "      <td>Consumer Loan</td>\n",
       "    </tr>\n",
       "    <tr>\n",
       "      <th>7</th>\n",
       "      <td>An account on my credit report has a mistaken ...</td>\n",
       "      <td>Credit reporting</td>\n",
       "    </tr>\n",
       "    <tr>\n",
       "      <th>12</th>\n",
       "      <td>This company refuses to provide me verificatio...</td>\n",
       "      <td>Debt collection</td>\n",
       "    </tr>\n",
       "    <tr>\n",
       "      <th>16</th>\n",
       "      <td>This complaint is in regards to Square Two Fin...</td>\n",
       "      <td>Debt collection</td>\n",
       "    </tr>\n",
       "  </tbody>\n",
       "</table>\n",
       "</div>"
      ],
      "text/plain": [
       "                         Consumer complaint narrative           Product\n",
       "1   I have outdated information on my credit repor...  Credit reporting\n",
       "2   I purchased a new car on XXXX XXXX. The car de...     Consumer Loan\n",
       "7   An account on my credit report has a mistaken ...  Credit reporting\n",
       "12  This company refuses to provide me verificatio...   Debt collection\n",
       "16  This complaint is in regards to Square Two Fin...   Debt collection"
      ]
     },
     "execution_count": 11,
     "metadata": {},
     "output_type": "execute_result"
    }
   ],
   "source": [
    "data_df.head()"
   ]
  },
  {
   "cell_type": "code",
   "execution_count": 12,
   "id": "dfb86432",
   "metadata": {},
   "outputs": [
    {
     "data": {
      "text/plain": [
       "(249830, 2)"
      ]
     },
     "execution_count": 12,
     "metadata": {},
     "output_type": "execute_result"
    }
   ],
   "source": [
    "#looking into the size \n",
    "data_df.shape"
   ]
  },
  {
   "cell_type": "code",
   "execution_count": 13,
   "id": "38c651ea",
   "metadata": {},
   "outputs": [
    {
     "data": {
      "text/plain": [
       "Debt collection                                                                 57324\n",
       "Mortgage                                                                        41219\n",
       "Credit reporting, credit repair services, or other personal consumer reports    37679\n",
       "Credit reporting                                                                31593\n",
       "Credit card                                                                     18842\n",
       "Student loan                                                                    15495\n",
       "Bank account or service                                                         14887\n",
       "Consumer Loan                                                                    9473\n",
       "Credit card or prepaid card                                                      7971\n",
       "Checking or savings account                                                      4915\n",
       "Vehicle loan or lease                                                            2065\n",
       "Payday loan                                                                      1748\n",
       "Money transfer, virtual currency, or money service                               1743\n",
       "Payday loan, title loan, or personal loan                                        1620\n",
       "Money transfers                                                                  1497\n",
       "Prepaid card                                                                     1450\n",
       "Other financial service                                                           293\n",
       "Virtual currency                                                                   16\n",
       "Name: Product, dtype: int64"
      ]
     },
     "execution_count": 13,
     "metadata": {},
     "output_type": "execute_result"
    }
   ],
   "source": [
    "data_df.Product.value_counts()"
   ]
  },
  {
   "cell_type": "code",
   "execution_count": 14,
   "id": "1a00bd75",
   "metadata": {},
   "outputs": [],
   "source": [
    "#classifying these all into 4 types class\n",
    "#But 1st let's try with 1 class \n",
    "# Define the types to merge\n",
    "types_to_merge = ['Debt collection', 'Mortgage', 'Virtual currency', 'Other financial service', 'Prepaid card']"
   ]
  },
  {
   "cell_type": "code",
   "execution_count": 15,
   "id": "e6f4ab3a",
   "metadata": {},
   "outputs": [
    {
     "name": "stderr",
     "output_type": "stream",
     "text": [
      "/var/folders/f3/vh_vy3ln4t16m256nw9mcgc00000gn/T/ipykernel_23742/3971477114.py:2: SettingWithCopyWarning: \n",
      "A value is trying to be set on a copy of a slice from a DataFrame\n",
      "\n",
      "See the caveats in the documentation: https://pandas.pydata.org/pandas-docs/stable/user_guide/indexing.html#returning-a-view-versus-a-copy\n",
      "  data_df.loc[data_df['Product'].isin(types_to_merge), 'Product'] = 'other services'\n"
     ]
    }
   ],
   "source": [
    "#now replacing those above values with other services\n",
    "data_df.loc[data_df['Product'].isin(types_to_merge), 'Product'] = 'other services'"
   ]
  },
  {
   "cell_type": "code",
   "execution_count": 16,
   "id": "a49b78f7",
   "metadata": {},
   "outputs": [
    {
     "data": {
      "text/plain": [
       "other services                                                                  100302\n",
       "Credit reporting, credit repair services, or other personal consumer reports     37679\n",
       "Credit reporting                                                                 31593\n",
       "Credit card                                                                      18842\n",
       "Student loan                                                                     15495\n",
       "Bank account or service                                                          14887\n",
       "Consumer Loan                                                                     9473\n",
       "Credit card or prepaid card                                                       7971\n",
       "Checking or savings account                                                       4915\n",
       "Vehicle loan or lease                                                             2065\n",
       "Payday loan                                                                       1748\n",
       "Money transfer, virtual currency, or money service                                1743\n",
       "Payday loan, title loan, or personal loan                                         1620\n",
       "Money transfers                                                                   1497\n",
       "Name: Product, dtype: int64"
      ]
     },
     "execution_count": 16,
     "metadata": {},
     "output_type": "execute_result"
    }
   ],
   "source": [
    "data_df.Product.value_counts()"
   ]
  },
  {
   "cell_type": "code",
   "execution_count": 17,
   "id": "abef93b1",
   "metadata": {},
   "outputs": [
    {
     "name": "stderr",
     "output_type": "stream",
     "text": [
      "/var/folders/f3/vh_vy3ln4t16m256nw9mcgc00000gn/T/ipykernel_23742/1106305024.py:5: SettingWithCopyWarning: \n",
      "A value is trying to be set on a copy of a slice from a DataFrame\n",
      "\n",
      "See the caveats in the documentation: https://pandas.pydata.org/pandas-docs/stable/user_guide/indexing.html#returning-a-view-versus-a-copy\n",
      "  data_df.loc[data_df['Product'].isin(types_to_merge), 'Product'] = 'bank services'\n"
     ]
    }
   ],
   "source": [
    "#now merging 2nd type classes\n",
    "types_to_merge = ['Bank account or service', 'Checking or savings account', 'Money transfer, virtual currency, or money service', 'Money transfers']\n",
    "\n",
    "#now replacing those above values with bank services\n",
    "data_df.loc[data_df['Product'].isin(types_to_merge), 'Product'] = 'bank services'"
   ]
  },
  {
   "cell_type": "code",
   "execution_count": 18,
   "id": "f6148fc8",
   "metadata": {},
   "outputs": [
    {
     "data": {
      "text/plain": [
       "other services                                                                  100302\n",
       "Credit reporting, credit repair services, or other personal consumer reports     37679\n",
       "Credit reporting                                                                 31593\n",
       "bank services                                                                    23042\n",
       "Credit card                                                                      18842\n",
       "Student loan                                                                     15495\n",
       "Consumer Loan                                                                     9473\n",
       "Credit card or prepaid card                                                       7971\n",
       "Vehicle loan or lease                                                             2065\n",
       "Payday loan                                                                       1748\n",
       "Payday loan, title loan, or personal loan                                         1620\n",
       "Name: Product, dtype: int64"
      ]
     },
     "execution_count": 18,
     "metadata": {},
     "output_type": "execute_result"
    }
   ],
   "source": [
    "data_df.Product.value_counts()"
   ]
  },
  {
   "cell_type": "code",
   "execution_count": 19,
   "id": "64b8f1bb",
   "metadata": {},
   "outputs": [
    {
     "name": "stderr",
     "output_type": "stream",
     "text": [
      "/var/folders/f3/vh_vy3ln4t16m256nw9mcgc00000gn/T/ipykernel_23742/3253328120.py:5: SettingWithCopyWarning: \n",
      "A value is trying to be set on a copy of a slice from a DataFrame\n",
      "\n",
      "See the caveats in the documentation: https://pandas.pydata.org/pandas-docs/stable/user_guide/indexing.html#returning-a-view-versus-a-copy\n",
      "  data_df.loc[data_df['Product'].isin(types_to_merge), 'Product'] = 'Loan'\n"
     ]
    }
   ],
   "source": [
    "#now merging 3rd type classes\n",
    "types_to_merge = ['Student loan', 'Vehicle loan or lease', 'Consumer Loan', 'Payday loan', 'Payday loan, title loan, or personal loan']\n",
    "\n",
    "#now replacing those above values with loan\n",
    "data_df.loc[data_df['Product'].isin(types_to_merge), 'Product'] = 'Loan'"
   ]
  },
  {
   "cell_type": "code",
   "execution_count": 20,
   "id": "e1c54fdb",
   "metadata": {},
   "outputs": [
    {
     "data": {
      "text/plain": [
       "other services                                                                  100302\n",
       "Credit reporting, credit repair services, or other personal consumer reports     37679\n",
       "Credit reporting                                                                 31593\n",
       "Loan                                                                             30401\n",
       "bank services                                                                    23042\n",
       "Credit card                                                                      18842\n",
       "Credit card or prepaid card                                                       7971\n",
       "Name: Product, dtype: int64"
      ]
     },
     "execution_count": 20,
     "metadata": {},
     "output_type": "execute_result"
    }
   ],
   "source": [
    "data_df.Product.value_counts()"
   ]
  },
  {
   "cell_type": "code",
   "execution_count": 21,
   "id": "53c938c6",
   "metadata": {},
   "outputs": [
    {
     "name": "stderr",
     "output_type": "stream",
     "text": [
      "/var/folders/f3/vh_vy3ln4t16m256nw9mcgc00000gn/T/ipykernel_23742/1752276826.py:5: SettingWithCopyWarning: \n",
      "A value is trying to be set on a copy of a slice from a DataFrame\n",
      "\n",
      "See the caveats in the documentation: https://pandas.pydata.org/pandas-docs/stable/user_guide/indexing.html#returning-a-view-versus-a-copy\n",
      "  data_df.loc[data_df['Product'].isin(types_to_merge), 'Product'] = 'Credit Card Related'\n"
     ]
    }
   ],
   "source": [
    "#now merging 4th type classes\n",
    "types_to_merge = ['Credit reporting', 'Credit reporting, credit repair services, or other personal consumer reports', 'Credit card', 'Credit card or prepaid card']\n",
    "\n",
    "#now replacing those above values with Credit Card Related\n",
    "data_df.loc[data_df['Product'].isin(types_to_merge), 'Product'] = 'Credit Card Related'"
   ]
  },
  {
   "cell_type": "code",
   "execution_count": 22,
   "id": "b66aecf0",
   "metadata": {},
   "outputs": [
    {
     "data": {
      "text/plain": [
       "other services         100302\n",
       "Credit Card Related     96085\n",
       "Loan                    30401\n",
       "bank services           23042\n",
       "Name: Product, dtype: int64"
      ]
     },
     "execution_count": 22,
     "metadata": {},
     "output_type": "execute_result"
    }
   ],
   "source": [
    "data_df.Product.value_counts()"
   ]
  },
  {
   "cell_type": "code",
   "execution_count": 23,
   "id": "2f8770e8",
   "metadata": {},
   "outputs": [
    {
     "data": {
      "text/html": [
       "<div>\n",
       "<style scoped>\n",
       "    .dataframe tbody tr th:only-of-type {\n",
       "        vertical-align: middle;\n",
       "    }\n",
       "\n",
       "    .dataframe tbody tr th {\n",
       "        vertical-align: top;\n",
       "    }\n",
       "\n",
       "    .dataframe thead th {\n",
       "        text-align: right;\n",
       "    }\n",
       "</style>\n",
       "<table border=\"1\" class=\"dataframe\">\n",
       "  <thead>\n",
       "    <tr style=\"text-align: right;\">\n",
       "      <th></th>\n",
       "      <th>Consumer complaint narrative</th>\n",
       "      <th>Product</th>\n",
       "    </tr>\n",
       "  </thead>\n",
       "  <tbody>\n",
       "    <tr>\n",
       "      <th>1</th>\n",
       "      <td>I have outdated information on my credit repor...</td>\n",
       "      <td>Credit Card Related</td>\n",
       "    </tr>\n",
       "    <tr>\n",
       "      <th>2</th>\n",
       "      <td>I purchased a new car on XXXX XXXX. The car de...</td>\n",
       "      <td>Loan</td>\n",
       "    </tr>\n",
       "    <tr>\n",
       "      <th>7</th>\n",
       "      <td>An account on my credit report has a mistaken ...</td>\n",
       "      <td>Credit Card Related</td>\n",
       "    </tr>\n",
       "    <tr>\n",
       "      <th>12</th>\n",
       "      <td>This company refuses to provide me verificatio...</td>\n",
       "      <td>other services</td>\n",
       "    </tr>\n",
       "    <tr>\n",
       "      <th>16</th>\n",
       "      <td>This complaint is in regards to Square Two Fin...</td>\n",
       "      <td>other services</td>\n",
       "    </tr>\n",
       "  </tbody>\n",
       "</table>\n",
       "</div>"
      ],
      "text/plain": [
       "                         Consumer complaint narrative              Product\n",
       "1   I have outdated information on my credit repor...  Credit Card Related\n",
       "2   I purchased a new car on XXXX XXXX. The car de...                 Loan\n",
       "7   An account on my credit report has a mistaken ...  Credit Card Related\n",
       "12  This company refuses to provide me verificatio...       other services\n",
       "16  This complaint is in regards to Square Two Fin...       other services"
      ]
     },
     "execution_count": 23,
     "metadata": {},
     "output_type": "execute_result"
    }
   ],
   "source": [
    "data_df.head()"
   ]
  },
  {
   "cell_type": "code",
   "execution_count": 24,
   "id": "c1d2e86d",
   "metadata": {},
   "outputs": [],
   "source": [
    "#reseting the index in an ordered form\n",
    "data_df.reset_index(inplace = True)"
   ]
  },
  {
   "cell_type": "code",
   "execution_count": 25,
   "id": "86161abc",
   "metadata": {},
   "outputs": [
    {
     "data": {
      "text/html": [
       "<div>\n",
       "<style scoped>\n",
       "    .dataframe tbody tr th:only-of-type {\n",
       "        vertical-align: middle;\n",
       "    }\n",
       "\n",
       "    .dataframe tbody tr th {\n",
       "        vertical-align: top;\n",
       "    }\n",
       "\n",
       "    .dataframe thead th {\n",
       "        text-align: right;\n",
       "    }\n",
       "</style>\n",
       "<table border=\"1\" class=\"dataframe\">\n",
       "  <thead>\n",
       "    <tr style=\"text-align: right;\">\n",
       "      <th></th>\n",
       "      <th>index</th>\n",
       "      <th>Consumer complaint narrative</th>\n",
       "      <th>Product</th>\n",
       "    </tr>\n",
       "  </thead>\n",
       "  <tbody>\n",
       "    <tr>\n",
       "      <th>0</th>\n",
       "      <td>1</td>\n",
       "      <td>I have outdated information on my credit repor...</td>\n",
       "      <td>Credit Card Related</td>\n",
       "    </tr>\n",
       "    <tr>\n",
       "      <th>1</th>\n",
       "      <td>2</td>\n",
       "      <td>I purchased a new car on XXXX XXXX. The car de...</td>\n",
       "      <td>Loan</td>\n",
       "    </tr>\n",
       "    <tr>\n",
       "      <th>2</th>\n",
       "      <td>7</td>\n",
       "      <td>An account on my credit report has a mistaken ...</td>\n",
       "      <td>Credit Card Related</td>\n",
       "    </tr>\n",
       "    <tr>\n",
       "      <th>3</th>\n",
       "      <td>12</td>\n",
       "      <td>This company refuses to provide me verificatio...</td>\n",
       "      <td>other services</td>\n",
       "    </tr>\n",
       "    <tr>\n",
       "      <th>4</th>\n",
       "      <td>16</td>\n",
       "      <td>This complaint is in regards to Square Two Fin...</td>\n",
       "      <td>other services</td>\n",
       "    </tr>\n",
       "  </tbody>\n",
       "</table>\n",
       "</div>"
      ],
      "text/plain": [
       "   index                       Consumer complaint narrative  \\\n",
       "0      1  I have outdated information on my credit repor...   \n",
       "1      2  I purchased a new car on XXXX XXXX. The car de...   \n",
       "2      7  An account on my credit report has a mistaken ...   \n",
       "3     12  This company refuses to provide me verificatio...   \n",
       "4     16  This complaint is in regards to Square Two Fin...   \n",
       "\n",
       "               Product  \n",
       "0  Credit Card Related  \n",
       "1                 Loan  \n",
       "2  Credit Card Related  \n",
       "3       other services  \n",
       "4       other services  "
      ]
     },
     "execution_count": 25,
     "metadata": {},
     "output_type": "execute_result"
    }
   ],
   "source": [
    "data_df.head()"
   ]
  },
  {
   "cell_type": "code",
   "execution_count": 26,
   "id": "5d5f92ec",
   "metadata": {},
   "outputs": [
    {
     "name": "stderr",
     "output_type": "stream",
     "text": [
      "/var/folders/f3/vh_vy3ln4t16m256nw9mcgc00000gn/T/ipykernel_23742/2445130877.py:2: SettingWithCopyWarning: \n",
      "A value is trying to be set on a copy of a slice from a DataFrame\n",
      "\n",
      "See the caveats in the documentation: https://pandas.pydata.org/pandas-docs/stable/user_guide/indexing.html#returning-a-view-versus-a-copy\n",
      "  data_df.drop('index',axis='columns', inplace=True)\n"
     ]
    }
   ],
   "source": [
    "#removing the extra index column\n",
    "data_df.drop('index',axis='columns', inplace=True)"
   ]
  },
  {
   "cell_type": "code",
   "execution_count": 27,
   "id": "f9c805f7",
   "metadata": {},
   "outputs": [
    {
     "data": {
      "text/html": [
       "<div>\n",
       "<style scoped>\n",
       "    .dataframe tbody tr th:only-of-type {\n",
       "        vertical-align: middle;\n",
       "    }\n",
       "\n",
       "    .dataframe tbody tr th {\n",
       "        vertical-align: top;\n",
       "    }\n",
       "\n",
       "    .dataframe thead th {\n",
       "        text-align: right;\n",
       "    }\n",
       "</style>\n",
       "<table border=\"1\" class=\"dataframe\">\n",
       "  <thead>\n",
       "    <tr style=\"text-align: right;\">\n",
       "      <th></th>\n",
       "      <th>Consumer complaint narrative</th>\n",
       "      <th>Product</th>\n",
       "    </tr>\n",
       "  </thead>\n",
       "  <tbody>\n",
       "    <tr>\n",
       "      <th>0</th>\n",
       "      <td>I have outdated information on my credit repor...</td>\n",
       "      <td>Credit Card Related</td>\n",
       "    </tr>\n",
       "    <tr>\n",
       "      <th>1</th>\n",
       "      <td>I purchased a new car on XXXX XXXX. The car de...</td>\n",
       "      <td>Loan</td>\n",
       "    </tr>\n",
       "    <tr>\n",
       "      <th>2</th>\n",
       "      <td>An account on my credit report has a mistaken ...</td>\n",
       "      <td>Credit Card Related</td>\n",
       "    </tr>\n",
       "    <tr>\n",
       "      <th>3</th>\n",
       "      <td>This company refuses to provide me verificatio...</td>\n",
       "      <td>other services</td>\n",
       "    </tr>\n",
       "    <tr>\n",
       "      <th>4</th>\n",
       "      <td>This complaint is in regards to Square Two Fin...</td>\n",
       "      <td>other services</td>\n",
       "    </tr>\n",
       "  </tbody>\n",
       "</table>\n",
       "</div>"
      ],
      "text/plain": [
       "                        Consumer complaint narrative              Product\n",
       "0  I have outdated information on my credit repor...  Credit Card Related\n",
       "1  I purchased a new car on XXXX XXXX. The car de...                 Loan\n",
       "2  An account on my credit report has a mistaken ...  Credit Card Related\n",
       "3  This company refuses to provide me verificatio...       other services\n",
       "4  This complaint is in regards to Square Two Fin...       other services"
      ]
     },
     "execution_count": 27,
     "metadata": {},
     "output_type": "execute_result"
    }
   ],
   "source": [
    "data_df.head()"
   ]
  },
  {
   "cell_type": "code",
   "execution_count": 28,
   "id": "2432d6f2",
   "metadata": {},
   "outputs": [],
   "source": [
    "#defing a function to get the complaint and product data from given index\n",
    "def example_complain(index):\n",
    "    example = data_df[data_df.index == index][['Consumer complaint narrative', 'Product']].values[0]\n",
    "    if len(example) > 0:\n",
    "        print(example[0])\n",
    "        print()\n",
    "        print('Category:', example[1])"
   ]
  },
  {
   "cell_type": "code",
   "execution_count": 29,
   "id": "2b246943",
   "metadata": {},
   "outputs": [
    {
     "name": "stdout",
     "output_type": "stream",
     "text": [
      "I have outdated information on my credit report that I have previously disputed that has yet to be removed this information is more then seven years old and does not meet credit reporting requirements\n",
      "\n",
      "Category: Credit Card Related\n"
     ]
    }
   ],
   "source": [
    "example_complain(0)"
   ]
  },
  {
   "cell_type": "code",
   "execution_count": 30,
   "id": "f18581cd",
   "metadata": {},
   "outputs": [],
   "source": [
    "#declaring stopwords and eng. punctuation\n",
    "\n",
    "eng_punctuations = ['!', '\"', '#', '$', '%', '&', \"'\", '(', ')', '*', '+', ',', '-', '.', '/',\n",
    "                    ':', ';', '<', '=', '>', '?', '@', '[', '\\\\', ']', '^', '_', '`', '{', '|', '}', '~']\n",
    "\n",
    "stopwords_list = ['i', 'me', 'my', 'myself', 'we', 'our', 'ours', 'ourselves', 'you', \"you're\", \"you've\", \"you'll\",\n",
    "             \"you'd\", 'your', 'yours', 'yourself', 'yourselves', 'he', 'him', 'his', 'himself', 'she', \"she's\",\n",
    "             'her', 'hers', 'herself', 'it', \"it's\", 'its', 'itself', 'they', 'them', 'their', 'theirs', \n",
    "             'themselves', 'what', 'which', 'who', 'whom', 'this', 'that', \"that'll\", 'these', 'those', 'am', \n",
    "             'is', 'are', 'was', 'were', 'be', 'been', 'being', 'have', 'has', 'had', 'having', 'do', 'does',\n",
    "             'did', 'doing', 'a', 'an', 'the', 'and', 'but', 'if', 'or', 'because', 'as', 'until', 'while', \n",
    "             'of', 'at', 'by', 'for', 'with', 'about', 'against', 'between', 'into', 'through', 'during', \n",
    "             'before', 'after', 'above', 'below', 'to', 'from', 'up', 'down', 'in', 'out', 'on', 'off',\n",
    "             'over', 'under', 'again', 'further', 'then', 'once', 'here', 'there', 'when', 'where', 'why',\n",
    "             'how', 'all', 'any', 'both', 'each', 'few', 'more', 'most', 'other', 'some', 'such', 'no', 'nor', \n",
    "             'not', 'only', 'own', 'same', 'so', 'than', 'too', 'very', 's', 't', 'can', 'will', 'just', 'don',\n",
    "             \"don't\", 'should', \"should've\", 'now', 'd', 'll', 'm', 'o', 're', 've', 'y', 'ain', 'aren', \"aren't\",\n",
    "             'couldn', \"couldn't\", 'didn', \"didn't\", 'doesn', \"doesn't\", 'hadn', \"hadn't\", 'hasn', \"hasn't\", \n",
    "             'haven', \"haven't\", 'isn', \"isn't\", 'ma', 'mightn', \"mightn't\", 'mustn', \"mustn't\", 'needn',\n",
    "             \"needn't\", 'shan', \"shan't\", 'shouldn', \"shouldn't\", 'wasn', \"wasn't\", 'weren', \"weren't\",\n",
    "             'won', \"won't\", 'wouldn', \"wouldn't\"]"
   ]
  },
  {
   "cell_type": "code",
   "execution_count": 31,
   "id": "c0128f7e",
   "metadata": {},
   "outputs": [
    {
     "data": {
      "text/plain": [
       "'I have outdated information on my credit report that I have previously disputed that has yet to be removed this information is more then seven years old and does not meet credit reporting requirements'"
      ]
     },
     "execution_count": 31,
     "metadata": {},
     "output_type": "execute_result"
    }
   ],
   "source": [
    "data_df['Consumer complaint narrative'][0]"
   ]
  },
  {
   "cell_type": "code",
   "execution_count": 32,
   "id": "22289d6f",
   "metadata": {},
   "outputs": [],
   "source": [
    "#now performing a preprocessing \n",
    "def preprocess(text):\n",
    "    text = text.lower() # lowercase text\n",
    "    for punctuation in eng_punctuations:\n",
    "        text = text.replace(punctuation, ' ')\n",
    "    text = text.strip().split()\n",
    "    \n",
    "    token = text\n",
    "    new_tokens = list() #new_tokens hold the list of words after removing stopwords\n",
    "    for token in token:\n",
    "        if token not in stopwords_list:\n",
    "            new_tokens.append(token)\n",
    "            \n",
    "    final_text = ' '.join(new_tokens)\n",
    "    return final_text"
   ]
  },
  {
   "cell_type": "code",
   "execution_count": 33,
   "id": "ffd86c1c",
   "metadata": {},
   "outputs": [
    {
     "name": "stdout",
     "output_type": "stream",
     "text": [
      "\n",
      "I have outdated information on my credit report that I have previously disputed that has yet to be removed this information is more then seven years old and does not meet credit reporting requirements\n",
      "\n",
      "I purchased a new car on XXXX XXXX. The car dealer called Citizens Bank to get a 10 day payoff on my loan, good till XXXX XXXX. The dealer sent the check the next day. When I balanced my checkbook on XXXX XXXX. I noticed that Citizens bank had taken the automatic payment out of my checking account at XXXX XXXX XXXX Bank. I called Citizens and they stated that they did not close the loan until XXXX XXXX. ( stating that they did not receive the check until XXXX. XXXX. ). I told them that I did not believe that the check took that long to arrive. XXXX told me a check was issued to me for the amount overpaid, they deducted additional interest. Today ( XXXX XXXX, ) I called Citizens Bank again and talked to a supervisor named XXXX, because on XXXX XXXX. I received a letter that the loan had been paid in full ( dated XXXX, XXXX ) but no refund check was included. XXXX stated that they hold any over payment for 10 business days after the loan was satisfied and that my check would be mailed out on Wed. the XX/XX/XXXX.. I questioned her about the delay in posting the dealer payment and she first stated that sometimes it takes 3 or 4 business days to post, then she said they did not receive the check till XXXX XXXX I again told her that I did not believe this and asked where is my money. She then stated that they hold the over payment for 10 business days. I asked her why, and she simply said that is their policy. I asked her if I would receive interest on my money and she stated no. I believe that Citizens bank is deliberately delaying the posting of payment and the return of consumer 's money to make additional interest for the bank. If this is not illegal it should be, it does hurt the consumer and is not ethical. My amount of money lost is minimal but if they are doing this on thousands of car loans a month, then the additional interest earned for them could be staggering. I still have another car loan from Citizens Bank and I am afraid when I trade that car in another year I will run into the same problem again.\n",
      "\n",
      "An account on my credit report has a mistaken date. I mailed in a debt validation letter to allow XXXX to correct the information. I received a letter in the mail, stating that Experian received my correspondence and found it to be \" suspicious '' and that \" I did n't write it ''. Experian 's letter is worded to imply that I am incapable of writing my own letter. I was deeply offended by this implication. \n",
      "I called Experian to figure out why my letter was so suspicious. I spoke to a representative who was incredibly unhelpful, She did not effectively answer any questions I asked of her, and she kept ignoring what I was saying regarding the offensive letter and my dispute process. I feel the representative did what she wanted to do, and I am not satisfied. It is STILL not clear to me why I received this letter. I typed this letter, I signed this letter, and I paid to mail this letter, yet Experian willfully disregarded my lawful request. \n",
      "I am disgusted with this entire situation, and I would like for my dispute to be handled appropriately, and I would like for an Experian representative to contact me and give me a real explanation for this letter.\n",
      "\n",
      "This company refuses to provide me verification and validation of debt per my right under the FDCPA. I do not believe this debt is mine.\n",
      "\n"
     ]
    }
   ],
   "source": [
    "#this is just an example to understand this for loop\n",
    "count = 1\n",
    "for text in data_df['Consumer complaint narrative']:\n",
    "    print()\n",
    "    if(count < 5):\n",
    "        print(text)\n",
    "        count = count +1\n",
    "    else:\n",
    "        break"
   ]
  },
  {
   "cell_type": "code",
   "execution_count": 34,
   "id": "ebd23040",
   "metadata": {},
   "outputs": [
    {
     "name": "stderr",
     "output_type": "stream",
     "text": [
      "/var/folders/f3/vh_vy3ln4t16m256nw9mcgc00000gn/T/ipykernel_23742/950189369.py:2: SettingWithCopyWarning: \n",
      "A value is trying to be set on a copy of a slice from a DataFrame.\n",
      "Try using .loc[row_indexer,col_indexer] = value instead\n",
      "\n",
      "See the caveats in the documentation: https://pandas.pydata.org/pandas-docs/stable/user_guide/indexing.html#returning-a-view-versus-a-copy\n",
      "  data_df['Consumer complaint narrative'] = data_df['Consumer complaint narrative'].apply(preprocess)\n"
     ]
    }
   ],
   "source": [
    "#this code is used to preprocess the complaint of every row of the column in the this below column\n",
    "data_df['Consumer complaint narrative'] = data_df['Consumer complaint narrative'].apply(preprocess)"
   ]
  },
  {
   "cell_type": "code",
   "execution_count": 35,
   "id": "dc69b0ad",
   "metadata": {},
   "outputs": [
    {
     "name": "stdout",
     "output_type": "stream",
     "text": [
      "account credit report mistaken date mailed debt validation letter allow xxxx correct information received letter mail stating experian received correspondence found suspicious n write experian letter worded imply incapable writing letter deeply offended implication called experian figure letter suspicious spoke representative incredibly unhelpful effectively answer questions asked kept ignoring saying regarding offensive letter dispute process feel representative wanted satisfied still clear received letter typed letter signed letter paid mail letter yet experian willfully disregarded lawful request disgusted entire situation would like dispute handled appropriately would like experian representative contact give real explanation letter\n",
      "\n",
      "Category: Credit Card Related\n"
     ]
    }
   ],
   "source": [
    "example_complain(2)"
   ]
  },
  {
   "cell_type": "code",
   "execution_count": 36,
   "id": "28687495",
   "metadata": {},
   "outputs": [],
   "source": [
    "# The maximum number of words to be used. (most frequent)\n",
    "MAX_NB_WORDS = 50000\n",
    "# Max number of words in each complaint.\n",
    "MAX_SEQUENCE_LENGTH = 250\n",
    "# This is fixed.\n",
    "EMBEDDING_DIM = 100\n",
    "\n",
    "\n",
    "tokenizer = Tokenizer(num_words=MAX_NB_WORDS, filters='!\"#$%&()*+,-./:;<=>?@[\\]^_`{|}~', lower=True)\n",
    "#this tokenizer will fit the sentences in all these rows into integer values \n",
    "tokenizer.fit_on_texts(data_df['Consumer complaint narrative'].values)"
   ]
  },
  {
   "cell_type": "code",
   "execution_count": 37,
   "id": "da5206dd",
   "metadata": {},
   "outputs": [
    {
     "name": "stdout",
     "output_type": "stream",
     "text": [
      "Found 95795 unique tokens.\n"
     ]
    }
   ],
   "source": [
    "word_index = tokenizer.word_index\n",
    "print('Found %s unique tokens.' % len(word_index))"
   ]
  },
  {
   "cell_type": "code",
   "execution_count": 38,
   "id": "0aae551e",
   "metadata": {},
   "outputs": [],
   "source": [
    "#this is used to convert the text in each row into the sequence ofunique integer values \n",
    "X = tokenizer.texts_to_sequences(data_df['Consumer complaint narrative'].values)\n"
   ]
  },
  {
   "cell_type": "code",
   "execution_count": 39,
   "id": "1c224309",
   "metadata": {},
   "outputs": [
    {
     "data": {
      "text/plain": [
       "[2607, 10, 3, 9, 552, 158, 191, 79, 10, 1691, 48, 348, 1150, 3, 39, 776]"
      ]
     },
     "execution_count": 39,
     "metadata": {},
     "output_type": "execute_result"
    }
   ],
   "source": [
    "#checking\n",
    "X[0]"
   ]
  },
  {
   "cell_type": "code",
   "execution_count": 40,
   "id": "34cf19f1",
   "metadata": {},
   "outputs": [
    {
     "name": "stdout",
     "output_type": "stream",
     "text": [
      "Shape of data tensor: (249830, 250)\n"
     ]
    }
   ],
   "source": [
    "#padding is done to make each rows sentences lengght equal\n",
    "X = pad_sequences(X, maxlen=MAX_SEQUENCE_LENGTH)\n",
    "print('Shape of data tensor:', X.shape)"
   ]
  },
  {
   "cell_type": "code",
   "execution_count": 41,
   "id": "30078af4",
   "metadata": {},
   "outputs": [
    {
     "data": {
      "text/plain": [
       "array([   0,    0,    0,    0,    0,    0,    0,    0,    0,    0,    0,\n",
       "          0,    0,    0,    0,    0,    0,    0,    0,    0,    0,    0,\n",
       "          0,    0,    0,    0,    0,    0,    0,    0,    0,    0,    0,\n",
       "          0,    0,    0,    0,    0,    0,    0,    0,    0,    0,    0,\n",
       "          0,    0,    0,    0,    0,    0,    0,    0,    0,    0,    0,\n",
       "          0,    0,    0,    0,    0,    0,    0,    0,    0,    0,    0,\n",
       "          0,    0,    0,    0,    0,    0,    0,    0,    0,    0,    0,\n",
       "          0,    0,    0,    0,    0,    0,    0,    0,    0,    0,    0,\n",
       "          0,    0,    0,    0,    0,    0,    0,    0,    0,    0,    0,\n",
       "          0,    0,    0,    0,    0,    0,    0,    0,    0,    0,    0,\n",
       "          0,    0,    0,    0,    0,    0,    0,    0,    0,    0,    0,\n",
       "          0,    0,    0,    0,    0,    0,    0,    0,    0,    0,    0,\n",
       "          0,    0,    0,    0,    0,    0,    0,    0,    0,    0,    0,\n",
       "          0,    0,    0,    0,    0,    0,    0,    0,    0,    0,    0,\n",
       "          0,    0,    0,    0,    0,    0,    0,    0,    0,    0,    0,\n",
       "          0,    0,    0,    0,    0,    0,    0,    0,    0,    0,    0,\n",
       "          0,    0,    0,    0,    0,    0,    0,    0,    0,    0,    0,\n",
       "          0,    0,    0,    0,    0,    0,    0,    0,    0,    0,    0,\n",
       "          0,    0,    0,    0,    0,    0,    0,    0,    0,    0,    0,\n",
       "          0,    0,    0,    0,    0,    0,    0,    0,    0,    0,    0,\n",
       "          0,    0,    0,    0,    0,    0,    0,    0,    0,    0,    0,\n",
       "          0,    0,    0, 2607,   10,    3,    9,  552,  158,  191,   79,\n",
       "         10, 1691,   48,  348, 1150,    3,   39,  776], dtype=int32)"
      ]
     },
     "execution_count": 41,
     "metadata": {},
     "output_type": "execute_result"
    }
   ],
   "source": [
    "X[0]"
   ]
  },
  {
   "cell_type": "code",
   "execution_count": 42,
   "id": "00798df8",
   "metadata": {},
   "outputs": [
    {
     "name": "stdout",
     "output_type": "stream",
     "text": [
      "Shape of label tensor: (249830, 4)\n"
     ]
    }
   ],
   "source": [
    "Y = pd.get_dummies(data_df['Product']).values\n",
    "print('Shape of label tensor:', Y.shape)\n",
    "     "
   ]
  },
  {
   "cell_type": "code",
   "execution_count": 43,
   "id": "260fcc06",
   "metadata": {},
   "outputs": [
    {
     "data": {
      "text/plain": [
       "array([1, 0, 0, 0], dtype=uint8)"
      ]
     },
     "execution_count": 43,
     "metadata": {},
     "output_type": "execute_result"
    }
   ],
   "source": [
    "Y[0]"
   ]
  },
  {
   "cell_type": "code",
   "execution_count": 44,
   "id": "facd24be",
   "metadata": {},
   "outputs": [
    {
     "name": "stdout",
     "output_type": "stream",
     "text": [
      "(224847, 250) (224847, 4)\n",
      "(24983, 250) (24983, 4)\n"
     ]
    }
   ],
   "source": [
    "#splitting the data into train and test sets\n",
    "X_train, X_test, Y_train, Y_test = train_test_split(X,Y, test_size = 0.10, random_state = 42)\n",
    "print(X_train.shape,Y_train.shape)\n",
    "print(X_test.shape,Y_test.shape)"
   ]
  },
  {
   "cell_type": "markdown",
   "id": "267e8d1f",
   "metadata": {},
   "source": [
    "# creating a sequential model"
   ]
  },
  {
   "cell_type": "code",
   "execution_count": 48,
   "id": "60088835",
   "metadata": {},
   "outputs": [
    {
     "name": "stdout",
     "output_type": "stream",
     "text": [
      "Model: \"sequential_3\"\n",
      "_________________________________________________________________\n",
      " Layer (type)                Output Shape              Param #   \n",
      "=================================================================\n",
      " embedding_1 (Embedding)     (None, 250, 100)          5000000   \n",
      "                                                                 \n",
      " spatial_dropout1d (Spatial  (None, 250, 100)          0         \n",
      " Dropout1D)                                                      \n",
      "                                                                 \n",
      " lstm (LSTM)                 (None, 100)               80400     \n",
      "                                                                 \n",
      " dense (Dense)               (None, 4)                 404       \n",
      "                                                                 \n",
      "=================================================================\n",
      "Total params: 5080804 (19.38 MB)\n",
      "Trainable params: 5080804 (19.38 MB)\n",
      "Non-trainable params: 0 (0.00 Byte)\n",
      "_________________________________________________________________\n",
      "None\n"
     ]
    }
   ],
   "source": [
    "#Sequential model is used to define a linear stack of layers for building a neural network model. \n",
    "#This initializes an empty sequential model.\n",
    "model = Sequential()\n",
    "#Once you have created the Sequential model, you can start adding layers to it using the add() method.\n",
    "a= model.add(Embedding(MAX_NB_WORDS, EMBEDDING_DIM, input_length=X.shape[1]))\n",
    "model.add(SpatialDropout1D(0.2))\n",
    "model.add(LSTM(100, dropout=0.2, recurrent_dropout=0.2))\n",
    "model.add(Dense(4, activation='softmax'))\n",
    "model.compile(loss='categorical_crossentropy', optimizer='adam', metrics=['accuracy'])\n",
    "print(model.summary())"
   ]
  },
  {
   "cell_type": "markdown",
   "id": "e8fbefea",
   "metadata": {},
   "source": [
    "# training the model"
   ]
  },
  {
   "cell_type": "code",
   "execution_count": 49,
   "id": "5216d506",
   "metadata": {},
   "outputs": [
    {
     "name": "stdout",
     "output_type": "stream",
     "text": [
      "Epoch 1/5\n",
      "3162/3162 [==============================] - 1087s 343ms/step - loss: 0.6205 - accuracy: 0.7798 - val_loss: 0.4194 - val_accuracy: 0.8601\n",
      "Epoch 2/5\n",
      "3162/3162 [==============================] - 1128s 357ms/step - loss: 0.3773 - accuracy: 0.8716 - val_loss: 0.3557 - val_accuracy: 0.8779\n",
      "Epoch 3/5\n",
      "3162/3162 [==============================] - 1183s 374ms/step - loss: 0.3231 - accuracy: 0.8890 - val_loss: 0.3363 - val_accuracy: 0.8845\n",
      "Epoch 4/5\n",
      "3162/3162 [==============================] - 3242s 1s/step - loss: 0.2857 - accuracy: 0.9009 - val_loss: 0.3415 - val_accuracy: 0.8845\n",
      "Epoch 5/5\n",
      "3162/3162 [==============================] - 4445s 1s/step - loss: 0.2520 - accuracy: 0.9122 - val_loss: 0.3487 - val_accuracy: 0.8826\n"
     ]
    }
   ],
   "source": [
    "epochs = 5\n",
    "batch_size = 64\n",
    "\n",
    "history = model.fit(X_train, Y_train, epochs=epochs, batch_size=batch_size,validation_split=0.1,\n",
    "                    callbacks=[EarlyStopping(monitor='val_loss', patience=3, restore_best_weights=True)])"
   ]
  },
  {
   "cell_type": "code",
   "execution_count": 50,
   "id": "56e9107e",
   "metadata": {},
   "outputs": [
    {
     "name": "stdout",
     "output_type": "stream",
     "text": [
      "781/781 [==============================] - 56s 72ms/step - loss: 0.3730 - accuracy: 0.8728\n",
      "Test set\n",
      "  Loss: 0.373\n",
      "  Accuracy: 0.873\n"
     ]
    }
   ],
   "source": [
    "accr = model.evaluate(X_test,Y_test)\n",
    "print('Test set\\n  Loss: {:0.3f}\\n  Accuracy: {:0.3f}'.format(accr[0],accr[1]))"
   ]
  },
  {
   "cell_type": "code",
   "execution_count": 70,
   "id": "48d64799",
   "metadata": {},
   "outputs": [
    {
     "name": "stdout",
     "output_type": "stream",
     "text": [
      "781/781 [==============================] - 30s 39ms/step\n"
     ]
    }
   ],
   "source": [
    "Y_pred = model.predict(X_test)"
   ]
  },
  {
   "cell_type": "markdown",
   "id": "2a637153",
   "metadata": {},
   "source": [
    "# saving the above model"
   ]
  },
  {
   "cell_type": "code",
   "execution_count": 71,
   "id": "4c26fca7",
   "metadata": {},
   "outputs": [
    {
     "name": "stderr",
     "output_type": "stream",
     "text": [
      "/Users/mishanthapakshetri/Documents/projects/plagiarism_detection/actual_project/npdvenv/lib/python3.11/site-packages/keras/src/engine/training.py:3000: UserWarning: You are saving your model as an HDF5 file via `model.save()`. This file format is considered legacy. We recommend using instead the native Keras format, e.g. `model.save('my_model.keras')`.\n",
      "  saving_api.save_model(\n"
     ]
    }
   ],
   "source": [
    "model.save(\"huncha.h5\")"
   ]
  },
  {
   "cell_type": "markdown",
   "id": "07ff25d2",
   "metadata": {},
   "source": [
    "# now importing the model "
   ]
  },
  {
   "cell_type": "code",
   "execution_count": 73,
   "id": "fe446c9d",
   "metadata": {},
   "outputs": [],
   "source": [
    "import keras"
   ]
  },
  {
   "cell_type": "code",
   "execution_count": 75,
   "id": "467bc185",
   "metadata": {},
   "outputs": [],
   "source": [
    "new_model = keras.models.load_model(\"huncha.h5\")"
   ]
  },
  {
   "cell_type": "markdown",
   "id": "6cc423da",
   "metadata": {},
   "source": [
    "# predicting using imported model"
   ]
  },
  {
   "cell_type": "code",
   "execution_count": 80,
   "id": "9e503685",
   "metadata": {},
   "outputs": [
    {
     "name": "stdout",
     "output_type": "stream",
     "text": [
      "781/781 [==============================] - 29s 37ms/step\n"
     ]
    }
   ],
   "source": [
    "Y_predict= new_model.predict(X_test)"
   ]
  },
  {
   "cell_type": "markdown",
   "id": "b04d023b",
   "metadata": {},
   "source": [
    "# now for evaluation and visualization"
   ]
  },
  {
   "cell_type": "code",
   "execution_count": 135,
   "id": "e1b6ba2f",
   "metadata": {},
   "outputs": [
    {
     "data": {
      "text/plain": [
       "array([0, 0, 1, 0], dtype=uint8)"
      ]
     },
     "execution_count": 135,
     "metadata": {},
     "output_type": "execute_result"
    }
   ],
   "source": [
    "Y_test[0]"
   ]
  },
  {
   "cell_type": "code",
   "execution_count": 82,
   "id": "f9aca366",
   "metadata": {},
   "outputs": [
    {
     "data": {
      "text/plain": [
       "array([1.0860451e-03, 6.3387037e-04, 9.9497813e-01, 3.3018775e-03],\n",
       "      dtype=float32)"
      ]
     },
     "execution_count": 82,
     "metadata": {},
     "output_type": "execute_result"
    }
   ],
   "source": [
    "Y_predict[0]"
   ]
  },
  {
   "cell_type": "code",
   "execution_count": 101,
   "id": "db03b188",
   "metadata": {},
   "outputs": [],
   "source": [
    "#rounding of the predicted values \n",
    "Y_predict_round = np.round(Y_predict).astype(int)"
   ]
  },
  {
   "cell_type": "code",
   "execution_count": 102,
   "id": "ab7933a8",
   "metadata": {},
   "outputs": [
    {
     "data": {
      "text/plain": [
       "array([0, 0, 1, 0])"
      ]
     },
     "execution_count": 102,
     "metadata": {},
     "output_type": "execute_result"
    }
   ],
   "source": [
    "Y_predict_round[0]"
   ]
  },
  {
   "cell_type": "code",
   "execution_count": 144,
   "id": "2e729b77",
   "metadata": {},
   "outputs": [
    {
     "name": "stdout",
     "output_type": "stream",
     "text": [
      "[0 0 0 1]\n",
      "[0 0 0 1]\n"
     ]
    }
   ],
   "source": [
    "print(Y_test[3000])\n",
    "print(Y_predict_round[3000])"
   ]
  },
  {
   "cell_type": "code",
   "execution_count": 103,
   "id": "ed9b3aa9",
   "metadata": {},
   "outputs": [
    {
     "name": "stdout",
     "output_type": "stream",
     "text": [
      "Accuracy: 0.8625865588600248\n"
     ]
    }
   ],
   "source": [
    "# Calculate accuracy\n",
    "from sklearn.metrics import accuracy_score\n",
    "\n",
    "\n",
    "accuracy = accuracy_score(Y_test, Y_predict_round)\n",
    "\n",
    "print(\"Accuracy:\", accuracy)\n"
   ]
  },
  {
   "cell_type": "code",
   "execution_count": 104,
   "id": "2e85e39c",
   "metadata": {},
   "outputs": [
    {
     "data": {
      "text/plain": [
       "(24983, 4)"
      ]
     },
     "execution_count": 104,
     "metadata": {},
     "output_type": "execute_result"
    }
   ],
   "source": [
    "Y_predict_round.shape"
   ]
  },
  {
   "cell_type": "code",
   "execution_count": null,
   "id": "da58535a",
   "metadata": {},
   "outputs": [],
   "source": []
  }
 ],
 "metadata": {
  "kernelspec": {
   "display_name": "Python 3 (ipykernel)",
   "language": "python",
   "name": "python3"
  },
  "language_info": {
   "codemirror_mode": {
    "name": "ipython",
    "version": 3
   },
   "file_extension": ".py",
   "mimetype": "text/x-python",
   "name": "python",
   "nbconvert_exporter": "python",
   "pygments_lexer": "ipython3",
   "version": "3.11.1"
  }
 },
 "nbformat": 4,
 "nbformat_minor": 5
}
