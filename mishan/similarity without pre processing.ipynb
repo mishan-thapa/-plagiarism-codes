{
 "cells": [
  {
   "cell_type": "markdown",
   "id": "eaa079c8",
   "metadata": {},
   "source": [
    "# calculating cosine similarity using LSA without preprocessing"
   ]
  },
  {
   "cell_type": "code",
   "execution_count": 24,
   "id": "71bf85a1",
   "metadata": {},
   "outputs": [],
   "source": [
    "#importing the library for TF-IDF\n",
    "from sklearn.feature_extraction.text import TfidfVectorizer\n",
    "#import the libraries for SVD\n",
    "from sklearn.decomposition import TruncatedSVD\n",
    "import numpy as np\n",
    "#import library for cosine similarity\n",
    "import pandas as pd\n",
    "import numpy as np"
   ]
  },
  {
   "cell_type": "markdown",
   "id": "1d298261",
   "metadata": {},
   "source": [
    "# calculate TF-IDF"
   ]
  },
  {
   "cell_type": "code",
   "execution_count": 25,
   "id": "0f0e0946",
   "metadata": {},
   "outputs": [
    {
     "name": "stdout",
     "output_type": "stream",
     "text": [
      "['book', 'my', 'pen', 'read', 'spectacles', 'to', 'use', 'write']\n",
      "[[0.30218978 0.60437955 0.42471719 0.         0.         0.30218978\n",
      "  0.30218978 0.42471719]\n",
      " [0.30218978 0.60437955 0.         0.42471719 0.42471719 0.30218978\n",
      "  0.30218978 0.        ]]\n"
     ]
    }
   ],
   "source": [
    "docs = [\"i use my pen to write my book\",\"i use my spectacles to read my book\"]\n",
    "vectorizer = TfidfVectorizer()\n",
    "dictionary = vectorizer.fit_transform(docs)\n",
    "print(vectorizer.get_feature_names())\n",
    "print(dictionary.todense())"
   ]
  },
  {
   "cell_type": "code",
   "execution_count": 26,
   "id": "f0bd4152",
   "metadata": {},
   "outputs": [
    {
     "data": {
      "text/plain": [
       "numpy.matrix"
      ]
     },
     "execution_count": 26,
     "metadata": {},
     "output_type": "execute_result"
    }
   ],
   "source": [
    "type(dictionary.todense())"
   ]
  },
  {
   "cell_type": "markdown",
   "id": "74d24e19",
   "metadata": {},
   "source": [
    "# convert the matrix into list for input to the SVD"
   ]
  },
  {
   "cell_type": "code",
   "execution_count": 27,
   "id": "97fbcc81",
   "metadata": {},
   "outputs": [
    {
     "name": "stdout",
     "output_type": "stream",
     "text": [
      "[[0.30218977576862155, 0.6043795515372431, 0.42471718586982765, 0.0, 0.0, 0.30218977576862155, 0.30218977576862155, 0.42471718586982765], [0.30218977576862155, 0.6043795515372431, 0.0, 0.42471718586982765, 0.42471718586982765, 0.30218977576862155, 0.30218977576862155, 0.0]]\n",
      "<class 'list'>\n"
     ]
    }
   ],
   "source": [
    "inarr = dictionary.todense().tolist()\n",
    "print(inarr)\n",
    "print(type(inarr))"
   ]
  },
  {
   "cell_type": "code",
   "execution_count": 28,
   "id": "f5d9953d",
   "metadata": {},
   "outputs": [
    {
     "data": {
      "text/plain": [
       "TruncatedSVD()"
      ]
     },
     "execution_count": 28,
     "metadata": {},
     "output_type": "execute_result"
    }
   ],
   "source": [
    "# Create a TruncatedSVD object with 2 components\n",
    "svd = TruncatedSVD(n_components=2)\n",
    "\n",
    "# Fit the object to the matrix X\n",
    "svd.fit(inarr)"
   ]
  },
  {
   "cell_type": "code",
   "execution_count": 29,
   "id": "65c74592",
   "metadata": {},
   "outputs": [
    {
     "name": "stdout",
     "output_type": "stream",
     "text": [
      "U: [[ 3.33791086e-01  6.67582172e-01  2.34565863e-01  2.34565863e-01\n",
      "   2.34565863e-01  3.33791086e-01  3.33791086e-01  2.34565863e-01]\n",
      " [ 2.12293562e-16  8.26704157e-18 -5.00000000e-01  5.00000000e-01\n",
      "   5.00000000e-01 -2.99714138e-17 -2.99714138e-17 -5.00000000e-01]]\n",
      "UT: [[ 3.33791086e-01  2.12293562e-16]\n",
      " [ 6.67582172e-01  8.26704157e-18]\n",
      " [ 2.34565863e-01 -5.00000000e-01]\n",
      " [ 2.34565863e-01  5.00000000e-01]\n",
      " [ 2.34565863e-01  5.00000000e-01]\n",
      " [ 3.33791086e-01 -2.99714138e-17]\n",
      " [ 3.33791086e-01 -2.99714138e-17]\n",
      " [ 2.34565863e-01 -5.00000000e-01]]\n",
      "Sigma: [1.28032442 0.6006408 ]\n",
      "V: [[ 0.90532608 -0.42471719]\n",
      " [ 0.90532608  0.42471719]]\n",
      "\n",
      "shape of the matrices\n",
      "U: (2, 8)\n",
      "Sigma: (2,)\n",
      "V: (2, 2)\n"
     ]
    }
   ],
   "source": [
    "U = svd.components_\n",
    "print(\"U:\",U)\n",
    "UT = U.T\n",
    "print(\"UT:\",UT)\n",
    "Sigma = svd.singular_values_\n",
    "print(\"Sigma:\",Sigma)\n",
    "V = svd.transform(inarr)\n",
    "print(\"V:\",V)\n",
    "# Print the matrices shape\n",
    "print(\"\")\n",
    "print(\"shape of the matrices\")\n",
    "print(\"U:\",U.shape)\n",
    "print(\"Sigma:\",Sigma.shape)\n",
    "print(\"V:\",V.shape)"
   ]
  },
  {
   "cell_type": "markdown",
   "id": "c8a2dff4",
   "metadata": {},
   "source": [
    "# use the docs to topic matric for cosine similarity"
   ]
  },
  {
   "cell_type": "code",
   "execution_count": 30,
   "id": "23f28eff",
   "metadata": {},
   "outputs": [
    {
     "name": "stdout",
     "output_type": "stream",
     "text": [
      "[ 0.90532608 -0.42471719]\n",
      "[0.90532608 0.42471719]\n"
     ]
    }
   ],
   "source": [
    "array1 = V[0]\n",
    "array2 = V[1]\n",
    "print(array1)\n",
    "print(array2)"
   ]
  },
  {
   "cell_type": "code",
   "execution_count": 31,
   "id": "69625b7e",
   "metadata": {},
   "outputs": [
    {
     "data": {
      "text/plain": [
       "0.639"
      ]
     },
     "execution_count": 31,
     "metadata": {},
     "output_type": "execute_result"
    }
   ],
   "source": [
    "## calculation for the similarity\n",
    "numerator=np.dot(array1,array2)\n",
    "\n",
    "denom=np.sqrt(sum(np.square(array1)))*np.sqrt(sum(np.square(array2)))\n",
    "\n",
    "# Similarity:\n",
    "round(numerator/denom,3)"
   ]
  }
 ],
 "metadata": {
  "kernelspec": {
   "display_name": "Python 3 (ipykernel)",
   "language": "python",
   "name": "python3"
  },
  "language_info": {
   "codemirror_mode": {
    "name": "ipython",
    "version": 3
   },
   "file_extension": ".py",
   "mimetype": "text/x-python",
   "name": "python",
   "nbconvert_exporter": "python",
   "pygments_lexer": "ipython3",
   "version": "3.9.7"
  }
 },
 "nbformat": 4,
 "nbformat_minor": 5
}
