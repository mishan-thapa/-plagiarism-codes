{
 "cells": [
  {
   "cell_type": "markdown",
   "id": "9ab36b6a",
   "metadata": {},
   "source": [
    "# cosine similarity using formula and numpy"
   ]
  },
  {
   "cell_type": "code",
   "execution_count": 1,
   "id": "503d47fe",
   "metadata": {},
   "outputs": [],
   "source": [
    "#import all the necessary libraries\n",
    "import pandas as pd\n",
    "import numpy as np"
   ]
  },
  {
   "cell_type": "code",
   "execution_count": 2,
   "id": "143421c1",
   "metadata": {},
   "outputs": [],
   "source": [
    "#creating the two arrarys\n",
    "A=np.array([1,2,3,4,2,0,0,1])\n",
    "\n",
    "B=np.array([2,1,2,5,3,6,1,0])"
   ]
  },
  {
   "cell_type": "code",
   "execution_count": 3,
   "id": "058c5d8c",
   "metadata": {},
   "outputs": [
    {
     "data": {
      "text/plain": [
       "0.68"
      ]
     },
     "execution_count": 3,
     "metadata": {},
     "output_type": "execute_result"
    }
   ],
   "source": [
    "## calculation for the similarity\n",
    "numerator=np.dot(A,B)\n",
    "\n",
    "denom=np.sqrt(sum(np.square(A)))*np.sqrt(sum(np.square(B)))\n",
    "\n",
    "# Similarity:\n",
    "round(numerator/denom,3)"
   ]
  },
  {
   "cell_type": "code",
   "execution_count": null,
   "id": "b4379e86",
   "metadata": {},
   "outputs": [],
   "source": []
  }
 ],
 "metadata": {
  "kernelspec": {
   "display_name": "Python 3 (ipykernel)",
   "language": "python",
   "name": "python3"
  },
  "language_info": {
   "codemirror_mode": {
    "name": "ipython",
    "version": 3
   },
   "file_extension": ".py",
   "mimetype": "text/x-python",
   "name": "python",
   "nbconvert_exporter": "python",
   "pygments_lexer": "ipython3",
   "version": "3.9.7"
  }
 },
 "nbformat": 4,
 "nbformat_minor": 5
}
