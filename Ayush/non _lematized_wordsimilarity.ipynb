{
 "cells": [
  {
   "cell_type": "markdown",
   "id": "25a49117",
   "metadata": {},
   "source": [
    "starting"
   ]
  },
  {
   "cell_type": "code",
   "execution_count": null,
   "id": "9863a9c7",
   "metadata": {},
   "outputs": [],
   "source": []
  },
  {
   "cell_type": "code",
   "execution_count": 711,
   "id": "4fbd4500",
   "metadata": {},
   "outputs": [],
   "source": [
    "Suspicious = \"long ago, when there was no written history, these islands were the home of millions of happy birds; the resort of a hundred times more millions of fishes, sea lions, and other creatures. here lived innumerable creatures predestined from the creation of the world to lay up a store of wealth for the british farmer, and a store of quite another sort for an immaculate republican government\""
   ]
  },
  {
   "cell_type": "code",
   "execution_count": 712,
   "id": "95a4e1d0",
   "metadata": {},
   "outputs": [],
   "source": [
    "source = \"in ages which have no record these islands were the home of millions of happy birds, the resort of a hundred times more millions of fishes, of sea lions, and other creatures whose names are not so common; the marine residence, in fact, of innumerable animal predestined from the creation of the world to lay up a store of wealth for the british farmer, and a store of quite another sort for an immaculate republican government\""
   ]
  },
  {
   "cell_type": "code",
   "execution_count": 713,
   "id": "261718d5",
   "metadata": {},
   "outputs": [],
   "source": [
    "import nltk\n",
    "from nltk.tokenize import word_tokenize\n",
    "sus = word_tokenize(Suspicious)\n",
    "sou = word_tokenize(source)\n"
   ]
  },
  {
   "cell_type": "code",
   "execution_count": 714,
   "id": "65e96efe",
   "metadata": {},
   "outputs": [
    {
     "name": "stdout",
     "output_type": "stream",
     "text": [
      "['long', 'ago', ',', 'when', 'there', 'was', 'no', 'written', 'history', ',', 'these', 'islands', 'were', 'the', 'home', 'of', 'millions', 'of', 'happy', 'birds', ';', 'the', 'resort', 'of', 'a', 'hundred', 'times', 'more', 'millions', 'of', 'fishes', ',', 'sea', 'lions', ',', 'and', 'other', 'creatures', '.', 'here', 'lived', 'innumerable', 'creatures', 'predestined', 'from', 'the', 'creation', 'of', 'the', 'world', 'to', 'lay', 'up', 'a', 'store', 'of', 'wealth', 'for', 'the', 'british', 'farmer', ',', 'and', 'a', 'store', 'of', 'quite', 'another', 'sort', 'for', 'an', 'immaculate', 'republican', 'government']\n"
     ]
    }
   ],
   "source": [
    "print(sus)"
   ]
  },
  {
   "cell_type": "code",
   "execution_count": null,
   "id": "2af2e196",
   "metadata": {},
   "outputs": [],
   "source": [
    "\n"
   ]
  },
  {
   "cell_type": "code",
   "execution_count": 715,
   "id": "bc050f11",
   "metadata": {},
   "outputs": [
    {
     "name": "stdout",
     "output_type": "stream",
     "text": [
      "['in', 'ages', 'which', 'have', 'no', 'record', 'these', 'islands', 'were', 'the', 'home', 'of', 'millions', 'of', 'happy', 'birds', ',', 'the', 'resort', 'of', 'a', 'hundred', 'times', 'more', 'millions', 'of', 'fishes', ',', 'of', 'sea', 'lions', ',', 'and', 'other', 'creatures', 'whose', 'names', 'are', 'not', 'so', 'common', ';', 'the', 'marine', 'residence', ',', 'in', 'fact', ',', 'of', 'innumerable', 'animal', 'predestined', 'from', 'the', 'creation', 'of', 'the', 'world', 'to', 'lay', 'up', 'a', 'store', 'of', 'wealth', 'for', 'the', 'british', 'farmer', ',', 'and', 'a', 'store', 'of', 'quite', 'another', 'sort', 'for', 'an', 'immaculate', 'republican', 'government']\n"
     ]
    }
   ],
   "source": [
    "print(sou)"
   ]
  },
  {
   "cell_type": "code",
   "execution_count": 716,
   "id": "39ec7cb4",
   "metadata": {},
   "outputs": [
    {
     "name": "stdout",
     "output_type": "stream",
     "text": [
      "['i', 'me', 'my', 'myself', 'we', 'our', 'ours', 'ourselves', 'you', \"you're\", \"you've\", \"you'll\", \"you'd\", 'your', 'yours', 'yourself', 'yourselves', 'he', 'him', 'his', 'himself', 'she', \"she's\", 'her', 'hers', 'herself', 'it', \"it's\", 'its', 'itself', 'they', 'them', 'their', 'theirs', 'themselves', 'what', 'which', 'who', 'whom', 'this', 'that', \"that'll\", 'these', 'those', 'am', 'is', 'are', 'was', 'were', 'be', 'been', 'being', 'have', 'has', 'had', 'having', 'do', 'does', 'did', 'doing', 'a', 'an', 'the', 'and', 'but', 'if', 'or', 'because', 'as', 'until', 'while', 'of', 'at', 'by', 'for', 'with', 'about', 'against', 'between', 'into', 'through', 'during', 'before', 'after', 'above', 'below', 'to', 'from', 'up', 'down', 'in', 'out', 'on', 'off', 'over', 'under', 'again', 'further', 'then', 'once', 'here', 'there', 'when', 'where', 'why', 'how', 'all', 'any', 'both', 'each', 'few', 'more', 'most', 'other', 'some', 'such', 'no', 'nor', 'not', 'only', 'own', 'same', 'so', 'than', 'too', 'very', 's', 't', 'can', 'will', 'just', 'don', \"don't\", 'should', \"should've\", 'now', 'd', 'll', 'm', 'o', 're', 've', 'y', 'ain', 'aren', \"aren't\", 'couldn', \"couldn't\", 'didn', \"didn't\", 'doesn', \"doesn't\", 'hadn', \"hadn't\", 'hasn', \"hasn't\", 'haven', \"haven't\", 'isn', \"isn't\", 'ma', 'mightn', \"mightn't\", 'mustn', \"mustn't\", 'needn', \"needn't\", 'shan', \"shan't\", 'shouldn', \"shouldn't\", 'wasn', \"wasn't\", 'weren', \"weren't\", 'won', \"won't\", 'wouldn', \"wouldn't\"]\n",
      "['!', '\"', '#', '$', '%', '&', \"'\", '(', ')', '*', '+', ',', '-', '.', '/', ':', ';', '<', '=', '>', '?', '@', '[', '\\\\', ']', '^', '_', '`', '{', '|', '}', '~']\n"
     ]
    }
   ],
   "source": [
    "import nltk\n",
    "\n",
    "from nltk.corpus import stopwords\n",
    "from string import punctuation\n",
    "stopwords = stopwords.words('english')\n",
    "print(stopwords)\n",
    "\n",
    "\n",
    "punctuation = list(punctuation)\n",
    "print(punctuation)"
   ]
  },
  {
   "cell_type": "code",
   "execution_count": 717,
   "id": "872f3e90",
   "metadata": {},
   "outputs": [
    {
     "name": "stdout",
     "output_type": "stream",
     "text": [
      "['long', 'ago', 'written', 'history', 'islands', 'home', 'millions', 'happy', 'birds', 'resort', 'hundred', 'times', 'millions', 'fishes', 'sea', 'lions', 'creatures', 'lived', 'innumerable', 'creatures', 'predestined', 'creation', 'world', 'lay', 'store', 'wealth', 'british', 'farmer', 'store', 'quite', 'another', 'sort', 'immaculate', 'republican', 'government']\n",
      "['ages', 'record', 'islands', 'home', 'millions', 'happy', 'birds', 'resort', 'hundred', 'times', 'millions', 'fishes', 'sea', 'lions', 'creatures', 'whose', 'names', 'common', 'marine', 'residence', 'fact', 'innumerable', 'animal', 'predestined', 'creation', 'world', 'lay', 'store', 'wealth', 'british', 'farmer', 'store', 'quite', 'another', 'sort', 'immaculate', 'republican', 'government']\n"
     ]
    }
   ],
   "source": [
    "cleaned_sus = [token for token in sus if token not in stopwords \n",
    "\n",
    "                  and token not in punctuation]\n",
    "\n",
    "cleaned_sou = [token for token in sou if token not in stopwords \n",
    "\n",
    "                  and token not in punctuation]\n",
    "\n",
    "\n",
    "len(cleaned_sus)\n",
    "print(cleaned_sus)\n",
    "len(cleaned_sou)\n",
    "print(cleaned_sou)"
   ]
  },
  {
   "cell_type": "code",
   "execution_count": 718,
   "id": "a00047d9",
   "metadata": {},
   "outputs": [
    {
     "data": {
      "text/plain": [
       "38"
      ]
     },
     "execution_count": 718,
     "metadata": {},
     "output_type": "execute_result"
    }
   ],
   "source": [
    "len(cleaned_sou)\n",
    "\n"
   ]
  },
  {
   "cell_type": "code",
   "execution_count": 738,
   "id": "47e0fec3",
   "metadata": {},
   "outputs": [
    {
     "name": "stdout",
     "output_type": "stream",
     "text": [
      "[('long', 'RB'), ('ago', 'RB'), ('written', 'VBN'), ('history', 'NN'), ('islands', 'VBZ'), ('home', 'NN'), ('millions', 'NNS'), ('happy', 'JJ'), ('birds', 'NNS'), ('resort', 'NN'), ('hundred', 'VBD'), ('times', 'NNS'), ('millions', 'NNS'), ('fishes', 'NNS'), ('sea', 'VBP'), ('lions', 'NNS'), ('creatures', 'NNS'), ('lived', 'VBD'), ('innumerable', 'JJ'), ('creatures', 'NNS'), ('predestined', 'VBN'), ('creation', 'NN'), ('world', 'NN'), ('lay', 'VBD'), ('store', 'JJR'), ('wealth', 'NN'), ('british', 'JJ'), ('farmer', 'NN'), ('store', 'NN'), ('quite', 'RB'), ('another', 'DT'), ('sort', 'NN'), ('immaculate', 'NN'), ('republican', 'JJ'), ('government', 'NN')]\n",
      "[('ages', 'NNS'), ('record', 'NN'), ('islands', 'VBZ'), ('home', 'NN'), ('millions', 'NNS'), ('happy', 'JJ'), ('birds', 'NNS'), ('resort', 'NN'), ('hundred', 'VBD'), ('times', 'NNS'), ('millions', 'NNS'), ('fishes', 'NNS'), ('sea', 'VBP'), ('lions', 'NNS'), ('creatures', 'NNS'), ('whose', 'WP$'), ('names', 'NNS'), ('common', 'JJ'), ('marine', 'JJ'), ('residence', 'NN'), ('fact', 'NN'), ('innumerable', 'JJ'), ('animal', 'NN'), ('predestined', 'VBN'), ('creation', 'NN'), ('world', 'NN'), ('lay', 'VBD'), ('store', 'JJR'), ('wealth', 'NN'), ('british', 'JJ'), ('farmer', 'NN'), ('store', 'NN'), ('quite', 'RB'), ('another', 'DT'), ('sort', 'NN'), ('immaculate', 'NN'), ('republican', 'JJ'), ('government', 'NN')]\n"
     ]
    },
    {
     "data": {
      "text/plain": [
       "35"
      ]
     },
     "execution_count": 738,
     "metadata": {},
     "output_type": "execute_result"
    }
   ],
   "source": [
    "from nltk.corpus import wordnet as wn\n",
    "words1=nltk.pos_tag(cleaned_sus)\n",
    "words2=nltk.pos_tag(cleaned_sou)\n",
    "print(words1)\n",
    "print(words2)\n",
    "type(words1)\n",
    "len(words1)"
   ]
  },
  {
   "cell_type": "code",
   "execution_count": null,
   "id": "a1f66c04",
   "metadata": {},
   "outputs": [],
   "source": [
    "\n",
    "    \n"
   ]
  },
  {
   "cell_type": "code",
   "execution_count": 720,
   "id": "be5143ed",
   "metadata": {},
   "outputs": [
    {
     "data": {
      "text/plain": [
       "0.6666666666666666"
      ]
     },
     "execution_count": 720,
     "metadata": {},
     "output_type": "execute_result"
    }
   ],
   "source": [
    "def jaccard_similarity(list1, list2):\n",
    "    s1 = set(list1)\n",
    "    s2 = set(list2)\n",
    "    return float(len(s1.intersection(s2)) / len(s1.union(s2)))\n",
    "list1 = words1\n",
    "list2 = words2\n",
    "jaccard_similarity(list1, list2)"
   ]
  },
  {
   "cell_type": "code",
   "execution_count": 721,
   "id": "3f69fd21",
   "metadata": {},
   "outputs": [
    {
     "name": "stdout",
     "output_type": "stream",
     "text": [
      "{'long': [Synset('long.r.01'), Synset('long.r.02')], 'ago': [Synset('ago.r.01')], 'written': [Synset('write.v.01'), Synset('write.v.02'), Synset('publish.v.03'), Synset('write.v.04'), Synset('write.v.05'), Synset('compose.v.02'), Synset('write.v.07'), Synset('write.v.08'), Synset('spell.v.03'), Synset('write.v.10')], 'history': [Synset('history.n.01'), Synset('history.n.02'), Synset('history.n.03'), Synset('history.n.04'), Synset('history.n.05')], 'islands': [], 'home': [Synset('home.n.01'), Synset('dwelling.n.01'), Synset('home.n.03'), Synset('home_plate.n.01'), Synset('base.n.14'), Synset('home.n.06'), Synset('home.n.07'), Synset('family.n.01'), Synset('home.n.09')], 'millions': [Synset('million.n.01'), Synset('million.n.02')], 'happy': [Synset('happy.a.01'), Synset('felicitous.s.02'), Synset('glad.s.02'), Synset('happy.s.04')], 'birds': [Synset('bird.n.01'), Synset('bird.n.02'), Synset('dame.n.01'), Synset('boo.n.01'), Synset('shuttlecock.n.01')], 'resort': [Synset('resort.n.01'), Synset('haunt.n.01'), Synset('recourse.n.02'), Synset('recourse.n.01')], 'hundred': [], 'times': [Synset('times.n.01'), Synset('multiplication.n.03'), Synset('time.n.01'), Synset('time.n.02'), Synset('time.n.03'), Synset('time.n.04'), Synset('time.n.05'), Synset('time.n.06'), Synset('clock_time.n.01'), Synset('fourth_dimension.n.01'), Synset('meter.n.04'), Synset('prison_term.n.01')], 'fishes': [Synset('fish.n.01'), Synset('fish.n.02'), Synset('pisces.n.02'), Synset('pisces.n.01')], 'sea': [], 'lions': [Synset('lion.n.01'), Synset('lion.n.02'), Synset('leo.n.01'), Synset('leo.n.03')], 'creatures': [Synset('animal.n.01'), Synset('creature.n.02'), Synset('creature.n.03')], 'lived': [Synset('populate.v.01'), Synset('live.v.02'), Synset('survive.v.01'), Synset('exist.v.02'), Synset('be.v.11'), Synset('know.v.05'), Synset('live.v.07')], 'innumerable': [Synset('countless.s.01')], 'predestined': [Synset('predestine.v.01'), Synset('predestine.v.02'), Synset('predestine.v.03')], 'creation': [Synset('creation.n.01'), Synset('creation.n.02'), Synset('creation.n.03'), Synset('initiation.n.02'), Synset('creation.n.05'), Synset('universe.n.01')], 'world': [Synset('universe.n.01'), Synset('world.n.02'), Synset('world.n.03'), Synset('earth.n.01'), Synset('populace.n.01'), Synset('world.n.06'), Synset('worldly_concern.n.01'), Synset('world.n.08')], 'lay': [Synset('put.v.01'), Synset('lay.v.02'), Synset('lay.v.03'), Synset('lay.v.04'), Synset('lay.v.05'), Synset('lie.v.01'), Synset('lie.v.02'), Synset('dwell.v.02'), Synset('lie.v.04'), Synset('lie.v.05'), Synset('lie.v.06'), Synset('lie_down.v.01')], 'store': [Synset('shop.n.01'), Synset('store.n.02'), Synset('memory.n.04'), Synset('storehouse.n.01')], 'wealth': [Synset('wealth.n.01'), Synset('wealth.n.02'), Synset('wealth.n.03'), Synset('wealth.n.04')], 'british': [Synset('british.a.01')], 'farmer': [Synset('farmer.n.01'), Synset('farmer.n.02'), Synset('farmer.n.03')], 'quite': [Synset('quite.r.01'), Synset('quite.r.02'), Synset('quite.r.03'), Synset('quite.r.04')], 'another': [Synset('another.s.01')], 'sort': [Synset('kind.n.01'), Synset('sort.n.02'), Synset('sort.n.03'), Synset('sort.n.04')], 'immaculate': [], 'republican': [Synset('republican.a.01'), Synset('republican.s.02')], 'government': [Synset('government.n.01'), Synset('government.n.02'), Synset('government.n.03'), Synset('politics.n.02')]}\n"
     ]
    }
   ],
   "source": [
    "synsets1 = dict()\n",
    "for word, pos in words1:\n",
    "    #print(word)\n",
    "    if pos.startswith('J'):\n",
    "        tb=wn.synsets(word,wn.ADJ)\n",
    "    elif pos.startswith('V'):\n",
    "        tb=wn.synsets(word,wn.VERB)\n",
    "    elif pos.startswith('N'):\n",
    "        tb=wn.synsets(word,wn.NOUN)\n",
    "    elif pos.startswith('R'):\n",
    "        tb=wn.synsets(word,wn.ADV)\n",
    "    else:\n",
    "        tb=wn.synsets(word)\n",
    "    \n",
    "    synsets1[word]=tb\n",
    "    \n",
    "    #print(\"/n\")\n",
    "print(synsets1)"
   ]
  },
  {
   "cell_type": "code",
   "execution_count": 722,
   "id": "a68a3d7b",
   "metadata": {},
   "outputs": [
    {
     "name": "stdout",
     "output_type": "stream",
     "text": [
      "{'long': ['long'], 'ago': ['ago'], 'written': ['pen', 'compose', 'write', 'indite'], 'history': ['history'], 'islands': [], 'home': ['place', 'home'], 'millions': ['1000000', 'million', 'meg', 'one_thousand_thousand'], 'happy': ['happy'], 'birds': ['bird'], 'resort': ['resort_hotel', 'resort', 'holiday_resort'], 'hundred': [], 'times': ['times'], 'fishes': ['fish'], 'sea': [], 'lions': ['panthera_leo', 'king_of_beasts', 'lion'], 'creatures': ['animal', 'brute', 'animate_being', 'creature', 'fauna', 'beast'], 'lived': ['populate', 'dwell', 'live', 'inhabit'], 'innumerable': ['numberless', 'unnumerable', 'uncounted', 'infinite', 'unnumbered', 'multitudinous', 'innumerable', 'countless', 'innumerous', 'myriad', 'unnumberable'], 'predestined': ['predestine'], 'creation': ['creation', 'creative_activity'], 'world': ['existence', 'universe', 'creation', 'cosmos', 'macrocosm', 'world'], 'lay': ['put', 'position', 'pose', 'lay', 'set', 'place'], 'store': ['shop', 'store'], 'wealth': ['wealthiness', 'wealth'], 'british': ['british'], 'farmer': ['granger', 'farmer', 'husbandman', 'sodbuster'], 'quite': ['rather', 'quite'], 'another': ['another', 'some_other'], 'sort': ['form', 'kind', 'sort', 'variety'], 'immaculate': [], 'republican': ['republican'], 'government': ['government', 'authorities', 'regime']}\n"
     ]
    }
   ],
   "source": [
    "test_similar_word = dict()\n",
    "for word in synsets1:\n",
    "    synset_word = synsets1[word]\n",
    "    \n",
    "    \n",
    "    temp = list()\n",
    "    \n",
    "    for syn in synset_word:\n",
    "        for l in syn.lemmas():\n",
    "            temp.append(l.name().lower())\n",
    "        break\n",
    "    temp = list(set(temp))\n",
    "    similar_word[word]=temp\n",
    "print(similar_word)"
   ]
  },
  {
   "cell_type": "code",
   "execution_count": null,
   "id": "6bca3861",
   "metadata": {},
   "outputs": [],
   "source": []
  },
  {
   "cell_type": "code",
   "execution_count": 739,
   "id": "78ace6d5",
   "metadata": {
    "scrolled": true
   },
   "outputs": [
    {
     "name": "stdout",
     "output_type": "stream",
     "text": [
      "{'long': ['long'], 'ago': ['ago'], 'written': ['pen', 'save', 'spell', 'publish', 'write', 'indite', 'compose', 'drop_a_line'], 'history': ['story', 'history', 'chronicle', 'account'], 'islands': [], 'home': ['rest_home', 'abode', 'menage', 'habitation', 'home_base', 'home', 'dwelling', 'base', 'family', 'home_plate', 'household', 'house', 'nursing_home', 'plate', 'domicile', 'dwelling_house', 'place'], 'millions': ['1000000', 'trillion', 'jillion', 'billion', 'million', 'meg', 'zillion', 'gazillion', 'one_thousand_thousand'], 'happy': ['glad', 'happy', 'felicitous', 'well-chosen'], 'birds': ['skirt', 'bird', 'chick', 'bronx_cheer', 'razzing', 'wench', 'dame', 'boo', 'doll', 'hiss', 'razz', 'hoot', 'shuttlecock', 'snort', 'birdie', 'shuttle', 'raspberry', 'fowl'], 'resort': ['repair', 'recourse', 'refuge', 'resort_hotel', 'holiday_resort', 'stamping_ground', 'hangout', 'resort', 'haunt'], 'hundred': [], 'times': ['meter', 'metre', 'multiplication', 'clip', 'time', 'prison_term', 'clock_time', 'fourth_dimension', 'sentence', 'times'], 'fishes': ['pisces_the_fishes', 'fish', 'pisces'], 'sea': [], 'lions': ['social_lion', 'panthera_leo', 'leo', 'king_of_beasts', 'leo_the_lion', 'lion'], 'creatures': ['animal', 'wight', 'brute', 'animate_being', 'creature', 'fauna', 'tool', 'beast', 'puppet'], 'lived': ['be', 'populate', 'hold_out', 'dwell', 'last', 'endure', 'inhabit', 'exist', 'survive', 'experience', 'subsist', 'live_on', 'live', 'know', 'hold_up', 'go'], 'innumerable': ['numberless', 'unnumerable', 'uncounted', 'infinite', 'unnumbered', 'multitudinous', 'innumerable', 'countless', 'innumerous', 'myriad', 'unnumberable'], 'predestined': ['predestine', 'preordain', 'predestinate', 'foreordain'], 'creation': ['existence', 'founding', 'introduction', 'conception', 'innovation', 'origination', 'universe', 'creative_activity', 'creation', 'institution', 'initiation', 'cosmos', 'foundation', 'macrocosm', 'instauration', 'world'], 'world': ['existence', 'human_beings', 'universe', 'worldly_concern', 'creation', 'human_race', 'humankind', 'man', 'earthly_concern', 'domain', 'earth', 'public', 'world', 'humanity', 'mankind', 'cosmos', 'macrocosm', 'populace', 'humans', 'reality', 'globe'], 'lay': ['consist', 'repose', 'dwell', 'put', 'rest', 'position', 'pose', 'lie', 'lie_in', 'lay', 'put_down', 'lie_down', 'set', 'place'], 'store': ['storage', 'store', 'entrepot', 'storehouse', 'shop', 'memory_board', 'depot', 'computer_storage', 'memory', 'computer_memory', 'fund', 'stock'], 'wealth': ['riches', 'wealthiness', 'wealth'], 'british': ['british'], 'farmer': ['granger', 'sodbuster', 'fannie_farmer', 'farmer', 'husbandman', 'fannie_merritt_farmer', 'james_leonard_farmer'], 'quite': ['rather', 'quite_an', 'quite', 'quite_a'], 'another': ['another', 'some_other'], 'sort': ['variety', 'sorting', 'form', 'kind', 'sort'], 'immaculate': [], 'republican': ['republican'], 'government': ['government', 'authorities', 'administration', 'regime', 'government_activity', 'political_science', 'governing', 'politics', 'governance']}\n"
     ]
    },
    {
     "data": {
      "text/plain": [
       "32"
      ]
     },
     "execution_count": 739,
     "metadata": {},
     "output_type": "execute_result"
    }
   ],
   "source": [
    "similar_word = dict()\n",
    "\n",
    "for word in synsets1:\n",
    "    synset_word = synsets1[word]\n",
    "    \n",
    "    temp = list()\n",
    "    \n",
    "    for syn in synset_word:\n",
    "        for l in syn.lemmas():\n",
    "            temp.append(l.name().lower())\n",
    "    temp = list(set(temp))\n",
    "    similar_word[word]=temp\n",
    "print(similar_word)\n",
    "len(similar_word)"
   ]
  },
  {
   "cell_type": "code",
   "execution_count": 724,
   "id": "6c24959d",
   "metadata": {},
   "outputs": [
    {
     "name": "stdout",
     "output_type": "stream",
     "text": [
      "[('ages', 'NNS'), ('record', 'NN'), ('islands', 'VBZ'), ('home', 'NN'), ('millions', 'NNS'), ('happy', 'JJ'), ('birds', 'NNS'), ('resort', 'NN'), ('hundred', 'VBD'), ('times', 'NNS'), ('millions', 'NNS'), ('fishes', 'NNS'), ('sea', 'VBP'), ('lions', 'NNS'), ('creatures', 'NNS'), ('whose', 'WP$'), ('names', 'NNS'), ('common', 'JJ'), ('marine', 'JJ'), ('residence', 'NN'), ('fact', 'NN'), ('innumerable', 'JJ'), ('animal', 'NN'), ('predestined', 'VBN'), ('creation', 'NN'), ('world', 'NN'), ('lay', 'VBD'), ('store', 'JJR'), ('wealth', 'NN'), ('british', 'JJ'), ('farmer', 'NN'), ('store', 'NN'), ('quite', 'RB'), ('another', 'DT'), ('sort', 'NN'), ('immaculate', 'NN'), ('republican', 'JJ'), ('government', 'NN')]\n"
     ]
    }
   ],
   "source": [
    "print(words2)"
   ]
  },
  {
   "cell_type": "code",
   "execution_count": 733,
   "id": "48078dc3",
   "metadata": {
    "scrolled": true
   },
   "outputs": [
    {
     "name": "stdout",
     "output_type": "stream",
     "text": [
      "0\n",
      "('ages', 'NNS')\n",
      "0\n",
      "('record', 'NN')\n",
      "0\n",
      "('islands', 'VBZ')\n",
      "2\n",
      "('home', 'NN')\n",
      "0\n",
      "('millions', 'NNS')\n",
      "2\n",
      "('happy', 'JJ')\n",
      "0\n",
      "('birds', 'NNS')\n",
      "2\n",
      "('resort', 'NN')\n",
      "0\n",
      "('hundred', 'VBD')\n",
      "2\n",
      "('times', 'NNS')\n",
      "0\n",
      "('millions', 'NNS')\n",
      "0\n",
      "('fishes', 'NNS')\n",
      "0\n",
      "('sea', 'VBP')\n",
      "0\n",
      "('lions', 'NNS')\n",
      "0\n",
      "('creatures', 'NNS')\n",
      "0\n",
      "('whose', 'WP$')\n",
      "0\n",
      "('names', 'NNS')\n",
      "0\n",
      "('common', 'JJ')\n",
      "0\n",
      "('marine', 'JJ')\n",
      "0\n",
      "('residence', 'NN')\n",
      "0\n",
      "('fact', 'NN')\n",
      "2\n",
      "('innumerable', 'JJ')\n",
      "2\n",
      "('creatures', 'NN')\n",
      "0\n",
      "('predestined', 'VBN')\n",
      "2\n",
      "('world', 'NN')\n",
      "2\n",
      "('world', 'NN')\n",
      "2\n",
      "('lay', 'VBD')\n",
      "2\n",
      "('store', 'JJR')\n",
      "2\n",
      "('wealth', 'NN')\n",
      "2\n",
      "('british', 'JJ')\n",
      "2\n",
      "('farmer', 'NN')\n",
      "2\n",
      "('store', 'NN')\n",
      "2\n",
      "('quite', 'RB')\n",
      "2\n",
      "('another', 'DT')\n",
      "2\n",
      "('sort', 'NN')\n",
      "0\n",
      "('immaculate', 'NN')\n",
      "2\n",
      "('republican', 'JJ')\n",
      "2\n",
      "('government', 'NN')\n"
     ]
    }
   ],
   "source": [
    "newwords2 =list()\n",
    "for word , pos in words2:\n",
    "    temp =tuple()\n",
    "    #print(word,pos)\n",
    "    for key in similar_word:\n",
    "        #print(key)\n",
    "        if word in similar_word[key]:\n",
    "            temp=(key,pos)\n",
    "            #break\n",
    "    print(len(temp))\n",
    "    if len(temp) != 0 :\n",
    "        newwords2.append(temp)\n",
    "    else:\n",
    "        temp = (word,pos)\n",
    "        newwords2.append(temp)\n",
    "    print(temp)\n"
   ]
  },
  {
   "cell_type": "code",
   "execution_count": null,
   "id": "5b736bac",
   "metadata": {},
   "outputs": [],
   "source": []
  },
  {
   "cell_type": "code",
   "execution_count": 734,
   "id": "00bbb0c3",
   "metadata": {},
   "outputs": [
    {
     "name": "stdout",
     "output_type": "stream",
     "text": [
      "[('long', 'RB'), ('ago', 'RB'), ('written', 'VBN'), ('history', 'NN'), ('islands', 'VBZ'), ('home', 'NN'), ('millions', 'NNS'), ('happy', 'JJ'), ('birds', 'NNS'), ('resort', 'NN'), ('hundred', 'VBD'), ('times', 'NNS'), ('millions', 'NNS'), ('fishes', 'NNS'), ('sea', 'VBP'), ('lions', 'NNS'), ('creatures', 'NNS'), ('lived', 'VBD'), ('innumerable', 'JJ'), ('creatures', 'NNS'), ('predestined', 'VBN'), ('creation', 'NN'), ('world', 'NN'), ('lay', 'VBD'), ('store', 'JJR'), ('wealth', 'NN'), ('british', 'JJ'), ('farmer', 'NN'), ('store', 'NN'), ('quite', 'RB'), ('another', 'DT'), ('sort', 'NN'), ('immaculate', 'NN'), ('republican', 'JJ'), ('government', 'NN')]\n"
     ]
    }
   ],
   "source": [
    "print(words1)"
   ]
  },
  {
   "cell_type": "code",
   "execution_count": 735,
   "id": "fa8af918",
   "metadata": {},
   "outputs": [
    {
     "name": "stdout",
     "output_type": "stream",
     "text": [
      "[('ages', 'NNS'), ('record', 'NN'), ('islands', 'VBZ'), ('home', 'NN'), ('millions', 'NNS'), ('happy', 'JJ'), ('birds', 'NNS'), ('resort', 'NN'), ('hundred', 'VBD'), ('times', 'NNS'), ('millions', 'NNS'), ('fishes', 'NNS'), ('sea', 'VBP'), ('lions', 'NNS'), ('creatures', 'NNS'), ('whose', 'WP$'), ('names', 'NNS'), ('common', 'JJ'), ('marine', 'JJ'), ('residence', 'NN'), ('fact', 'NN'), ('innumerable', 'JJ'), ('animal', 'NN'), ('predestined', 'VBN'), ('creation', 'NN'), ('world', 'NN'), ('lay', 'VBD'), ('store', 'JJR'), ('wealth', 'NN'), ('british', 'JJ'), ('farmer', 'NN'), ('store', 'NN'), ('quite', 'RB'), ('another', 'DT'), ('sort', 'NN'), ('immaculate', 'NN'), ('republican', 'JJ'), ('government', 'NN')]\n"
     ]
    }
   ],
   "source": [
    "print(words2)"
   ]
  },
  {
   "cell_type": "code",
   "execution_count": 740,
   "id": "523d6875",
   "metadata": {},
   "outputs": [
    {
     "name": "stdout",
     "output_type": "stream",
     "text": [
      "[('ages', 'NNS'), ('record', 'NN'), ('islands', 'VBZ'), ('home', 'NN'), ('millions', 'NNS'), ('happy', 'JJ'), ('birds', 'NNS'), ('resort', 'NN'), ('hundred', 'VBD'), ('times', 'NNS'), ('millions', 'NNS'), ('fishes', 'NNS'), ('sea', 'VBP'), ('lions', 'NNS'), ('creatures', 'NNS'), ('whose', 'WP$'), ('names', 'NNS'), ('common', 'JJ'), ('marine', 'JJ'), ('residence', 'NN'), ('fact', 'NN'), ('innumerable', 'JJ'), ('creatures', 'NN'), ('predestined', 'VBN'), ('world', 'NN'), ('world', 'NN'), ('lay', 'VBD'), ('store', 'JJR'), ('wealth', 'NN'), ('british', 'JJ'), ('farmer', 'NN'), ('store', 'NN'), ('quite', 'RB'), ('another', 'DT'), ('sort', 'NN'), ('immaculate', 'NN'), ('republican', 'JJ'), ('government', 'NN')]\n"
     ]
    },
    {
     "data": {
      "text/plain": [
       "38"
      ]
     },
     "execution_count": 740,
     "metadata": {},
     "output_type": "execute_result"
    }
   ],
   "source": [
    "print(newwords2)\n",
    "len(newwords2)"
   ]
  },
  {
   "cell_type": "code",
   "execution_count": 737,
   "id": "5c468490",
   "metadata": {},
   "outputs": [
    {
     "data": {
      "text/plain": [
       "0.6428571428571429"
      ]
     },
     "execution_count": 737,
     "metadata": {},
     "output_type": "execute_result"
    }
   ],
   "source": [
    "def jaccard_similarity(list1, list2):\n",
    "    s1 = set(list1)\n",
    "    s2 = set(list2)\n",
    "    return float(len(s1.intersection(s2)) / len(s1.union(s2)))\n",
    "list1 = words1\n",
    "list2 = newwords2\n",
    "jaccard_similarity(list1, list2)"
   ]
  },
  {
   "cell_type": "code",
   "execution_count": 675,
   "id": "2ee07b09",
   "metadata": {},
   "outputs": [
    {
     "name": "stdout",
     "output_type": "stream",
     "text": [
      "{'long': [Synset('long.r.01'), Synset('long.r.02')], 'ago': [Synset('ago.r.01')], 'written': [Synset('write.v.01'), Synset('write.v.02'), Synset('publish.v.03'), Synset('write.v.04'), Synset('write.v.05'), Synset('compose.v.02'), Synset('write.v.07'), Synset('write.v.08'), Synset('spell.v.03'), Synset('write.v.10')], 'history': [Synset('history.n.01'), Synset('history.n.02'), Synset('history.n.03'), Synset('history.n.04'), Synset('history.n.05')], 'islands': [], 'home': [Synset('home.n.01'), Synset('dwelling.n.01'), Synset('home.n.03'), Synset('home_plate.n.01'), Synset('base.n.14'), Synset('home.n.06'), Synset('home.n.07'), Synset('family.n.01'), Synset('home.n.09')], 'millions': [Synset('million.n.01'), Synset('million.n.02')], 'happy': [Synset('happy.a.01'), Synset('felicitous.s.02'), Synset('glad.s.02'), Synset('happy.s.04')], 'birds': [Synset('bird.n.01'), Synset('bird.n.02'), Synset('dame.n.01'), Synset('boo.n.01'), Synset('shuttlecock.n.01')], 'resort': [Synset('resort.n.01'), Synset('haunt.n.01'), Synset('recourse.n.02'), Synset('recourse.n.01')], 'hundred': [], 'times': [Synset('times.n.01'), Synset('multiplication.n.03'), Synset('time.n.01'), Synset('time.n.02'), Synset('time.n.03'), Synset('time.n.04'), Synset('time.n.05'), Synset('time.n.06'), Synset('clock_time.n.01'), Synset('fourth_dimension.n.01'), Synset('meter.n.04'), Synset('prison_term.n.01')], 'fishes': [Synset('fish.n.01'), Synset('fish.n.02'), Synset('pisces.n.02'), Synset('pisces.n.01')], 'sea': [], 'lions': [Synset('lion.n.01'), Synset('lion.n.02'), Synset('leo.n.01'), Synset('leo.n.03')], 'creatures': [Synset('animal.n.01'), Synset('creature.n.02'), Synset('creature.n.03')], 'lived': [Synset('populate.v.01'), Synset('live.v.02'), Synset('survive.v.01'), Synset('exist.v.02'), Synset('be.v.11'), Synset('know.v.05'), Synset('live.v.07')], 'innumerable': [Synset('countless.s.01')], 'predestined': [Synset('predestine.v.01'), Synset('predestine.v.02'), Synset('predestine.v.03')], 'creation': [Synset('creation.n.01'), Synset('creation.n.02'), Synset('creation.n.03'), Synset('initiation.n.02'), Synset('creation.n.05'), Synset('universe.n.01')], 'world': [Synset('universe.n.01'), Synset('world.n.02'), Synset('world.n.03'), Synset('earth.n.01'), Synset('populace.n.01'), Synset('world.n.06'), Synset('worldly_concern.n.01'), Synset('world.n.08')], 'lay': [Synset('put.v.01'), Synset('lay.v.02'), Synset('lay.v.03'), Synset('lay.v.04'), Synset('lay.v.05'), Synset('lie.v.01'), Synset('lie.v.02'), Synset('dwell.v.02'), Synset('lie.v.04'), Synset('lie.v.05'), Synset('lie.v.06'), Synset('lie_down.v.01')], 'store': [Synset('shop.n.01'), Synset('store.n.02'), Synset('memory.n.04'), Synset('storehouse.n.01')], 'wealth': [Synset('wealth.n.01'), Synset('wealth.n.02'), Synset('wealth.n.03'), Synset('wealth.n.04')], 'british': [Synset('british.a.01')], 'farmer': [Synset('farmer.n.01'), Synset('farmer.n.02'), Synset('farmer.n.03')], 'quite': [Synset('quite.r.01'), Synset('quite.r.02'), Synset('quite.r.03'), Synset('quite.r.04')], 'another': [Synset('another.s.01')], 'sort': [Synset('kind.n.01'), Synset('sort.n.02'), Synset('sort.n.03'), Synset('sort.n.04')], 'immaculate': [], 'republican': [Synset('republican.a.01'), Synset('republican.s.02')], 'government': [Synset('government.n.01'), Synset('government.n.02'), Synset('government.n.03'), Synset('politics.n.02')]}\n"
     ]
    }
   ],
   "source": [
    "synsets2 = dict()\n",
    "for word, pos in words1:\n",
    "    #print(word)\n",
    "    if pos.startswith('J'):\n",
    "        tb=wn.synsets(word,wn.ADJ)\n",
    "    elif pos.startswith('V'):\n",
    "        tb=wn.synsets(word,wn.VERB)\n",
    "    elif pos.startswith('N'):\n",
    "        tb=wn.synsets(word,wn.NOUN)\n",
    "    elif pos.startswith('R'):\n",
    "        tb=wn.synsets(word,wn.ADV)\n",
    "    else:\n",
    "        tb=wn.synsets(word)\n",
    "    \n",
    "    synsets2[word]=tb\n",
    "    \n",
    "    #print(\"/n\")\n",
    "print(synsets2)"
   ]
  },
  {
   "cell_type": "code",
   "execution_count": null,
   "id": "c2cffd02",
   "metadata": {},
   "outputs": [],
   "source": []
  },
  {
   "cell_type": "code",
   "execution_count": null,
   "id": "b608af50",
   "metadata": {},
   "outputs": [],
   "source": []
  },
  {
   "cell_type": "code",
   "execution_count": null,
   "id": "9e84248d",
   "metadata": {},
   "outputs": [],
   "source": []
  },
  {
   "cell_type": "code",
   "execution_count": null,
   "id": "b025e8b0",
   "metadata": {},
   "outputs": [],
   "source": []
  },
  {
   "cell_type": "code",
   "execution_count": null,
   "id": "b6a1a805",
   "metadata": {},
   "outputs": [],
   "source": []
  },
  {
   "cell_type": "code",
   "execution_count": null,
   "id": "d7af7554",
   "metadata": {
    "scrolled": true
   },
   "outputs": [],
   "source": [
    "\n",
    "  \n"
   ]
  },
  {
   "cell_type": "code",
   "execution_count": null,
   "id": "a311eb4b",
   "metadata": {},
   "outputs": [],
   "source": []
  },
  {
   "cell_type": "code",
   "execution_count": null,
   "id": "5718e205",
   "metadata": {},
   "outputs": [],
   "source": []
  },
  {
   "cell_type": "code",
   "execution_count": null,
   "id": "f895c791",
   "metadata": {},
   "outputs": [],
   "source": [
    "\n"
   ]
  },
  {
   "cell_type": "code",
   "execution_count": null,
   "id": "04207466",
   "metadata": {},
   "outputs": [],
   "source": []
  },
  {
   "cell_type": "code",
   "execution_count": null,
   "id": "19048e55",
   "metadata": {},
   "outputs": [],
   "source": []
  },
  {
   "cell_type": "code",
   "execution_count": null,
   "id": "bdb25412",
   "metadata": {},
   "outputs": [],
   "source": [
    "\n"
   ]
  },
  {
   "cell_type": "code",
   "execution_count": null,
   "id": "81779d99",
   "metadata": {},
   "outputs": [],
   "source": []
  },
  {
   "cell_type": "code",
   "execution_count": null,
   "id": "7b26ef91",
   "metadata": {},
   "outputs": [],
   "source": [
    "\n",
    " \n",
    "\n"
   ]
  },
  {
   "cell_type": "code",
   "execution_count": null,
   "id": "16d59bb3",
   "metadata": {},
   "outputs": [],
   "source": [
    "\n"
   ]
  },
  {
   "cell_type": "code",
   "execution_count": null,
   "id": "622d9b0c",
   "metadata": {},
   "outputs": [],
   "source": []
  },
  {
   "cell_type": "code",
   "execution_count": null,
   "id": "97e177fa",
   "metadata": {},
   "outputs": [],
   "source": []
  },
  {
   "cell_type": "code",
   "execution_count": null,
   "id": "cbfd258b",
   "metadata": {},
   "outputs": [],
   "source": []
  },
  {
   "cell_type": "code",
   "execution_count": null,
   "id": "4beea36d",
   "metadata": {},
   "outputs": [],
   "source": []
  },
  {
   "cell_type": "code",
   "execution_count": null,
   "id": "316679e7",
   "metadata": {},
   "outputs": [],
   "source": []
  }
 ],
 "metadata": {
  "kernelspec": {
   "display_name": "Python 3 (ipykernel)",
   "language": "python",
   "name": "python3"
  },
  "language_info": {
   "codemirror_mode": {
    "name": "ipython",
    "version": 3
   },
   "file_extension": ".py",
   "mimetype": "text/x-python",
   "name": "python",
   "nbconvert_exporter": "python",
   "pygments_lexer": "ipython3",
   "version": "3.9.13"
  }
 },
 "nbformat": 4,
 "nbformat_minor": 5
}
