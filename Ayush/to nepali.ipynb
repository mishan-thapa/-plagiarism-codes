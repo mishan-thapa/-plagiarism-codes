{
 "cells": [
  {
   "cell_type": "code",
   "execution_count": 19,
   "id": "b20fd555",
   "metadata": {},
   "outputs": [],
   "source": [
    "import pandas as pd\n",
    "import numpy\n",
    "df = pd.read_csv('nepali.csv')\n",
    "df1 = pd.DataFrame()\n"
   ]
  },
  {
   "cell_type": "code",
   "execution_count": 20,
   "id": "e23f916a",
   "metadata": {},
   "outputs": [],
   "source": [
    "from googletrans import Translator\n",
    "translator = Translator()\n",
    "neporig = list()\n",
    "nepsus = list()\n",
    "label= list()\n",
    "for i in range(0,300):\n",
    "    original = df.original[i]\n",
    "    suspicious = df.suspicious[i]\n",
    "    lab = df.label[i]\n",
    "    translation1 = translator.translate(original, dest='ne')\n",
    "    translation2 = translator.translate(suspicious, dest='ne')\n",
    "    neporig.append(translation1.text)\n",
    "    nepsus.append(translation2.text)\n",
    "    label.append(lab)\n",
    "\n",
    "df1['orignal_nepali'] = neporig\n",
    "df1['suspicious_nepali'] = nepsus\n",
    "df1['label'] = label\n",
    "df1.to_csv('nepalineww.csv',index=False, encoding='utf-8')"
   ]
  },
  {
   "cell_type": "code",
   "execution_count": 16,
   "id": "8e545928",
   "metadata": {},
   "outputs": [
    {
     "name": "stdout",
     "output_type": "stream",
     "text": [
      "घोडामा सवार एक व्यक्ति भाँचिएको हवाइजहाजमाथि हाम फाल्दै छ।\n"
     ]
    }
   ],
   "source": [
    "df2 = pd.read_csv('nepalinew.csv',encoding='utf-8')\n",
    "print(df2['orignal_nepali'][0])\n"
   ]
  },
  {
   "cell_type": "code",
   "execution_count": 9,
   "id": "a2e56acd",
   "metadata": {},
   "outputs": [],
   "source": []
  },
  {
   "cell_type": "code",
   "execution_count": null,
   "id": "ca53adff",
   "metadata": {},
   "outputs": [],
   "source": []
  },
  {
   "cell_type": "code",
   "execution_count": null,
   "id": "66257753",
   "metadata": {},
   "outputs": [],
   "source": []
  }
 ],
 "metadata": {
  "kernelspec": {
   "display_name": "Python 3 (ipykernel)",
   "language": "python",
   "name": "python3"
  },
  "language_info": {
   "codemirror_mode": {
    "name": "ipython",
    "version": 3
   },
   "file_extension": ".py",
   "mimetype": "text/x-python",
   "name": "python",
   "nbconvert_exporter": "python",
   "pygments_lexer": "ipython3",
   "version": "3.9.13"
  }
 },
 "nbformat": 4,
 "nbformat_minor": 5
}
