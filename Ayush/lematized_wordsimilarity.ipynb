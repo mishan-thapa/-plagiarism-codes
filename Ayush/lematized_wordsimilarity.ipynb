{
 "cells": [
  {
   "cell_type": "code",
   "execution_count": 113,
   "id": "ff2e5fe2",
   "metadata": {},
   "outputs": [],
   "source": [
    "suspicious_text = \"A couple play in the tide with their young son\""
   ]
  },
  {
   "cell_type": "code",
   "execution_count": 114,
   "id": "9cd5a002",
   "metadata": {},
   "outputs": [],
   "source": [
    "source_text = \"The family is outside\""
   ]
  },
  {
   "cell_type": "code",
   "execution_count": null,
   "id": "0c496d15",
   "metadata": {},
   "outputs": [],
   "source": []
  },
  {
   "cell_type": "code",
   "execution_count": null,
   "id": "daa543cc",
   "metadata": {},
   "outputs": [],
   "source": []
  },
  {
   "cell_type": "code",
   "execution_count": 115,
   "id": "d5a35b01",
   "metadata": {},
   "outputs": [
    {
     "name": "stdout",
     "output_type": "stream",
     "text": [
      "['a', 'couple', 'play', 'in', 'the', 'tide', 'with', 'their', 'young', 'son']\n",
      "['the', 'family', 'is', 'outside']\n"
     ]
    }
   ],
   "source": [
    "import nltk\n",
    "from nltk.tokenize import word_tokenize\n",
    "tokenized_suspicious_text = word_tokenize(suspicious_text.lower())\n",
    "tokenized_source_text = word_tokenize(source_text.lower())\n",
    "print(tokenized_suspicious_text)\n",
    "print(tokenized_source_text)"
   ]
  },
  {
   "cell_type": "code",
   "execution_count": 116,
   "id": "b8ead18e",
   "metadata": {},
   "outputs": [
    {
     "name": "stdout",
     "output_type": "stream",
     "text": [
      "['i', 'me', 'my', 'myself', 'we', 'our', 'ours', 'ourselves', 'you', \"you're\", \"you've\", \"you'll\", \"you'd\", 'your', 'yours', 'yourself', 'yourselves', 'he', 'him', 'his', 'himself', 'she', \"she's\", 'her', 'hers', 'herself', 'it', \"it's\", 'its', 'itself', 'they', 'them', 'their', 'theirs', 'themselves', 'what', 'which', 'who', 'whom', 'this', 'that', \"that'll\", 'these', 'those', 'am', 'is', 'are', 'was', 'were', 'be', 'been', 'being', 'have', 'has', 'had', 'having', 'do', 'does', 'did', 'doing', 'a', 'an', 'the', 'and', 'but', 'if', 'or', 'because', 'as', 'until', 'while', 'of', 'at', 'by', 'for', 'with', 'about', 'against', 'between', 'into', 'through', 'during', 'before', 'after', 'above', 'below', 'to', 'from', 'up', 'down', 'in', 'out', 'on', 'off', 'over', 'under', 'again', 'further', 'then', 'once', 'here', 'there', 'when', 'where', 'why', 'how', 'all', 'any', 'both', 'each', 'few', 'more', 'most', 'other', 'some', 'such', 'no', 'nor', 'not', 'only', 'own', 'same', 'so', 'than', 'too', 'very', 's', 't', 'can', 'will', 'just', 'don', \"don't\", 'should', \"should've\", 'now', 'd', 'll', 'm', 'o', 're', 've', 'y', 'ain', 'aren', \"aren't\", 'couldn', \"couldn't\", 'didn', \"didn't\", 'doesn', \"doesn't\", 'hadn', \"hadn't\", 'hasn', \"hasn't\", 'haven', \"haven't\", 'isn', \"isn't\", 'ma', 'mightn', \"mightn't\", 'mustn', \"mustn't\", 'needn', \"needn't\", 'shan', \"shan't\", 'shouldn', \"shouldn't\", 'wasn', \"wasn't\", 'weren', \"weren't\", 'won', \"won't\", 'wouldn', \"wouldn't\"]\n",
      "['!', '\"', '#', '$', '%', '&', \"'\", '(', ')', '*', '+', ',', '-', '.', '/', ':', ';', '<', '=', '>', '?', '@', '[', '\\\\', ']', '^', '_', '`', '{', '|', '}', '~']\n"
     ]
    }
   ],
   "source": [
    "from nltk.corpus import stopwords\n",
    "from string import punctuation\n",
    "stopwords = stopwords.words('english')\n",
    "print(stopwords)\n",
    "punctuation = list(punctuation)\n",
    "print(punctuation)"
   ]
  },
  {
   "cell_type": "code",
   "execution_count": 117,
   "id": "5bfb9848",
   "metadata": {},
   "outputs": [
    {
     "name": "stdout",
     "output_type": "stream",
     "text": [
      "['couple', 'play', 'tide', 'young', 'son']\n",
      "['family', 'outside']\n"
     ]
    }
   ],
   "source": [
    "cleaned_tokenized_suspicious_text = [token for token in tokenized_suspicious_text if token not in stopwords \n",
    "\n",
    "                  and token not in punctuation]\n",
    "\n",
    "cleaned_tokenized_source_text = [token for token in tokenized_source_text if token not in stopwords \n",
    "\n",
    "                  and token not in punctuation]\n",
    "\n",
    "print(cleaned_tokenized_suspicious_text)\n",
    "print(cleaned_tokenized_source_text)"
   ]
  },
  {
   "cell_type": "code",
   "execution_count": 118,
   "id": "1f7c0450",
   "metadata": {},
   "outputs": [
    {
     "name": "stdout",
     "output_type": "stream",
     "text": [
      "[('couple', 'NN'), ('play', 'NN'), ('tide', 'NN'), ('young', 'JJ'), ('son', 'NN')]\n",
      "[('family', 'NN'), ('outside', 'IN')]\n"
     ]
    }
   ],
   "source": [
    "words_from_suspicious=nltk.pos_tag(cleaned_tokenized_suspicious_text)\n",
    "words_from_source=nltk.pos_tag(cleaned_tokenized_source_text)\n",
    "print(words_from_suspicious)\n",
    "print(words_from_source)"
   ]
  },
  {
   "cell_type": "code",
   "execution_count": 119,
   "id": "a352ad1a",
   "metadata": {},
   "outputs": [
    {
     "data": {
      "text/plain": [
       "0.0"
      ]
     },
     "execution_count": 119,
     "metadata": {},
     "output_type": "execute_result"
    }
   ],
   "source": [
    "def jaccard_similarity(list1, list2):\n",
    "    s1 = set(list1)\n",
    "    s2 = set(list2)\n",
    "    return float(len(s1.intersection(s2)) / len(s1.union(s2)))\n",
    "list1 = words_from_suspicious\n",
    "list2 = words_from_source\n",
    "jaccard_similarity(list1, list2)"
   ]
  },
  {
   "cell_type": "code",
   "execution_count": 120,
   "id": "9b8b3ce9",
   "metadata": {},
   "outputs": [],
   "source": [
    "from nltk.stem import WordNetLemmatizer\n",
    "from nltk.corpus import wordnet as wn\n",
    "lemmatizer = WordNetLemmatizer()\n",
    "\n",
    "def nltk_tag_to_wordnet_tag(nltk_tag):\n",
    "    if nltk_tag.startswith('J'):\n",
    "        return \"a\"\n",
    "    elif nltk_tag.startswith('V'):\n",
    "        return \"v\"\n",
    "    elif nltk_tag.startswith('N'):\n",
    "        return \"n\"\n",
    "    elif nltk_tag.startswith('R'):\n",
    "        return \"r\"\n",
    "    else:         \n",
    "        return \"other\"  \n",
    "    "
   ]
  },
  {
   "cell_type": "code",
   "execution_count": 121,
   "id": "b31044d7",
   "metadata": {},
   "outputs": [
    {
     "name": "stdout",
     "output_type": "stream",
     "text": [
      "[('couple', 'n'), ('play', 'n'), ('tide', 'n'), ('young', 'a'), ('son', 'n')]\n",
      "[('family', 'n'), ('outside', 'other')]\n"
     ]
    },
    {
     "data": {
      "text/plain": [
       "5"
      ]
     },
     "execution_count": 121,
     "metadata": {},
     "output_type": "execute_result"
    }
   ],
   "source": [
    "def lemmatizing_with_wntag(words):\n",
    "    lematized_words = list()\n",
    "    for word, pos in words:\n",
    "        temp = tuple()\n",
    "        wn_tag = nltk_tag_to_wordnet_tag(pos)\n",
    "        if wn_tag != \"other\":\n",
    "            lemmatized_word = lemmatizer.lemmatize(word,wn_tag)\n",
    "        else:\n",
    "            lemmatized_word = lemmatizer.lemmatize(word)\n",
    "        temp = (lemmatized_word,wn_tag)\n",
    "        lematized_words.append(temp)\n",
    "    return lematized_words\n",
    "words_suspicious_with_wntag = lemmatizing_with_wntag(words_from_suspicious)\n",
    "words_source_with_wntag = lemmatizing_with_wntag(words_from_source)\n",
    "print(words_suspicious_with_wntag)\n",
    "print(words_source_with_wntag)\n",
    "len(words_suspicious_with_wntag)"
   ]
  },
  {
   "cell_type": "code",
   "execution_count": 122,
   "id": "ac03f0cb",
   "metadata": {},
   "outputs": [
    {
     "data": {
      "text/plain": [
       "0.0"
      ]
     },
     "execution_count": 122,
     "metadata": {},
     "output_type": "execute_result"
    }
   ],
   "source": [
    "def jaccard_similarity(list1, list2):\n",
    "    s1 = set(list1)\n",
    "    s2 = set(list2)\n",
    "    return float(len(s1.intersection(s2)) / len(s1.union(s2)))\n",
    "list1 = words_suspicious_with_wntag\n",
    "list2 = words_source_with_wntag\n",
    "jaccard_similarity(list1, list2)"
   ]
  },
  {
   "cell_type": "code",
   "execution_count": null,
   "id": "690e0b6e",
   "metadata": {},
   "outputs": [],
   "source": []
  },
  {
   "cell_type": "code",
   "execution_count": 123,
   "id": "db41ac84",
   "metadata": {},
   "outputs": [
    {
     "name": "stdout",
     "output_type": "stream",
     "text": [
      "{'couple': [Synset('couple.n.01'), Synset('couple.n.02'), Synset('couple.n.03'), Synset('couple.n.04'), Synset('couple.n.05')], 'play': [Synset('play.n.01'), Synset('play.n.02'), Synset('play.n.03'), Synset('maneuver.n.03'), Synset('play.n.05'), Synset('play.n.06'), Synset('bid.n.02'), Synset('play.n.08'), Synset('playing_period.n.01'), Synset('free_rein.n.01'), Synset('shimmer.n.01'), Synset('fun.n.02'), Synset('looseness.n.05'), Synset('play.n.14'), Synset('turn.n.03'), Synset('gambling.n.01'), Synset('play.n.17')], 'tide': [Synset('tide.n.01'), Synset('tide.n.02'), Synset('tide.n.03')], 'young': [Synset('young.n.01'), Synset('young.n.02'), Synset('young.n.03'), Synset('young.n.04'), Synset('young.n.05'), Synset('young.n.06'), Synset('young.n.07'), Synset('young.n.08'), Synset('young.n.09'), Synset('young.a.01'), Synset('new.s.10'), Synset('youthful.s.01'), Synset('young.s.04'), Synset('unseasoned.s.03')], 'son': [Synset('son.n.01'), Synset('son.n.02')]}\n"
     ]
    }
   ],
   "source": [
    "def finding_synsets(token):\n",
    "    synsets = dict()\n",
    "    for word , pos in token:\n",
    "        if pos.startswith('j'):\n",
    "            tb=wn.synsets(word,wn.ADJ)\n",
    "        elif pos.startswith('v'):\n",
    "            tb=wn.synsets(word,wn.VERB)\n",
    "        elif pos.startswith('n'):\n",
    "            tb=wn.synsets(word,wn.NOUN)\n",
    "        elif pos.startswith('r'):\n",
    "            tb=wn.synsets(word,wn.ADV)\n",
    "        else:\n",
    "            tb=wn.synsets(word)\n",
    "    \n",
    "        synsets[word]=tb\n",
    "    return synsets\n",
    "synsets_of_suspicious = finding_synsets(words_suspicious_with_wntag)\n",
    "print(synsets_of_suspicious)"
   ]
  },
  {
   "cell_type": "code",
   "execution_count": 124,
   "id": "2df6c64b",
   "metadata": {},
   "outputs": [
    {
     "name": "stdout",
     "output_type": "stream",
     "text": [
      "{'couple': ['duad', 'yoke', 'twosome', 'dyad', 'span', 'duo', 'brace', 'duet', 'match', 'couplet', 'twain', 'couple', 'distich', 'pair', 'mates'], 'play': ['dramatic_play', 'drama', 'frolic', 'fun', 'bid', 'turn', 'gaming', \"child's_play\", 'free_rein', 'play', 'playing_period', 'sport', 'manoeuvre', 'period_of_play', 'gambling', 'gambol', 'maneuver', 'romp', 'swordplay', 'shimmer', 'caper', 'looseness'], 'tide': ['tide', 'lunar_time_period'], 'young': ['danton_true_young', 'untried', 'whitney_moore_young_jr.', 'cy_young', 'untested', 'youth', 'offspring', 'young', 'loretta_young', 'youthful', 'lester_willis_young', 'immature', 'thomas_young', 'new', 'edward_young', 'brigham_young', 'vernal', 'unseasoned', 'whitney_young', 'pres_young'], 'son': ['boy', 'son', 'logos', 'word']}\n"
     ]
    },
    {
     "data": {
      "text/plain": [
       "5"
      ]
     },
     "execution_count": 124,
     "metadata": {},
     "output_type": "execute_result"
    }
   ],
   "source": [
    "def finding_similar_word(synsets):\n",
    "    similar_word = dict()\n",
    "    for word in synsets:\n",
    "        synset_word = synsets[word]\n",
    "        temp = list()\n",
    "\n",
    "        for syn in synset_word:\n",
    "            for l in syn.lemmas():\n",
    "                temp.append(l.name().lower())\n",
    "            \n",
    "        temp = list(set(temp))\n",
    "        similar_word[word]=temp\n",
    "    return similar_word\n",
    "similar_words_suspicious = finding_similar_word(synsets_of_suspicious)\n",
    "print(similar_words_suspicious)\n",
    "len(similar_words_suspicious)"
   ]
  },
  {
   "cell_type": "code",
   "execution_count": 125,
   "id": "c7cdba3b",
   "metadata": {},
   "outputs": [
    {
     "name": "stdout",
     "output_type": "stream",
     "text": [
      "[('family', 'n'), ('outside', 'other')]\n"
     ]
    }
   ],
   "source": [
    "print(words_source_with_wntag)"
   ]
  },
  {
   "cell_type": "code",
   "execution_count": 126,
   "id": "735c514e",
   "metadata": {},
   "outputs": [
    {
     "name": "stdout",
     "output_type": "stream",
     "text": [
      "[('family', 'n'), ('outside', 'other')]\n"
     ]
    },
    {
     "data": {
      "text/plain": [
       "2"
      ]
     },
     "execution_count": 126,
     "metadata": {},
     "output_type": "execute_result"
    }
   ],
   "source": [
    "def checking_similar_with_source(token_from_source):\n",
    "    modified_source_token =list()\n",
    "    for word , pos in words_source_with_wntag:\n",
    "        temp =tuple()\n",
    "        #print(word,pos)\n",
    "        for key in similar_words_suspicious:\n",
    "            #print(key)\n",
    "            if word in similar_words_suspicious[key]:\n",
    "                temp=(key,pos)\n",
    "                #break\n",
    "        #print(len(temp))\n",
    "        if len(temp) != 0 :\n",
    "            modified_source_token.append(temp)\n",
    "        else:\n",
    "            temp = (word,pos)\n",
    "            modified_source_token.append(temp)\n",
    "        #print(temp)\n",
    "    return modified_source_token\n",
    "new_words_source_with_wntag = checking_similar_with_source(words_source_with_wntag)\n",
    "print(new_words_source_with_wntag)\n",
    "len(new_words_source_with_wntag)"
   ]
  },
  {
   "cell_type": "code",
   "execution_count": 127,
   "id": "2647298f",
   "metadata": {},
   "outputs": [
    {
     "data": {
      "text/plain": [
       "0.0"
      ]
     },
     "execution_count": 127,
     "metadata": {},
     "output_type": "execute_result"
    }
   ],
   "source": [
    "def jaccard_similarity(list1, list2):\n",
    "    s1 = set(list1)\n",
    "    s2 = set(list2)\n",
    "    return float(len(s1.intersection(s2)) / len(s1.union(s2)))\n",
    "list1 = words_suspicious_with_wntag\n",
    "list2 = new_words_source_with_wntag\n",
    "jaccard_similarity(list1, list2)"
   ]
  },
  {
   "cell_type": "code",
   "execution_count": null,
   "id": "1ca7c780",
   "metadata": {},
   "outputs": [],
   "source": []
  },
  {
   "cell_type": "code",
   "execution_count": null,
   "id": "fdc7eef8",
   "metadata": {},
   "outputs": [],
   "source": []
  }
 ],
 "metadata": {
  "kernelspec": {
   "display_name": "Python 3 (ipykernel)",
   "language": "python",
   "name": "python3"
  },
  "language_info": {
   "codemirror_mode": {
    "name": "ipython",
    "version": 3
   },
   "file_extension": ".py",
   "mimetype": "text/x-python",
   "name": "python",
   "nbconvert_exporter": "python",
   "pygments_lexer": "ipython3",
   "version": "3.9.13"
  }
 },
 "nbformat": 4,
 "nbformat_minor": 5
}
