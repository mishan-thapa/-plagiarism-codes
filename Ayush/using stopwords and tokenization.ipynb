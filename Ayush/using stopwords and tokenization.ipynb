{
 "cells": [
  {
   "cell_type": "code",
   "execution_count": 2,
   "id": "f4d177aa",
   "metadata": {},
   "outputs": [
    {
     "name": "stdout",
     "output_type": "stream",
     "text": [
      "['दुई', 'चरणको', 'छलफल', 'भएको', 'छ', 'तर', 'कुरा', 'मिलेको', 'छैन', 'संसद्', 'सचिवालयका', 'एक', 'अधिकारीले', 'राजधानीसँग', 'भने', 'छलफलमा']\n",
      "['चरणको', 'छलफल', 'मिलेको', 'संसद्', 'सचिवालयका', 'अधिकारीले', 'राजधानीसँग', 'छलफलमा']\n"
     ]
    }
   ],
   "source": [
    "from modules.tokenize import tokenize\n",
    "suspicious_text =\"। ‘दुई चरणको छलफल भएको छ तर कुरा मिलेको छैन,’ संसद् सचिवालयका एक अधिकारीले राजधानीसँग भने। छलफलमा \"\n",
    "tokenize = tokenize(suspicious_text)\n",
    "\n",
    "tok_word = tokenize.word_tokenize()\n",
    "print(tok_word)\n",
    "from modules.stopwords import stopwords\n",
    "stopwords = stopwords(tok_word)\n",
    "print(stopwords.stopword_removal())"
   ]
  },
  {
   "cell_type": "code",
   "execution_count": null,
   "id": "d43f2d45",
   "metadata": {},
   "outputs": [],
   "source": []
  }
 ],
 "metadata": {
  "kernelspec": {
   "display_name": "Python 3 (ipykernel)",
   "language": "python",
   "name": "python3"
  },
  "language_info": {
   "codemirror_mode": {
    "name": "ipython",
    "version": 3
   },
   "file_extension": ".py",
   "mimetype": "text/x-python",
   "name": "python",
   "nbconvert_exporter": "python",
   "pygments_lexer": "ipython3",
   "version": "3.9.13"
  }
 },
 "nbformat": 4,
 "nbformat_minor": 5
}
