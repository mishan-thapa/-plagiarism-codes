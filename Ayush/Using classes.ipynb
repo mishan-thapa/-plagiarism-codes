{
 "cells": [
  {
   "cell_type": "markdown",
   "id": "8b8c5007",
   "metadata": {},
   "source": [
    "# Using classes"
   ]
  },
  {
   "cell_type": "code",
   "execution_count": 9,
   "id": "f4d177aa",
   "metadata": {},
   "outputs": [
    {
     "name": "stdout",
     "output_type": "stream",
     "text": [
      "['दुई', 'चरणको', 'छलफल', 'भएको', 'छ', 'तर', 'कुरा', 'मिलेको', 'छैन', 'संसद्', 'सचिवालयका', 'एक', 'अधिकारीले', 'राजधानीसँग', 'भने', 'छलफलमा']\n",
      "['चरणको', 'छलफल', 'मिलेको', 'संसद्', 'सचिवालयका', 'अधिकारीले', 'राजधानीसँग', 'छलफलमा']\n",
      "['चरण', 'छलफल', 'मिल', 'संसद्', 'सचिवालय', 'अधिकारी', 'राजधानी', 'छलफल']\n"
     ]
    }
   ],
   "source": [
    "from modules.tokenize import tokenize\n",
    "suspicious_text =\"। ‘दुई चरणको छलफल भएको छ तर कुरा मिलेको छैन,’ संसद् सचिवालयका एक अधिकारीले राजधानीसँग भने। छलफलमा \"\n",
    "tokenize = tokenize()\n",
    "                    \n",
    "\n",
    "tok_word = tokenize.word_tokenize(suspicious_text)\n",
    "print(tok_word)\n",
    "from modules.stopwords import stopwords\n",
    "stopwords = stopwords()\n",
    "tok_word_without_stopwords = stopwords.stopword_removal(tok_word)\n",
    "print(tok_word_without_stopwords)\n",
    "from modules.stemming import stemming\n",
    "stemmer = stemming()\n",
    "stemized_list = stemmer.word_stemmer(tok_word_without_stopwords)\n",
    "print(stemized_list)"
   ]
  },
  {
   "cell_type": "markdown",
   "id": "d955b2ad",
   "metadata": {},
   "source": [
    "# Importing CSV file"
   ]
  },
  {
   "cell_type": "code",
   "execution_count": 17,
   "id": "8630ae7a",
   "metadata": {},
   "outputs": [],
   "source": [
    "import pandas as pd\n",
    "import numpy\n",
    "df = pd.read_csv('nepalineww.csv', encoding = 'utf-8')"
   ]
  },
  {
   "cell_type": "code",
   "execution_count": 18,
   "id": "745d3252",
   "metadata": {},
   "outputs": [],
   "source": [
    "tok_nepali_or =list()\n",
    "tok_nepali_sus = list()\n",
    "for i in range(0,len(df)):\n",
    "    original = df.orignal_nepali[i]\n",
    "    suspicious = df.suspicious_nepali[i]\n",
    "    \n",
    "    from modules.tokenize import tokenize\n",
    "    ori_tokenize = tokenize(original)\n",
    "    ori_tok_word = ori_tokenize.word_tokenize()\n",
    "    from modules.stopwords import stopwords\n",
    "    stopwords = stopwords(ori_tok_word)\n",
    "    ori=stopwords.stopword_removal()\n",
    "    \n",
    "    from modules.tokenize import tokenize\n",
    "    sus_tokenize = tokenize(suspicious)\n",
    "    sus_tok_word = sus_tokenize.word_tokenize()\n",
    "    from modules.stopwords import stopwords\n",
    "    stopwords = stopwords(sus_tok_word)\n",
    "    sus=stopwords.stopword_removal()\n",
    "    tok_nepali_or.append(ori)\n",
    "    tok_nepali_sus.append(sus)\n",
    "df['original'] = tok_nepali_or\n",
    "df['suspicious'] = tok_nepali_sus\n",
    "df.to_csv('nepalinewwww.csv',index=False)"
   ]
  },
  {
   "cell_type": "code",
   "execution_count": 19,
   "id": "9da88c67",
   "metadata": {},
   "outputs": [
    {
     "data": {
      "text/html": [
       "<div>\n",
       "<style scoped>\n",
       "    .dataframe tbody tr th:only-of-type {\n",
       "        vertical-align: middle;\n",
       "    }\n",
       "\n",
       "    .dataframe tbody tr th {\n",
       "        vertical-align: top;\n",
       "    }\n",
       "\n",
       "    .dataframe thead th {\n",
       "        text-align: right;\n",
       "    }\n",
       "</style>\n",
       "<table border=\"1\" class=\"dataframe\">\n",
       "  <thead>\n",
       "    <tr style=\"text-align: right;\">\n",
       "      <th></th>\n",
       "      <th>orignal_nepali</th>\n",
       "      <th>suspicious_nepali</th>\n",
       "      <th>label</th>\n",
       "      <th>original</th>\n",
       "      <th>suspicious</th>\n",
       "    </tr>\n",
       "  </thead>\n",
       "  <tbody>\n",
       "    <tr>\n",
       "      <th>0</th>\n",
       "      <td>घोडामा सवार एक व्यक्ति भाँचिएको हवाइजहाजमाथि ह...</td>\n",
       "      <td>एक व्यक्ति डिनरमा छ, ओमलेट अर्डर गर्दै।</td>\n",
       "      <td>0</td>\n",
       "      <td>['घोडामा', 'सवार', 'व्यक्ति', 'भाँचिएको', 'हवा...</td>\n",
       "      <td>['व्यक्ति', 'डिनरमा', 'ओमलेट', 'अर्डर']</td>\n",
       "    </tr>\n",
       "    <tr>\n",
       "      <th>1</th>\n",
       "      <td>घोडामा सवार एक व्यक्ति भाँचिएको हवाइजहाजमाथि ह...</td>\n",
       "      <td>एक व्यक्ति घोडामा, बाहिर छ।</td>\n",
       "      <td>1</td>\n",
       "      <td>['घोडामा', 'सवार', 'व्यक्ति', 'भाँचिएको', 'हवा...</td>\n",
       "      <td>['व्यक्ति', 'घोडामा']</td>\n",
       "    </tr>\n",
       "    <tr>\n",
       "      <th>2</th>\n",
       "      <td>बच्चाहरू मुस्कुराउँदै र क्यामेरामा हात हल्लाउँदै</td>\n",
       "      <td>बच्चाहरु उपस्थित छन्</td>\n",
       "      <td>1</td>\n",
       "      <td>['बच्चाहरू', 'मुस्कुराउँदै', 'क्यामेरामा', 'हा...</td>\n",
       "      <td>['बच्चाहरु', 'उपस्थित']</td>\n",
       "    </tr>\n",
       "    <tr>\n",
       "      <th>3</th>\n",
       "      <td>बच्चाहरू मुस्कुराउँदै र क्यामेरामा हात हल्लाउँदै</td>\n",
       "      <td>केटाकेटीहरु निहुरिरहेका छन्</td>\n",
       "      <td>0</td>\n",
       "      <td>['बच्चाहरू', 'मुस्कुराउँदै', 'क्यामेरामा', 'हा...</td>\n",
       "      <td>['केटाकेटीहरु', 'निहुरिरहेका']</td>\n",
       "    </tr>\n",
       "    <tr>\n",
       "      <th>4</th>\n",
       "      <td>एउटा केटा रातो पुलको बीचमा स्केटबोर्डमा हाम फा...</td>\n",
       "      <td>केटा फुटपाथ तल स्केट गर्दै।</td>\n",
       "      <td>0</td>\n",
       "      <td>['केटा', 'रातो', 'पुलको', 'स्केटबोर्डमा', 'फाल...</td>\n",
       "      <td>['केटा', 'फुटपाथ', 'स्केट']</td>\n",
       "    </tr>\n",
       "  </tbody>\n",
       "</table>\n",
       "</div>"
      ],
      "text/plain": [
       "                                      orignal_nepali  \\\n",
       "0  घोडामा सवार एक व्यक्ति भाँचिएको हवाइजहाजमाथि ह...   \n",
       "1  घोडामा सवार एक व्यक्ति भाँचिएको हवाइजहाजमाथि ह...   \n",
       "2   बच्चाहरू मुस्कुराउँदै र क्यामेरामा हात हल्लाउँदै   \n",
       "3   बच्चाहरू मुस्कुराउँदै र क्यामेरामा हात हल्लाउँदै   \n",
       "4  एउटा केटा रातो पुलको बीचमा स्केटबोर्डमा हाम फा...   \n",
       "\n",
       "                         suspicious_nepali  label  \\\n",
       "0  एक व्यक्ति डिनरमा छ, ओमलेट अर्डर गर्दै।      0   \n",
       "1              एक व्यक्ति घोडामा, बाहिर छ।      1   \n",
       "2                     बच्चाहरु उपस्थित छन्      1   \n",
       "3              केटाकेटीहरु निहुरिरहेका छन्      0   \n",
       "4              केटा फुटपाथ तल स्केट गर्दै।      0   \n",
       "\n",
       "                                            original  \\\n",
       "0  ['घोडामा', 'सवार', 'व्यक्ति', 'भाँचिएको', 'हवा...   \n",
       "1  ['घोडामा', 'सवार', 'व्यक्ति', 'भाँचिएको', 'हवा...   \n",
       "2  ['बच्चाहरू', 'मुस्कुराउँदै', 'क्यामेरामा', 'हा...   \n",
       "3  ['बच्चाहरू', 'मुस्कुराउँदै', 'क्यामेरामा', 'हा...   \n",
       "4  ['केटा', 'रातो', 'पुलको', 'स्केटबोर्डमा', 'फाल...   \n",
       "\n",
       "                                suspicious  \n",
       "0  ['व्यक्ति', 'डिनरमा', 'ओमलेट', 'अर्डर']  \n",
       "1                    ['व्यक्ति', 'घोडामा']  \n",
       "2                  ['बच्चाहरु', 'उपस्थित']  \n",
       "3           ['केटाकेटीहरु', 'निहुरिरहेका']  \n",
       "4              ['केटा', 'फुटपाथ', 'स्केट']  "
      ]
     },
     "execution_count": 19,
     "metadata": {},
     "output_type": "execute_result"
    }
   ],
   "source": [
    "import pandas as pd\n",
    "import numpy\n",
    "df = pd.read_csv('nepalinewwww.csv', encoding = 'utf-8')\n",
    "df.head()"
   ]
  },
  {
   "cell_type": "code",
   "execution_count": null,
   "id": "e124aa2e",
   "metadata": {},
   "outputs": [],
   "source": []
  }
 ],
 "metadata": {
  "kernelspec": {
   "display_name": "Python 3 (ipykernel)",
   "language": "python",
   "name": "python3"
  },
  "language_info": {
   "codemirror_mode": {
    "name": "ipython",
    "version": 3
   },
   "file_extension": ".py",
   "mimetype": "text/x-python",
   "name": "python",
   "nbconvert_exporter": "python",
   "pygments_lexer": "ipython3",
   "version": "3.9.13"
  }
 },
 "nbformat": 4,
 "nbformat_minor": 5
}
