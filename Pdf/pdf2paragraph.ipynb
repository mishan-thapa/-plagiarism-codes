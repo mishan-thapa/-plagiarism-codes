{
 "cells": [
  {
   "cell_type": "code",
   "execution_count": 5,
   "id": "72a90fa1",
   "metadata": {},
   "outputs": [],
   "source": [
    " from pdfminer.high_level import extract_text\n",
    " \n",
    "text = extract_text(\"original.pdf\")\n",
    "output_file = open(\"original.txt\", \"w\")\n",
    "output_file.write(text)\n",
    "output_file.close()"
   ]
  },
  {
   "cell_type": "code",
   "execution_count": 10,
   "id": "ef5d179d",
   "metadata": {},
   "outputs": [],
   "source": [
    "import re\n",
    "\n",
    "# Open the text file\n",
    "with open(\"test.txt\", \"r\") as file:\n",
    "    text = file.read()\n",
    "\n",
    "# Split the text into paragraphs\n",
    "paragraphs = re.split(r\"(?:\\r\\n|\\r|\\n){2,}\", text)"
   ]
  },
  {
   "cell_type": "code",
   "execution_count": 11,
   "id": "40574af2",
   "metadata": {},
   "outputs": [],
   "source": [
    "paragraphs_array = []\n",
    "for paragraph in paragraphs:\n",
    "    paragraphs_array.append(paragraph)"
   ]
  },
  {
   "cell_type": "code",
   "execution_count": 12,
   "id": "e0338788",
   "metadata": {},
   "outputs": [
    {
     "name": "stdout",
     "output_type": "stream",
     "text": [
      "कोइरालाले सरकार पक्ष र विपक्षी दुबै भारतको दिल्लीमा भएको १२ बुँदे सम्झौता विपरित आन्दोलनमा उत्रिएको आरोप लगाउनुभयो । नेतृ कोइरालाले आन्दोलन भन्दा विपक्षी वर्तमान सरकारमै सहभागी भएर अघि बढे एमाओवादीलाई परास्त गर्न सकिने वताउनुभयो ।\n"
     ]
    }
   ],
   "source": [
    "print(paragraphs_array[2])"
   ]
  },
  {
   "cell_type": "code",
   "execution_count": null,
   "id": "649fc7d7",
   "metadata": {},
   "outputs": [],
   "source": []
  }
 ],
 "metadata": {
  "kernelspec": {
   "display_name": "Python 3 (ipykernel)",
   "language": "python",
   "name": "python3"
  },
  "language_info": {
   "codemirror_mode": {
    "name": "ipython",
    "version": 3
   },
   "file_extension": ".py",
   "mimetype": "text/x-python",
   "name": "python",
   "nbconvert_exporter": "python",
   "pygments_lexer": "ipython3",
   "version": "3.9.13"
  }
 },
 "nbformat": 4,
 "nbformat_minor": 5
}
