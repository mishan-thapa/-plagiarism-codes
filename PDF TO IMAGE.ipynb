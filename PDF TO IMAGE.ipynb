{
 "cells": [
  {
   "cell_type": "code",
   "execution_count": 1,
   "id": "7b1a2bd1",
   "metadata": {},
   "outputs": [],
   "source": [
    "import fitz\n",
    "from PIL import Image\n",
    "import pytesseract\n",
    "import io"
   ]
  },
  {
   "cell_type": "code",
   "execution_count": 2,
   "id": "c7929a44",
   "metadata": {},
   "outputs": [],
   "source": [
    "custom_config = r'-l nep --oem 3 --psm 6'\n",
    "pytesseract.pytesseract.tesseract_cmd = r'C:\\Program Files\\Tesseract-OCR\\tesseract.exe'"
   ]
  },
  {
   "cell_type": "code",
   "execution_count": 3,
   "id": "8a800283",
   "metadata": {},
   "outputs": [
    {
     "name": "stdout",
     "output_type": "stream",
     "text": [
      "<class 'PIL.PngImagePlugin.PngImageFile'>\n",
      "<class 'str'>\n"
     ]
    }
   ],
   "source": [
    "import fitz\n",
    "\n",
    "# Function to convert PDF to image\n",
    "def pdf_to_image(pdf_file, dpi=300):\n",
    "    # Open the PDF file\n",
    "    pdf = fitz.open(pdf_file)\n",
    "    # Get the current page\n",
    "    page = pdf[120]\n",
    "    # Render the page to an image\n",
    "    pix = page.get_pixmap(dpi=dpi, alpha=False)\n",
    "    byte_obj = pix.pil_tobytes(format=\"png\", optimize=True)\n",
    "    img = Image.open(io.BytesIO(byte_obj))\n",
    "    print(type(img))\n",
    "    img.show()\n",
    "#     pix.pil_save('page1.png')\n",
    "    text = pytesseract.image_to_string(img, config=custom_config)\n",
    "    print(text))\n",
    "    with open('file.txt', mode = 'w',encoding=\"utf-8\") as f:\n",
    "        f.write(text)\n",
    "    # Close the PDF file\n",
    "    pdf.close()\n",
    "\n",
    "# Convert the PDF to images\n",
    "pdf_to_image(\"Thesis.pdf\")"
   ]
  },
  {
   "cell_type": "code",
   "execution_count": 13,
   "id": "be8d2f79",
   "metadata": {},
   "outputs": [
    {
     "name": "stdout",
     "output_type": "stream",
     "text": [
      "Defaulting to user installation because normal site-packages is not writeable\n",
      "Requirement already satisfied: pytesseract in c:\\users\\user\\appdata\\roaming\\python\\python310\\site-packages (0.3.10)\n",
      "Requirement already satisfied: packaging>=21.3 in c:\\users\\user\\appdata\\roaming\\python\\python310\\site-packages (from pytesseract) (23.0)\n",
      "Requirement already satisfied: Pillow>=8.0.0 in c:\\users\\user\\appdata\\roaming\\python\\python310\\site-packages (from pytesseract) (9.4.0)\n"
     ]
    }
   ],
   "source": [
    "!pip install pytesseract"
   ]
  },
  {
   "cell_type": "code",
   "execution_count": null,
   "id": "4cddf5db",
   "metadata": {},
   "outputs": [],
   "source": []
  },
  {
   "cell_type": "code",
   "execution_count": null,
   "id": "e534abbf",
   "metadata": {},
   "outputs": [],
   "source": []
  },
  {
   "cell_type": "code",
   "execution_count": null,
   "id": "145c82c1",
   "metadata": {},
   "outputs": [],
   "source": []
  },
  {
   "cell_type": "code",
   "execution_count": null,
   "id": "f54adddb",
   "metadata": {},
   "outputs": [],
   "source": []
  }
 ],
 "metadata": {
  "kernelspec": {
   "display_name": "Python 3 (ipykernel)",
   "language": "python",
   "name": "python3"
  },
  "language_info": {
   "codemirror_mode": {
    "name": "ipython",
    "version": 3
   },
   "file_extension": ".py",
   "mimetype": "text/x-python",
   "name": "python",
   "nbconvert_exporter": "python",
   "pygments_lexer": "ipython3",
   "version": "3.10.9"
  }
 },
 "nbformat": 4,
 "nbformat_minor": 5
}
